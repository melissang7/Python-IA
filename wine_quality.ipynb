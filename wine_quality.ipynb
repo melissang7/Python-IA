{
  "nbformat": 4,
  "nbformat_minor": 0,
  "metadata": {
    "colab": {
      "name": "wine quality.ipynb",
      "provenance": [],
      "collapsed_sections": [],
      "authorship_tag": "ABX9TyMmJJ6WmxfuwimXP7Ll1bGl",
      "include_colab_link": true
    },
    "kernelspec": {
      "name": "python3",
      "display_name": "Python 3"
    },
    "language_info": {
      "name": "python"
    }
  },
  "cells": [
    {
      "cell_type": "markdown",
      "metadata": {
        "id": "view-in-github",
        "colab_type": "text"
      },
      "source": [
        "<a href=\"https://colab.research.google.com/github/melissang7/Python-IA-Melissa/blob/main/wine_quality.ipynb\" target=\"_parent\"><img src=\"https://colab.research.google.com/assets/colab-badge.svg\" alt=\"Open In Colab\"/></a>"
      ]
    },
    {
      "cell_type": "code",
      "execution_count": 531,
      "metadata": {
        "id": "UKmOQyt1svhc"
      },
      "outputs": [],
      "source": [
        "import pandas as pd\n",
        "from sklearn.naive_bayes import GaussianNB         #tabela probabilística\n",
        "from sklearn.tree import DecisionTreeClassifier\n",
        "import pandas as pd\n",
        "import pickle\n",
        "import seaborn as sns\n",
        "import matplotlib.pyplot as plt\n",
        "import plotly.express as px \n",
        "from sklearn.svm import SVC"
      ]
    },
    {
      "cell_type": "code",
      "source": [
        "base_wine = pd.read_csv('/content/winequality-red.csv', sep =';')\n",
        "base_wine "
      ],
      "metadata": {
        "colab": {
          "base_uri": "https://localhost:8080/",
          "height": 424
        },
        "id": "hW4ICmMwtaoE",
        "outputId": "a7792bb0-f16b-4f2d-8269-1d97c8a26a66"
      },
      "execution_count": 532,
      "outputs": [
        {
          "output_type": "execute_result",
          "data": {
            "text/plain": [
              "      fixed acidity  volatile acidity  citric acid  residual sugar  chlorides  \\\n",
              "0               7.4             0.700         0.00             1.9      0.076   \n",
              "1               7.8             0.880         0.00             2.6      0.098   \n",
              "2               7.8             0.760         0.04             2.3      0.092   \n",
              "3              11.2             0.280         0.56             1.9      0.075   \n",
              "4               7.4             0.700         0.00             1.9      0.076   \n",
              "...             ...               ...          ...             ...        ...   \n",
              "1594            6.2             0.600         0.08             2.0      0.090   \n",
              "1595            5.9             0.550         0.10             2.2      0.062   \n",
              "1596            6.3             0.510         0.13             2.3      0.076   \n",
              "1597            5.9             0.645         0.12             2.0      0.075   \n",
              "1598            6.0             0.310         0.47             3.6      0.067   \n",
              "\n",
              "      free sulfur dioxide  total sulfur dioxide  density    pH  sulphates  \\\n",
              "0                    11.0                  34.0  0.99780  3.51       0.56   \n",
              "1                    25.0                  67.0  0.99680  3.20       0.68   \n",
              "2                    15.0                  54.0  0.99700  3.26       0.65   \n",
              "3                    17.0                  60.0  0.99800  3.16       0.58   \n",
              "4                    11.0                  34.0  0.99780  3.51       0.56   \n",
              "...                   ...                   ...      ...   ...        ...   \n",
              "1594                 32.0                  44.0  0.99490  3.45       0.58   \n",
              "1595                 39.0                  51.0  0.99512  3.52       0.76   \n",
              "1596                 29.0                  40.0  0.99574  3.42       0.75   \n",
              "1597                 32.0                  44.0  0.99547  3.57       0.71   \n",
              "1598                 18.0                  42.0  0.99549  3.39       0.66   \n",
              "\n",
              "      alcohol  quality  \n",
              "0         9.4        5  \n",
              "1         9.8        5  \n",
              "2         9.8        5  \n",
              "3         9.8        6  \n",
              "4         9.4        5  \n",
              "...       ...      ...  \n",
              "1594     10.5        5  \n",
              "1595     11.2        6  \n",
              "1596     11.0        6  \n",
              "1597     10.2        5  \n",
              "1598     11.0        6  \n",
              "\n",
              "[1599 rows x 12 columns]"
            ],
            "text/html": [
              "\n",
              "  <div id=\"df-cb9a691c-5263-4bec-98c4-7e70eb7e8852\">\n",
              "    <div class=\"colab-df-container\">\n",
              "      <div>\n",
              "<style scoped>\n",
              "    .dataframe tbody tr th:only-of-type {\n",
              "        vertical-align: middle;\n",
              "    }\n",
              "\n",
              "    .dataframe tbody tr th {\n",
              "        vertical-align: top;\n",
              "    }\n",
              "\n",
              "    .dataframe thead th {\n",
              "        text-align: right;\n",
              "    }\n",
              "</style>\n",
              "<table border=\"1\" class=\"dataframe\">\n",
              "  <thead>\n",
              "    <tr style=\"text-align: right;\">\n",
              "      <th></th>\n",
              "      <th>fixed acidity</th>\n",
              "      <th>volatile acidity</th>\n",
              "      <th>citric acid</th>\n",
              "      <th>residual sugar</th>\n",
              "      <th>chlorides</th>\n",
              "      <th>free sulfur dioxide</th>\n",
              "      <th>total sulfur dioxide</th>\n",
              "      <th>density</th>\n",
              "      <th>pH</th>\n",
              "      <th>sulphates</th>\n",
              "      <th>alcohol</th>\n",
              "      <th>quality</th>\n",
              "    </tr>\n",
              "  </thead>\n",
              "  <tbody>\n",
              "    <tr>\n",
              "      <th>0</th>\n",
              "      <td>7.4</td>\n",
              "      <td>0.700</td>\n",
              "      <td>0.00</td>\n",
              "      <td>1.9</td>\n",
              "      <td>0.076</td>\n",
              "      <td>11.0</td>\n",
              "      <td>34.0</td>\n",
              "      <td>0.99780</td>\n",
              "      <td>3.51</td>\n",
              "      <td>0.56</td>\n",
              "      <td>9.4</td>\n",
              "      <td>5</td>\n",
              "    </tr>\n",
              "    <tr>\n",
              "      <th>1</th>\n",
              "      <td>7.8</td>\n",
              "      <td>0.880</td>\n",
              "      <td>0.00</td>\n",
              "      <td>2.6</td>\n",
              "      <td>0.098</td>\n",
              "      <td>25.0</td>\n",
              "      <td>67.0</td>\n",
              "      <td>0.99680</td>\n",
              "      <td>3.20</td>\n",
              "      <td>0.68</td>\n",
              "      <td>9.8</td>\n",
              "      <td>5</td>\n",
              "    </tr>\n",
              "    <tr>\n",
              "      <th>2</th>\n",
              "      <td>7.8</td>\n",
              "      <td>0.760</td>\n",
              "      <td>0.04</td>\n",
              "      <td>2.3</td>\n",
              "      <td>0.092</td>\n",
              "      <td>15.0</td>\n",
              "      <td>54.0</td>\n",
              "      <td>0.99700</td>\n",
              "      <td>3.26</td>\n",
              "      <td>0.65</td>\n",
              "      <td>9.8</td>\n",
              "      <td>5</td>\n",
              "    </tr>\n",
              "    <tr>\n",
              "      <th>3</th>\n",
              "      <td>11.2</td>\n",
              "      <td>0.280</td>\n",
              "      <td>0.56</td>\n",
              "      <td>1.9</td>\n",
              "      <td>0.075</td>\n",
              "      <td>17.0</td>\n",
              "      <td>60.0</td>\n",
              "      <td>0.99800</td>\n",
              "      <td>3.16</td>\n",
              "      <td>0.58</td>\n",
              "      <td>9.8</td>\n",
              "      <td>6</td>\n",
              "    </tr>\n",
              "    <tr>\n",
              "      <th>4</th>\n",
              "      <td>7.4</td>\n",
              "      <td>0.700</td>\n",
              "      <td>0.00</td>\n",
              "      <td>1.9</td>\n",
              "      <td>0.076</td>\n",
              "      <td>11.0</td>\n",
              "      <td>34.0</td>\n",
              "      <td>0.99780</td>\n",
              "      <td>3.51</td>\n",
              "      <td>0.56</td>\n",
              "      <td>9.4</td>\n",
              "      <td>5</td>\n",
              "    </tr>\n",
              "    <tr>\n",
              "      <th>...</th>\n",
              "      <td>...</td>\n",
              "      <td>...</td>\n",
              "      <td>...</td>\n",
              "      <td>...</td>\n",
              "      <td>...</td>\n",
              "      <td>...</td>\n",
              "      <td>...</td>\n",
              "      <td>...</td>\n",
              "      <td>...</td>\n",
              "      <td>...</td>\n",
              "      <td>...</td>\n",
              "      <td>...</td>\n",
              "    </tr>\n",
              "    <tr>\n",
              "      <th>1594</th>\n",
              "      <td>6.2</td>\n",
              "      <td>0.600</td>\n",
              "      <td>0.08</td>\n",
              "      <td>2.0</td>\n",
              "      <td>0.090</td>\n",
              "      <td>32.0</td>\n",
              "      <td>44.0</td>\n",
              "      <td>0.99490</td>\n",
              "      <td>3.45</td>\n",
              "      <td>0.58</td>\n",
              "      <td>10.5</td>\n",
              "      <td>5</td>\n",
              "    </tr>\n",
              "    <tr>\n",
              "      <th>1595</th>\n",
              "      <td>5.9</td>\n",
              "      <td>0.550</td>\n",
              "      <td>0.10</td>\n",
              "      <td>2.2</td>\n",
              "      <td>0.062</td>\n",
              "      <td>39.0</td>\n",
              "      <td>51.0</td>\n",
              "      <td>0.99512</td>\n",
              "      <td>3.52</td>\n",
              "      <td>0.76</td>\n",
              "      <td>11.2</td>\n",
              "      <td>6</td>\n",
              "    </tr>\n",
              "    <tr>\n",
              "      <th>1596</th>\n",
              "      <td>6.3</td>\n",
              "      <td>0.510</td>\n",
              "      <td>0.13</td>\n",
              "      <td>2.3</td>\n",
              "      <td>0.076</td>\n",
              "      <td>29.0</td>\n",
              "      <td>40.0</td>\n",
              "      <td>0.99574</td>\n",
              "      <td>3.42</td>\n",
              "      <td>0.75</td>\n",
              "      <td>11.0</td>\n",
              "      <td>6</td>\n",
              "    </tr>\n",
              "    <tr>\n",
              "      <th>1597</th>\n",
              "      <td>5.9</td>\n",
              "      <td>0.645</td>\n",
              "      <td>0.12</td>\n",
              "      <td>2.0</td>\n",
              "      <td>0.075</td>\n",
              "      <td>32.0</td>\n",
              "      <td>44.0</td>\n",
              "      <td>0.99547</td>\n",
              "      <td>3.57</td>\n",
              "      <td>0.71</td>\n",
              "      <td>10.2</td>\n",
              "      <td>5</td>\n",
              "    </tr>\n",
              "    <tr>\n",
              "      <th>1598</th>\n",
              "      <td>6.0</td>\n",
              "      <td>0.310</td>\n",
              "      <td>0.47</td>\n",
              "      <td>3.6</td>\n",
              "      <td>0.067</td>\n",
              "      <td>18.0</td>\n",
              "      <td>42.0</td>\n",
              "      <td>0.99549</td>\n",
              "      <td>3.39</td>\n",
              "      <td>0.66</td>\n",
              "      <td>11.0</td>\n",
              "      <td>6</td>\n",
              "    </tr>\n",
              "  </tbody>\n",
              "</table>\n",
              "<p>1599 rows × 12 columns</p>\n",
              "</div>\n",
              "      <button class=\"colab-df-convert\" onclick=\"convertToInteractive('df-cb9a691c-5263-4bec-98c4-7e70eb7e8852')\"\n",
              "              title=\"Convert this dataframe to an interactive table.\"\n",
              "              style=\"display:none;\">\n",
              "        \n",
              "  <svg xmlns=\"http://www.w3.org/2000/svg\" height=\"24px\"viewBox=\"0 0 24 24\"\n",
              "       width=\"24px\">\n",
              "    <path d=\"M0 0h24v24H0V0z\" fill=\"none\"/>\n",
              "    <path d=\"M18.56 5.44l.94 2.06.94-2.06 2.06-.94-2.06-.94-.94-2.06-.94 2.06-2.06.94zm-11 1L8.5 8.5l.94-2.06 2.06-.94-2.06-.94L8.5 2.5l-.94 2.06-2.06.94zm10 10l.94 2.06.94-2.06 2.06-.94-2.06-.94-.94-2.06-.94 2.06-2.06.94z\"/><path d=\"M17.41 7.96l-1.37-1.37c-.4-.4-.92-.59-1.43-.59-.52 0-1.04.2-1.43.59L10.3 9.45l-7.72 7.72c-.78.78-.78 2.05 0 2.83L4 21.41c.39.39.9.59 1.41.59.51 0 1.02-.2 1.41-.59l7.78-7.78 2.81-2.81c.8-.78.8-2.07 0-2.86zM5.41 20L4 18.59l7.72-7.72 1.47 1.35L5.41 20z\"/>\n",
              "  </svg>\n",
              "      </button>\n",
              "      \n",
              "  <style>\n",
              "    .colab-df-container {\n",
              "      display:flex;\n",
              "      flex-wrap:wrap;\n",
              "      gap: 12px;\n",
              "    }\n",
              "\n",
              "    .colab-df-convert {\n",
              "      background-color: #E8F0FE;\n",
              "      border: none;\n",
              "      border-radius: 50%;\n",
              "      cursor: pointer;\n",
              "      display: none;\n",
              "      fill: #1967D2;\n",
              "      height: 32px;\n",
              "      padding: 0 0 0 0;\n",
              "      width: 32px;\n",
              "    }\n",
              "\n",
              "    .colab-df-convert:hover {\n",
              "      background-color: #E2EBFA;\n",
              "      box-shadow: 0px 1px 2px rgba(60, 64, 67, 0.3), 0px 1px 3px 1px rgba(60, 64, 67, 0.15);\n",
              "      fill: #174EA6;\n",
              "    }\n",
              "\n",
              "    [theme=dark] .colab-df-convert {\n",
              "      background-color: #3B4455;\n",
              "      fill: #D2E3FC;\n",
              "    }\n",
              "\n",
              "    [theme=dark] .colab-df-convert:hover {\n",
              "      background-color: #434B5C;\n",
              "      box-shadow: 0px 1px 3px 1px rgba(0, 0, 0, 0.15);\n",
              "      filter: drop-shadow(0px 1px 2px rgba(0, 0, 0, 0.3));\n",
              "      fill: #FFFFFF;\n",
              "    }\n",
              "  </style>\n",
              "\n",
              "      <script>\n",
              "        const buttonEl =\n",
              "          document.querySelector('#df-cb9a691c-5263-4bec-98c4-7e70eb7e8852 button.colab-df-convert');\n",
              "        buttonEl.style.display =\n",
              "          google.colab.kernel.accessAllowed ? 'block' : 'none';\n",
              "\n",
              "        async function convertToInteractive(key) {\n",
              "          const element = document.querySelector('#df-cb9a691c-5263-4bec-98c4-7e70eb7e8852');\n",
              "          const dataTable =\n",
              "            await google.colab.kernel.invokeFunction('convertToInteractive',\n",
              "                                                     [key], {});\n",
              "          if (!dataTable) return;\n",
              "\n",
              "          const docLinkHtml = 'Like what you see? Visit the ' +\n",
              "            '<a target=\"_blank\" href=https://colab.research.google.com/notebooks/data_table.ipynb>data table notebook</a>'\n",
              "            + ' to learn more about interactive tables.';\n",
              "          element.innerHTML = '';\n",
              "          dataTable['output_type'] = 'display_data';\n",
              "          await google.colab.output.renderOutput(dataTable, element);\n",
              "          const docLink = document.createElement('div');\n",
              "          docLink.innerHTML = docLinkHtml;\n",
              "          element.appendChild(docLink);\n",
              "        }\n",
              "      </script>\n",
              "    </div>\n",
              "  </div>\n",
              "  "
            ]
          },
          "metadata": {},
          "execution_count": 532
        }
      ]
    },
    {
      "cell_type": "code",
      "source": [
        "base_wine.describe()"
      ],
      "metadata": {
        "colab": {
          "base_uri": "https://localhost:8080/",
          "height": 300
        },
        "id": "JnIrHKC1talu",
        "outputId": "b83d0674-c36a-4fea-975a-329197109078"
      },
      "execution_count": 533,
      "outputs": [
        {
          "output_type": "execute_result",
          "data": {
            "text/plain": [
              "       fixed acidity  volatile acidity  citric acid  residual sugar  \\\n",
              "count    1599.000000       1599.000000  1599.000000     1599.000000   \n",
              "mean        8.319637          0.527821     0.270976        2.538806   \n",
              "std         1.741096          0.179060     0.194801        1.409928   \n",
              "min         4.600000          0.120000     0.000000        0.900000   \n",
              "25%         7.100000          0.390000     0.090000        1.900000   \n",
              "50%         7.900000          0.520000     0.260000        2.200000   \n",
              "75%         9.200000          0.640000     0.420000        2.600000   \n",
              "max        15.900000          1.580000     1.000000       15.500000   \n",
              "\n",
              "         chlorides  free sulfur dioxide  total sulfur dioxide      density  \\\n",
              "count  1599.000000          1599.000000           1599.000000  1599.000000   \n",
              "mean      0.087467            15.874922             46.467792     0.996747   \n",
              "std       0.047065            10.460157             32.895324     0.001887   \n",
              "min       0.012000             1.000000              6.000000     0.990070   \n",
              "25%       0.070000             7.000000             22.000000     0.995600   \n",
              "50%       0.079000            14.000000             38.000000     0.996750   \n",
              "75%       0.090000            21.000000             62.000000     0.997835   \n",
              "max       0.611000            72.000000            289.000000     1.003690   \n",
              "\n",
              "                pH    sulphates      alcohol      quality  \n",
              "count  1599.000000  1599.000000  1599.000000  1599.000000  \n",
              "mean      3.311113     0.658149    10.422983     5.636023  \n",
              "std       0.154386     0.169507     1.065668     0.807569  \n",
              "min       2.740000     0.330000     8.400000     3.000000  \n",
              "25%       3.210000     0.550000     9.500000     5.000000  \n",
              "50%       3.310000     0.620000    10.200000     6.000000  \n",
              "75%       3.400000     0.730000    11.100000     6.000000  \n",
              "max       4.010000     2.000000    14.900000     8.000000  "
            ],
            "text/html": [
              "\n",
              "  <div id=\"df-10a3c44c-d13f-4144-a999-8a99a4e2717b\">\n",
              "    <div class=\"colab-df-container\">\n",
              "      <div>\n",
              "<style scoped>\n",
              "    .dataframe tbody tr th:only-of-type {\n",
              "        vertical-align: middle;\n",
              "    }\n",
              "\n",
              "    .dataframe tbody tr th {\n",
              "        vertical-align: top;\n",
              "    }\n",
              "\n",
              "    .dataframe thead th {\n",
              "        text-align: right;\n",
              "    }\n",
              "</style>\n",
              "<table border=\"1\" class=\"dataframe\">\n",
              "  <thead>\n",
              "    <tr style=\"text-align: right;\">\n",
              "      <th></th>\n",
              "      <th>fixed acidity</th>\n",
              "      <th>volatile acidity</th>\n",
              "      <th>citric acid</th>\n",
              "      <th>residual sugar</th>\n",
              "      <th>chlorides</th>\n",
              "      <th>free sulfur dioxide</th>\n",
              "      <th>total sulfur dioxide</th>\n",
              "      <th>density</th>\n",
              "      <th>pH</th>\n",
              "      <th>sulphates</th>\n",
              "      <th>alcohol</th>\n",
              "      <th>quality</th>\n",
              "    </tr>\n",
              "  </thead>\n",
              "  <tbody>\n",
              "    <tr>\n",
              "      <th>count</th>\n",
              "      <td>1599.000000</td>\n",
              "      <td>1599.000000</td>\n",
              "      <td>1599.000000</td>\n",
              "      <td>1599.000000</td>\n",
              "      <td>1599.000000</td>\n",
              "      <td>1599.000000</td>\n",
              "      <td>1599.000000</td>\n",
              "      <td>1599.000000</td>\n",
              "      <td>1599.000000</td>\n",
              "      <td>1599.000000</td>\n",
              "      <td>1599.000000</td>\n",
              "      <td>1599.000000</td>\n",
              "    </tr>\n",
              "    <tr>\n",
              "      <th>mean</th>\n",
              "      <td>8.319637</td>\n",
              "      <td>0.527821</td>\n",
              "      <td>0.270976</td>\n",
              "      <td>2.538806</td>\n",
              "      <td>0.087467</td>\n",
              "      <td>15.874922</td>\n",
              "      <td>46.467792</td>\n",
              "      <td>0.996747</td>\n",
              "      <td>3.311113</td>\n",
              "      <td>0.658149</td>\n",
              "      <td>10.422983</td>\n",
              "      <td>5.636023</td>\n",
              "    </tr>\n",
              "    <tr>\n",
              "      <th>std</th>\n",
              "      <td>1.741096</td>\n",
              "      <td>0.179060</td>\n",
              "      <td>0.194801</td>\n",
              "      <td>1.409928</td>\n",
              "      <td>0.047065</td>\n",
              "      <td>10.460157</td>\n",
              "      <td>32.895324</td>\n",
              "      <td>0.001887</td>\n",
              "      <td>0.154386</td>\n",
              "      <td>0.169507</td>\n",
              "      <td>1.065668</td>\n",
              "      <td>0.807569</td>\n",
              "    </tr>\n",
              "    <tr>\n",
              "      <th>min</th>\n",
              "      <td>4.600000</td>\n",
              "      <td>0.120000</td>\n",
              "      <td>0.000000</td>\n",
              "      <td>0.900000</td>\n",
              "      <td>0.012000</td>\n",
              "      <td>1.000000</td>\n",
              "      <td>6.000000</td>\n",
              "      <td>0.990070</td>\n",
              "      <td>2.740000</td>\n",
              "      <td>0.330000</td>\n",
              "      <td>8.400000</td>\n",
              "      <td>3.000000</td>\n",
              "    </tr>\n",
              "    <tr>\n",
              "      <th>25%</th>\n",
              "      <td>7.100000</td>\n",
              "      <td>0.390000</td>\n",
              "      <td>0.090000</td>\n",
              "      <td>1.900000</td>\n",
              "      <td>0.070000</td>\n",
              "      <td>7.000000</td>\n",
              "      <td>22.000000</td>\n",
              "      <td>0.995600</td>\n",
              "      <td>3.210000</td>\n",
              "      <td>0.550000</td>\n",
              "      <td>9.500000</td>\n",
              "      <td>5.000000</td>\n",
              "    </tr>\n",
              "    <tr>\n",
              "      <th>50%</th>\n",
              "      <td>7.900000</td>\n",
              "      <td>0.520000</td>\n",
              "      <td>0.260000</td>\n",
              "      <td>2.200000</td>\n",
              "      <td>0.079000</td>\n",
              "      <td>14.000000</td>\n",
              "      <td>38.000000</td>\n",
              "      <td>0.996750</td>\n",
              "      <td>3.310000</td>\n",
              "      <td>0.620000</td>\n",
              "      <td>10.200000</td>\n",
              "      <td>6.000000</td>\n",
              "    </tr>\n",
              "    <tr>\n",
              "      <th>75%</th>\n",
              "      <td>9.200000</td>\n",
              "      <td>0.640000</td>\n",
              "      <td>0.420000</td>\n",
              "      <td>2.600000</td>\n",
              "      <td>0.090000</td>\n",
              "      <td>21.000000</td>\n",
              "      <td>62.000000</td>\n",
              "      <td>0.997835</td>\n",
              "      <td>3.400000</td>\n",
              "      <td>0.730000</td>\n",
              "      <td>11.100000</td>\n",
              "      <td>6.000000</td>\n",
              "    </tr>\n",
              "    <tr>\n",
              "      <th>max</th>\n",
              "      <td>15.900000</td>\n",
              "      <td>1.580000</td>\n",
              "      <td>1.000000</td>\n",
              "      <td>15.500000</td>\n",
              "      <td>0.611000</td>\n",
              "      <td>72.000000</td>\n",
              "      <td>289.000000</td>\n",
              "      <td>1.003690</td>\n",
              "      <td>4.010000</td>\n",
              "      <td>2.000000</td>\n",
              "      <td>14.900000</td>\n",
              "      <td>8.000000</td>\n",
              "    </tr>\n",
              "  </tbody>\n",
              "</table>\n",
              "</div>\n",
              "      <button class=\"colab-df-convert\" onclick=\"convertToInteractive('df-10a3c44c-d13f-4144-a999-8a99a4e2717b')\"\n",
              "              title=\"Convert this dataframe to an interactive table.\"\n",
              "              style=\"display:none;\">\n",
              "        \n",
              "  <svg xmlns=\"http://www.w3.org/2000/svg\" height=\"24px\"viewBox=\"0 0 24 24\"\n",
              "       width=\"24px\">\n",
              "    <path d=\"M0 0h24v24H0V0z\" fill=\"none\"/>\n",
              "    <path d=\"M18.56 5.44l.94 2.06.94-2.06 2.06-.94-2.06-.94-.94-2.06-.94 2.06-2.06.94zm-11 1L8.5 8.5l.94-2.06 2.06-.94-2.06-.94L8.5 2.5l-.94 2.06-2.06.94zm10 10l.94 2.06.94-2.06 2.06-.94-2.06-.94-.94-2.06-.94 2.06-2.06.94z\"/><path d=\"M17.41 7.96l-1.37-1.37c-.4-.4-.92-.59-1.43-.59-.52 0-1.04.2-1.43.59L10.3 9.45l-7.72 7.72c-.78.78-.78 2.05 0 2.83L4 21.41c.39.39.9.59 1.41.59.51 0 1.02-.2 1.41-.59l7.78-7.78 2.81-2.81c.8-.78.8-2.07 0-2.86zM5.41 20L4 18.59l7.72-7.72 1.47 1.35L5.41 20z\"/>\n",
              "  </svg>\n",
              "      </button>\n",
              "      \n",
              "  <style>\n",
              "    .colab-df-container {\n",
              "      display:flex;\n",
              "      flex-wrap:wrap;\n",
              "      gap: 12px;\n",
              "    }\n",
              "\n",
              "    .colab-df-convert {\n",
              "      background-color: #E8F0FE;\n",
              "      border: none;\n",
              "      border-radius: 50%;\n",
              "      cursor: pointer;\n",
              "      display: none;\n",
              "      fill: #1967D2;\n",
              "      height: 32px;\n",
              "      padding: 0 0 0 0;\n",
              "      width: 32px;\n",
              "    }\n",
              "\n",
              "    .colab-df-convert:hover {\n",
              "      background-color: #E2EBFA;\n",
              "      box-shadow: 0px 1px 2px rgba(60, 64, 67, 0.3), 0px 1px 3px 1px rgba(60, 64, 67, 0.15);\n",
              "      fill: #174EA6;\n",
              "    }\n",
              "\n",
              "    [theme=dark] .colab-df-convert {\n",
              "      background-color: #3B4455;\n",
              "      fill: #D2E3FC;\n",
              "    }\n",
              "\n",
              "    [theme=dark] .colab-df-convert:hover {\n",
              "      background-color: #434B5C;\n",
              "      box-shadow: 0px 1px 3px 1px rgba(0, 0, 0, 0.15);\n",
              "      filter: drop-shadow(0px 1px 2px rgba(0, 0, 0, 0.3));\n",
              "      fill: #FFFFFF;\n",
              "    }\n",
              "  </style>\n",
              "\n",
              "      <script>\n",
              "        const buttonEl =\n",
              "          document.querySelector('#df-10a3c44c-d13f-4144-a999-8a99a4e2717b button.colab-df-convert');\n",
              "        buttonEl.style.display =\n",
              "          google.colab.kernel.accessAllowed ? 'block' : 'none';\n",
              "\n",
              "        async function convertToInteractive(key) {\n",
              "          const element = document.querySelector('#df-10a3c44c-d13f-4144-a999-8a99a4e2717b');\n",
              "          const dataTable =\n",
              "            await google.colab.kernel.invokeFunction('convertToInteractive',\n",
              "                                                     [key], {});\n",
              "          if (!dataTable) return;\n",
              "\n",
              "          const docLinkHtml = 'Like what you see? Visit the ' +\n",
              "            '<a target=\"_blank\" href=https://colab.research.google.com/notebooks/data_table.ipynb>data table notebook</a>'\n",
              "            + ' to learn more about interactive tables.';\n",
              "          element.innerHTML = '';\n",
              "          dataTable['output_type'] = 'display_data';\n",
              "          await google.colab.output.renderOutput(dataTable, element);\n",
              "          const docLink = document.createElement('div');\n",
              "          docLink.innerHTML = docLinkHtml;\n",
              "          element.appendChild(docLink);\n",
              "        }\n",
              "      </script>\n",
              "    </div>\n",
              "  </div>\n",
              "  "
            ]
          },
          "metadata": {},
          "execution_count": 533
        }
      ]
    },
    {
      "cell_type": "code",
      "source": [
        "base_wine.describe()\n",
        "base_wine.columns"
      ],
      "metadata": {
        "colab": {
          "base_uri": "https://localhost:8080/"
        },
        "id": "vy8jRIZQvGMW",
        "outputId": "8f76a004-eec3-4697-f4a7-a4b3acb7bba9"
      },
      "execution_count": 534,
      "outputs": [
        {
          "output_type": "execute_result",
          "data": {
            "text/plain": [
              "Index(['fixed acidity', 'volatile acidity', 'citric acid', 'residual sugar',\n",
              "       'chlorides', 'free sulfur dioxide', 'total sulfur dioxide', 'density',\n",
              "       'pH', 'sulphates', 'alcohol', 'quality'],\n",
              "      dtype='object')"
            ]
          },
          "metadata": {},
          "execution_count": 534
        }
      ]
    },
    {
      "cell_type": "code",
      "source": [
        "sns.catplot(x='quality', data = base_wine, kind = 'count')"
      ],
      "metadata": {
        "colab": {
          "base_uri": "https://localhost:8080/",
          "height": 382
        },
        "id": "UmfLosGWvGIa",
        "outputId": "a470f0b8-0bbc-4e1a-993a-5fe1046d152d"
      },
      "execution_count": 535,
      "outputs": [
        {
          "output_type": "execute_result",
          "data": {
            "text/plain": [
              "<seaborn.axisgrid.FacetGrid at 0x7fe3e0c609d0>"
            ]
          },
          "metadata": {},
          "execution_count": 535
        },
        {
          "output_type": "display_data",
          "data": {
            "text/plain": [
              "<Figure size 360x360 with 1 Axes>"
            ],
            "image/png": "[encoded data removed]"
          },
          "metadata": {}
        }
      ]
    },
    {
      "cell_type": "code",
      "source": [
        "# plot = plt.figure(figsize=(5,5))\n",
        "# sns.barplot(x='quality', y ='volatile acidity', data = base_wine)"
      ],
      "metadata": {
        "id": "VZnZwoi4wm6j"
      },
      "execution_count": 536,
      "outputs": []
    },
    {
      "cell_type": "code",
      "source": [
        "grafico = px.scatter_matrix(base_wine, dimensions=['fixed acidity', 'volatile acidity', 'citric acid', 'residual sugar',\n",
        "       'chlorides', 'free sulfur dioxide', 'total sulfur dioxide', 'density',\n",
        "       'pH', 'sulphates', 'alcohol', 'quality'])\n",
        "grafico"
      ],
      "metadata": {
        "colab": {
          "base_uri": "https://localhost:8080/",
          "height": 542
        },
        "id": "uaqG_HS4wm0X",
        "outputId": "c304e3c0-820b-4b5d-e2a9-bc24b6e879ce"
      },
      "execution_count": 537,
      "outputs": [
        {
          "output_type": "display_data",
          "data": {
            "text/html": [
              "<html>\n",
              "<head><meta charset=\"utf-8\" /></head>\n",
              "<body>\n",
              "    <div>            <script src=\"https://cdnjs.cloudflare.com/ajax/libs/mathjax/2.7.5/MathJax.js?config=TeX-AMS-MML_SVG\"></script><script type=\"text/javascript\">if (window.MathJax) {MathJax.Hub.Config({SVG: {font: \"STIX-Web\"}});}</script>                <script type=\"text/javascript\">window.PlotlyConfig = {MathJaxConfig: 'local'};</script>\n",
              "        <script src=\"https://cdn.plot.ly/plotly-2.8.3.min.js\"></script>                <div id=\"b51abced-7016-4e1a-b833-9c806c6fb92c\" class=\"plotly-graph-div\" style=\"height:525px; width:100%;\"></div>            <script type=\"text/javascript\">                                    window.PLOTLYENV=window.PLOTLYENV || {};                                    if (document.getElementById(\"b51abced-7016-4e1a-b833-9c806c6fb92c\")) {                    Plotly.newPlot(                        \"b51abced-7016-4e1a-b833-9c806c6fb92c\",                        [{\"dimensions\":[{\"axis\":{\"matches\":true},\"label\":\"fixed acidity\",\"values\":[7.4,7.8,7.8,11.2,7.4,7.4,7.9,7.3,7.8,7.5,6.7,7.5,5.6,7.8,8.9,8.9,8.5,8.1,7.4,7.9,8.9,7.6,7.9,8.5,6.9,6.3,7.6,7.9,7.1,7.8,6.7,6.9,8.3,6.9,5.2,7.8,7.8,8.1,5.7,7.3,7.3,8.8,7.5,8.1,6.8,4.6,7.7,8.7,6.4,5.6,8.8,6.6,6.6,8.6,7.6,7.7,10.2,7.5,7.8,7.3,8.8,7.7,7.5,7.0,7.2,7.2,7.5,6.6,9.3,8.0,7.7,7.7,7.7,8.3,9.7,8.8,8.8,6.8,6.7,8.3,6.2,7.8,7.4,7.3,6.3,6.9,8.6,7.7,9.3,7.0,7.9,8.6,8.6,7.7,5.0,4.7,6.8,7.0,7.6,8.1,8.3,7.8,8.1,8.1,7.2,8.1,7.8,6.2,8.0,8.1,7.8,8.4,8.4,10.1,7.8,9.4,8.3,7.8,8.8,7.0,7.3,8.8,7.3,8.0,7.8,9.0,8.2,8.1,8.0,6.1,8.0,5.6,5.6,6.6,7.9,8.4,8.3,7.2,7.8,7.8,8.4,8.3,5.2,6.3,5.2,8.1,5.8,7.6,6.9,8.2,7.3,9.2,7.5,7.5,7.1,7.1,7.1,7.1,7.1,6.8,7.6,7.6,7.8,7.4,7.3,7.8,6.8,7.3,6.8,7.5,7.9,8.0,8.0,7.4,7.3,6.9,7.3,7.5,7.0,8.8,8.8,8.9,7.2,6.8,6.7,8.9,7.4,7.7,7.9,7.9,8.2,6.4,6.8,7.6,7.6,7.8,7.3,11.5,5.4,6.9,9.6,8.8,6.8,7.0,7.0,12.8,12.8,7.8,7.8,11.0,9.7,8.0,11.6,8.2,7.8,7.0,8.7,8.1,7.5,7.8,7.8,7.4,6.8,8.6,8.4,7.7,8.9,9.0,7.7,6.9,5.2,8.0,8.5,6.9,8.2,7.2,7.2,7.2,7.2,8.2,8.9,12.0,7.7,15.0,15.0,7.3,7.1,8.2,7.7,7.3,10.8,7.1,11.1,7.7,7.1,8.0,9.4,6.6,7.7,10.0,7.9,7.0,8.0,7.9,12.5,11.8,8.1,7.9,6.9,11.5,7.9,11.5,10.9,8.4,7.5,7.9,6.9,11.5,10.3,8.9,11.4,7.7,7.6,8.9,9.9,9.9,12.0,7.5,8.7,11.6,8.7,11.0,10.4,6.9,13.3,10.8,10.6,7.1,7.2,6.9,7.5,11.1,8.3,7.4,8.4,10.3,7.6,10.3,10.3,7.4,10.3,7.9,9.0,8.6,7.4,7.1,9.6,9.6,9.8,9.6,9.8,9.3,7.8,10.3,10.0,10.0,11.6,10.3,13.4,10.7,10.2,10.2,8.0,8.4,7.9,11.9,8.9,7.8,12.4,12.5,12.2,10.6,10.9,10.9,11.9,7.0,6.6,13.8,9.6,9.1,10.7,9.1,7.7,13.5,6.1,6.7,11.5,10.5,11.9,12.6,8.2,8.6,11.9,12.5,12.8,10.0,12.8,10.4,10.3,9.4,6.9,7.9,9.1,7.4,14.0,11.5,11.5,9.4,11.4,8.3,8.3,13.7,8.3,8.3,7.7,7.4,7.8,8.3,7.8,9.6,5.6,13.7,9.5,8.4,12.7,12.0,6.6,11.5,11.5,8.7,6.6,7.7,12.2,11.4,7.7,8.7,9.8,12.0,10.4,12.5,9.0,9.1,7.1,9.9,8.8,8.6,10.6,7.0,11.9,6.8,9.5,6.6,7.7,10.5,7.7,6.6,6.4,9.5,9.1,12.8,10.5,7.8,11.9,12.3,10.4,12.3,8.0,11.1,10.4,7.0,12.6,11.9,15.6,10.0,5.3,9.5,12.5,9.3,8.6,11.9,11.9,8.4,6.8,10.4,7.0,11.3,8.9,9.2,10.4,11.6,9.2,8.3,11.0,8.1,11.5,10.0,10.3,8.8,11.4,8.7,13.0,9.6,12.5,9.9,10.5,9.6,9.3,10.4,9.6,9.4,10.6,9.4,10.6,10.6,10.6,10.2,10.2,10.2,11.6,9.3,9.3,9.2,8.9,8.7,6.5,10.7,7.8,7.2,10.7,8.7,7.8,10.4,10.4,10.5,10.5,10.2,10.4,11.2,10.0,13.3,12.4,10.0,10.7,10.5,10.5,8.5,12.5,10.4,10.9,7.3,9.8,7.6,8.2,9.3,9.2,10.4,7.3,7.0,8.2,9.9,9.1,11.9,11.9,10.3,10.0,9.1,9.9,8.1,12.9,11.2,9.2,9.5,9.3,11.2,14.3,9.1,7.5,10.6,12.4,9.0,6.8,9.4,9.5,5.0,15.5,15.5,10.9,15.6,10.9,13.0,12.7,9.0,9.0,7.6,13.0,12.7,8.7,8.7,9.8,6.2,11.5,6.2,10.2,10.5,10.6,12.3,9.9,8.8,8.8,10.6,12.3,12.3,11.7,12.0,11.8,7.6,11.1,7.3,5.0,10.2,9.0,6.6,9.0,9.9,7.9,8.9,12.4,11.9,8.5,12.7,8.2,13.2,7.7,13.2,8.3,8.3,9.4,8.8,10.1,6.3,8.8,13.2,7.5,8.2,9.2,9.6,9.6,11.5,11.4,11.3,8.3,8.2,10.0,7.9,6.8,6.8,8.8,8.8,8.7,7.6,8.7,10.4,7.6,10.1,7.9,8.7,9.6,9.5,7.7,8.9,9.9,9.5,9.9,9.5,9.9,7.8,7.3,8.3,8.7,6.7,10.7,9.8,15.9,9.4,8.6,9.7,10.7,12.0,7.2,7.1,7.2,7.5,7.2,10.1,12.1,9.4,8.3,11.3,10.0,11.3,6.9,8.2,9.8,8.2,10.8,9.3,10.8,8.6,8.3,10.8,13.3,8.0,8.5,8.1,9.8,8.1,7.1,9.1,7.7,8.1,7.4,9.2,8.6,9.0,9.0,5.1,7.0,7.0,9.4,11.8,10.6,7.0,7.0,7.5,9.1,8.4,7.0,7.4,7.8,9.7,10.6,8.9,8.7,8.0,9.9,7.2,8.0,7.6,8.4,7.1,8.4,8.9,7.6,7.1,7.5,9.0,8.1,6.4,6.4,6.4,9.5,8.9,7.3,7.0,7.7,7.7,7.7,8.2,9.0,9.0,8.3,9.2,6.5,11.6,11.1,7.3,8.2,8.6,7.2,7.3,8.3,8.3,7.6,8.3,7.8,7.8,6.3,8.1,8.1,8.8,9.0,9.3,8.8,9.3,9.1,9.2,8.8,7.5,7.1,7.9,7.1,9.4,9.5,7.9,7.9,7.2,6.9,6.9,8.3,7.1,7.0,6.5,9.0,6.5,7.1,9.9,9.9,10.0,10.0,8.6,7.4,8.8,7.1,7.7,10.1,10.8,8.7,9.3,9.4,9.4,7.2,8.6,5.1,7.7,8.4,8.2,8.4,8.2,7.4,7.6,7.3,12.9,10.8,6.9,12.6,10.8,9.8,10.8,7.1,9.1,7.0,4.9,6.7,6.7,7.1,7.1,7.5,7.1,7.8,5.9,7.5,5.9,10.4,11.6,8.8,7.6,6.7,6.7,10.1,6.0,11.1,6.6,10.6,7.1,9.9,6.4,6.4,7.4,6.4,6.4,9.3,9.3,8.0,9.3,9.3,7.6,9.3,8.2,11.7,6.8,7.2,5.8,7.5,7.2,7.2,7.2,6.8,6.9,6.8,7.6,7.7,6.9,7.3,9.1,10.4,8.8,7.1,7.7,8.8,7.2,9.2,7.6,8.4,7.2,8.8,8.9,9.0,10.7,6.8,10.7,7.2,7.2,10.1,7.2,7.2,7.1,8.3,7.1,8.3,8.3,8.9,7.4,7.4,6.8,6.8,9.2,7.2,6.1,7.4,7.3,9.3,9.1,10.0,9.4,7.3,8.6,5.3,6.8,8.4,8.4,9.6,8.4,8.4,6.8,8.6,8.6,9.4,8.4,8.6,8.7,6.6,7.4,7.6,7.4,6.6,8.8,8.8,12.0,7.2,6.2,9.6,9.9,10.1,9.8,8.3,10.2,10.2,8.3,8.9,8.9,8.9,8.3,8.2,10.2,7.6,8.5,9.0,9.5,6.4,8.0,8.5,7.1,6.6,8.8,8.5,8.3,9.0,8.5,9.0,6.7,10.4,10.4,10.1,8.5,8.8,7.2,7.2,8.4,7.0,12.2,9.1,9.5,7.3,9.1,12.2,7.4,9.8,7.1,7.7,9.7,7.7,7.1,6.5,7.1,10.0,7.7,5.6,5.6,8.9,6.4,7.5,9.9,9.1,6.8,8.2,6.8,9.1,9.1,8.9,9.6,8.9,8.9,7.7,7.5,8.0,10.5,8.9,8.0,8.0,7.0,11.3,11.3,7.0,8.2,7.7,8.6,7.9,6.4,7.2,7.7,7.1,7.3,8.1,7.5,8.9,10.1,7.6,7.3,8.7,8.9,7.4,6.9,8.9,9.5,6.4,6.9,7.6,7.1,9.3,9.3,7.1,8.5,5.6,8.3,8.2,8.2,8.9,7.6,9.9,8.9,11.6,9.1,8.0,10.2,8.2,7.7,6.6,11.1,11.1,8.0,9.3,7.5,7.2,8.0,7.5,9.1,9.9,8.6,8.6,7.9,10.3,7.9,7.2,8.7,7.2,6.8,8.5,7.9,11.6,11.6,10.0,7.9,7.0,9.2,6.6,9.4,6.6,8.6,8.0,8.6,8.4,7.4,6.1,7.4,8.0,6.3,8.2,9.1,8.1,10.8,8.3,5.4,7.9,8.9,5.0,7.0,7.0,7.0,7.1,5.6,7.9,6.6,6.3,10.7,6.5,8.8,5.8,6.3,10.0,10.5,9.1,5.9,7.4,7.2,8.5,8.0,10.4,10.4,7.5,8.2,7.3,8.2,6.9,7.0,7.3,8.2,7.8,10.0,7.8,10.0,8.2,6.1,8.3,9.6,6.6,8.3,8.5,5.1,6.7,10.2,10.6,8.8,8.5,9.0,9.0,8.5,9.9,8.2,6.5,7.6,9.2,7.1,9.7,7.6,7.6,6.5,6.5,7.1,5.6,8.2,8.2,9.8,10.2,6.8,6.7,7.0,6.6,7.0,6.7,8.8,9.1,6.5,7.2,6.4,7.0,6.2,7.9,7.7,7.7,7.9,7.7,7.9,8.6,9.9,7.2,7.2,7.2,9.9,7.2,6.2,6.8,6.6,6.8,9.6,10.2,8.8,7.9,8.2,8.2,9.0,10.9,10.9,8.1,10.5,12.6,9.2,7.5,9.0,5.1,7.6,7.7,7.8,7.6,10.2,7.1,6.0,7.8,7.1,8.1,6.5,7.5,9.8,9.0,8.3,5.9,7.4,7.4,7.4,6.9,7.1,7.1,7.5,7.1,7.9,7.8,6.1,7.5,7.0,6.8,6.8,8.6,6.3,9.8,8.2,8.5,7.2,7.2,10.4,6.9,5.5,5.0,7.3,5.9,7.5,7.8,8.0,8.5,7.0,8.0,9.8,7.1,7.1,7.9,8.7,7.0,11.3,7.1,8.0,7.0,7.0,7.6,8.2,5.9,7.5,8.2,6.6,6.6,7.2,5.7,7.6,5.2,6.7,9.1,8.0,7.6,7.5,9.7,6.8,9.7,7.0,7.5,6.5,8.0,7.0,7.0,7.5,5.4,9.9,7.5,9.1,9.7,5.0,9.1,9.1,6.7,6.7,6.7,6.7,6.5,7.4,7.4,7.8,8.4,9.1,7.2,6.6,6.0,6.0,6.0,7.5,7.5,7.5,7.6,7.5,11.5,8.2,6.1,7.2,7.2,6.9,9.0,7.2,7.6,7.6,7.2,6.1,6.1,7.3,7.4,11.6,9.2,8.3,11.6,8.0,7.2,7.8,7.3,6.9,8.0,6.6,8.7,7.5,8.7,7.7,6.8,7.2,8.2,5.2,7.2,7.5,7.5,6.8,8.0,8.0,7.1,8.0,7.4,7.4,6.6,6.7,6.0,8.0,7.1,8.0,6.4,8.6,8.7,7.3,7.0,7.2,7.9,7.9,7.6,7.2,8.0,7.7,8.2,6.0,8.1,6.0,6.6,6.4,8.2,9.9,10.0,6.2,10.0,7.3,7.8,7.7,7.8,7.5,7.0,6.4,8.3,8.3,7.7,7.6,7.8,7.9,7.4,7.6,5.9,6.1,10.2,10.2,10.0,6.8,7.0,7.3,7.2,7.4,6.9,6.9,7.3,7.4,6.9,6.8,6.9,7.2,7.2,7.8,6.6,7.6,11.7,6.5,6.0,7.6,8.4,7.9,6.4,6.2,6.8,6.9,6.8,6.8,7.3,6.7,7.3,7.3,10.0,6.7,7.6,6.1,9.9,5.3,9.9,5.3,7.1,8.2,5.6,8.2,7.2,8.1,6.8,7.0,6.8,6.0,5.6,6.2,7.1,5.6,6.2,7.7,6.4,7.0,7.7,6.9,6.6,6.9,7.5,7.8,7.3,6.2,7.5,6.7,6.8,7.5,7.1,7.9,6.4,7.1,6.4,6.4,6.9,6.9,6.1,6.5,7.4,6.6,6.5,6.9,6.1,6.8,6.0,6.7,6.8,7.1,7.9,7.1,6.6,6.1,7.2,8.0,6.6,7.0,6.1,5.4,6.2,7.2,6.2,7.4,6.7,11.1,8.4,6.5,7.0,6.3,11.2,7.4,7.1,7.1,6.3,7.3,6.6,7.0,6.6,6.6,6.9,7.8,7.8,7.8,7.2,7.2,7.2,6.7,6.7,7.2,7.0,6.2,6.4,6.4,7.3,6.0,5.6,7.5,8.0,6.2,6.8,6.2,7.4,6.2,6.1,6.2,6.7,7.2,7.5,5.8,7.2,6.6,6.3,5.4,6.3,6.8,6.2,5.9,6.3,5.9,6.0]},{\"axis\":{\"matches\":true},\"label\":\"volatile acidity\",\"values\":[0.7,0.88,0.76,0.28,0.7,0.66,0.6,0.65,0.58,0.5,0.58,0.5,0.615,0.61,0.62,0.62,0.28,0.56,0.59,0.32,0.22,0.39,0.43,0.49,0.4,0.39,0.41,0.43,0.71,0.645,0.675,0.685,0.655,0.605,0.32,0.645,0.6,0.38,1.13,0.45,0.45,0.61,0.49,0.66,0.67,0.52,0.935,0.29,0.4,0.31,0.66,0.52,0.5,0.38,0.51,0.62,0.42,0.63,0.59,0.39,0.4,0.69,0.52,0.735,0.725,0.725,0.52,0.705,0.32,0.705,0.63,0.67,0.69,0.675,0.32,0.41,0.41,0.785,0.75,0.625,0.45,0.43,0.5,0.67,0.3,0.55,0.49,0.49,0.39,0.62,0.52,0.49,0.49,0.49,1.02,0.6,0.775,0.5,0.9,0.545,0.61,0.5,0.545,0.575,0.49,0.575,0.41,0.63,0.33,0.785,0.56,0.62,0.6,0.31,0.56,0.4,0.54,0.56,0.55,0.69,1.07,0.55,0.695,0.71,0.5,0.62,1.33,1.33,0.59,0.38,0.745,0.5,0.5,0.5,1.04,0.745,0.715,0.415,0.56,0.56,0.745,0.715,0.34,0.39,0.34,0.67,0.68,0.49,0.49,0.4,0.33,0.52,0.6,0.6,0.43,0.43,0.43,0.43,0.68,0.6,0.95,0.68,0.53,0.6,0.59,0.63,0.64,0.55,0.63,0.705,0.885,0.42,0.42,0.62,0.38,0.5,0.38,0.52,0.805,0.61,0.61,0.61,0.73,0.61,0.62,0.31,0.39,0.705,0.5,0.49,0.5,0.37,0.63,0.55,0.55,0.59,0.58,0.3,0.835,1.09,0.32,0.37,0.5,0.42,0.43,0.3,0.3,0.57,0.44,0.3,0.53,0.725,0.44,0.57,0.735,0.49,0.625,0.725,0.49,0.53,0.34,0.53,0.61,0.645,0.635,0.43,0.59,0.82,0.43,0.52,0.48,0.38,0.37,0.52,1.0,0.63,0.63,0.645,0.63,1.0,0.635,0.38,0.58,0.21,0.21,0.66,0.68,0.6,0.53,0.66,0.32,0.6,0.35,0.775,0.6,0.57,0.34,0.695,0.41,0.31,0.33,0.975,0.52,0.37,0.56,0.26,0.87,0.35,0.54,0.18,0.545,0.18,0.37,0.715,0.65,0.545,0.54,0.18,0.32,0.4,0.26,0.27,0.52,0.4,0.59,0.59,0.45,0.4,0.52,0.42,0.52,0.2,0.55,0.36,0.34,0.5,0.83,0.63,0.65,0.67,0.53,0.18,0.705,0.67,0.65,0.53,0.62,0.41,0.43,0.29,0.53,0.53,0.46,0.47,0.36,0.35,0.56,0.77,0.66,0.77,0.66,0.61,0.62,0.59,0.49,0.49,0.53,0.44,0.27,0.46,0.36,0.36,0.58,0.56,0.65,0.695,0.43,0.43,0.49,0.28,0.34,0.42,0.39,0.39,0.57,0.685,0.815,0.49,0.56,0.785,0.67,0.795,0.665,0.53,0.21,0.75,0.41,0.42,0.43,0.38,0.7,0.45,0.58,0.46,0.615,0.42,0.615,0.575,0.34,0.27,0.765,0.24,0.28,0.55,0.41,0.54,0.45,0.27,0.625,0.42,0.26,0.415,0.26,0.26,0.51,0.63,0.54,0.66,0.46,0.38,0.85,0.415,0.37,0.665,0.6,0.37,0.735,0.59,0.59,0.765,0.735,0.26,0.48,0.6,0.69,0.31,0.44,0.39,0.34,0.46,0.43,0.45,0.735,0.4,0.52,0.725,0.48,0.58,0.38,0.77,0.56,0.84,0.96,0.24,0.96,0.84,0.67,0.78,0.52,0.84,0.24,0.55,0.37,0.39,0.41,0.39,0.67,0.45,0.41,0.62,0.31,0.4,0.685,0.44,0.57,0.735,0.38,0.48,0.53,0.39,0.39,0.37,0.56,0.33,0.23,0.62,0.59,0.63,0.33,0.58,0.43,0.615,0.26,0.66,0.315,0.29,0.5,0.46,0.36,0.82,0.32,0.54,0.37,0.35,0.28,0.68,0.27,0.24,0.68,0.685,0.28,0.3,0.36,0.36,0.44,0.67,0.67,0.645,0.32,0.39,0.775,0.41,0.4,0.69,0.39,0.35,0.52,0.34,0.35,0.69,0.52,0.44,0.44,0.26,0.24,0.49,0.24,0.67,0.59,0.29,0.42,0.59,0.4,0.51,0.51,0.655,0.6,0.61,0.21,0.365,0.25,0.41,0.39,0.4,0.43,0.64,0.365,0.38,0.42,0.63,0.22,0.38,0.38,0.27,0.48,0.22,0.63,0.825,0.35,0.5,0.59,0.46,0.715,0.66,0.31,0.47,0.55,0.31,0.35,0.53,0.51,0.43,0.46,1.04,0.645,0.645,0.53,0.645,0.53,0.47,0.6,0.44,0.54,0.29,0.47,0.6,0.7,0.7,0.5,0.36,0.35,0.36,0.24,0.59,0.34,0.27,0.5,0.44,0.47,0.31,0.5,0.5,0.49,0.28,0.33,0.51,0.31,0.73,0.42,0.29,0.45,0.39,0.45,0.49,0.72,0.595,0.4,0.58,0.585,0.59,0.915,0.46,0.835,0.46,0.58,0.6,0.41,0.48,0.65,0.36,0.24,0.38,0.64,0.39,0.755,0.6,0.6,0.31,0.46,0.37,0.54,0.56,0.58,0.51,0.69,0.69,0.6,0.6,0.54,0.685,0.54,0.28,0.41,0.935,0.35,0.84,0.88,0.885,0.915,0.29,0.54,0.59,0.54,0.59,0.54,0.64,0.67,0.845,0.48,0.42,0.43,0.88,0.36,0.33,0.47,0.55,0.43,0.5,0.52,0.84,0.52,0.42,0.57,0.28,0.4,0.59,0.49,0.34,0.73,0.34,0.4,0.73,1.24,0.73,0.4,0.41,0.4,0.8,0.78,0.26,0.43,0.45,0.46,0.78,0.98,0.78,0.65,0.64,0.66,0.38,1.185,0.92,0.49,0.48,0.47,0.47,0.65,0.65,0.615,0.38,1.02,0.65,0.64,0.38,0.765,1.035,0.78,0.49,0.545,0.31,1.025,0.565,0.69,0.43,0.74,0.49,0.43,0.46,0.56,0.66,0.56,0.48,0.42,0.31,1.115,0.66,0.72,0.57,0.57,0.865,0.55,0.875,0.835,0.45,0.56,0.965,0.965,0.59,0.46,0.69,0.76,0.53,0.615,0.41,0.39,0.51,0.34,0.33,0.5,0.51,0.65,0.65,0.54,0.65,0.48,0.91,0.98,0.87,0.87,0.42,0.58,0.655,0.7,0.655,0.68,0.67,0.59,0.6,0.59,0.72,0.59,0.685,0.57,0.4,0.4,1.0,0.765,0.635,0.43,0.52,0.57,0.46,0.82,0.46,0.59,0.35,0.35,0.56,0.56,0.63,0.37,0.64,0.61,0.6,0.27,0.89,0.46,0.37,0.5,0.5,0.61,0.55,0.585,0.56,0.52,0.28,0.25,0.28,0.53,0.48,0.49,0.5,0.45,0.39,0.41,0.45,0.51,0.29,0.715,0.66,0.685,0.42,0.54,0.54,0.48,0.46,0.27,0.46,0.57,0.61,0.685,0.61,0.44,0.47,0.685,0.665,0.28,0.28,0.31,0.5,0.42,0.66,0.5,0.685,0.25,0.64,0.64,0.68,0.64,0.63,0.43,0.43,0.42,0.36,0.36,0.735,0.36,0.26,0.28,0.56,0.62,1.01,0.42,0.62,0.62,0.635,0.49,0.51,0.56,0.63,0.715,0.56,0.35,0.21,0.38,0.31,0.47,0.715,0.61,0.6,0.56,0.715,0.31,0.6,0.61,0.75,0.8,0.52,0.57,0.9,0.34,0.66,0.45,0.66,0.63,0.59,0.31,0.59,0.31,1.02,0.31,0.635,0.635,0.59,0.59,0.58,0.54,0.56,0.52,0.305,0.38,0.28,0.46,0.395,0.305,0.315,0.715,0.41,0.36,0.62,0.41,0.36,0.62,0.41,0.47,0.22,0.24,0.67,0.47,0.33,0.61,0.61,0.4,0.61,0.61,0.3,0.3,0.63,0.38,0.46,0.33,0.27,0.43,0.5,0.3,0.44,0.44,0.28,0.12,0.12,0.12,0.28,0.31,0.34,0.43,0.21,0.36,0.37,0.57,0.59,0.47,0.56,0.57,0.27,0.47,0.34,0.38,0.66,0.4,0.56,0.26,0.26,0.38,0.34,0.33,0.41,0.41,0.59,0.4,0.45,0.5,0.86,0.52,0.5,0.45,0.58,0.34,0.36,0.39,0.295,0.39,0.34,0.4,0.34,0.35,0.6,0.66,0.66,0.84,0.69,0.43,0.35,0.29,0.36,0.43,0.36,0.29,0.3,0.35,0.5,0.28,0.32,1.005,0.71,0.58,0.39,0.38,0.18,0.18,0.5,0.36,0.36,0.51,0.32,0.58,0.83,0.31,0.795,0.34,0.58,0.59,0.55,0.82,0.57,0.745,0.37,0.31,0.91,0.41,0.5,0.965,0.49,0.5,0.39,0.39,0.44,0.78,0.43,0.49,0.5,0.43,0.46,0.605,0.33,0.64,0.64,0.48,0.42,0.53,0.48,0.23,0.4,0.38,0.29,0.74,0.61,0.52,0.31,0.31,0.62,0.33,0.77,0.35,0.62,0.77,0.25,0.32,0.37,0.37,0.3,0.27,0.3,0.38,0.42,0.38,0.48,0.34,0.19,0.41,0.41,0.26,0.34,0.54,0.31,0.725,0.4,0.725,0.52,0.31,0.52,0.34,0.49,0.48,0.49,0.48,0.57,0.23,0.3,0.78,0.47,0.53,0.42,0.33,0.24,0.4,0.69,0.69,0.69,0.39,0.66,0.54,0.5,0.47,0.4,0.58,0.24,0.29,0.76,0.43,0.43,0.6,0.19,0.36,0.48,0.28,0.25,0.52,0.52,0.41,0.51,0.4,0.38,0.45,0.22,0.32,0.2,0.5,0.41,0.39,0.35,0.33,0.58,0.6,0.42,0.58,0.6,0.18,0.51,0.41,0.41,0.36,0.45,0.32,0.785,0.785,0.44,0.54,0.33,0.34,0.5,0.36,0.59,0.42,0.36,0.36,0.61,0.88,0.66,0.915,0.35,0.35,0.39,0.4,0.66,0.64,0.43,0.8,0.43,0.64,0.955,0.4,0.885,0.25,0.885,0.745,0.43,0.58,0.57,0.26,0.58,0.57,0.34,0.42,0.74,0.36,0.36,0.36,0.72,0.36,0.39,0.65,0.44,0.65,0.38,0.33,0.27,0.57,0.34,0.4,0.39,0.32,0.32,0.53,0.36,0.39,0.46,0.58,0.58,0.42,0.43,0.18,0.815,0.43,0.23,0.75,0.33,0.55,0.75,0.73,0.67,0.61,0.37,0.4,0.56,0.29,0.55,0.74,0.55,0.41,0.6,0.6,0.58,0.72,0.66,0.7,0.64,0.59,0.58,0.64,0.64,0.635,1.02,0.45,0.78,0.37,0.57,0.57,0.43,0.41,0.49,0.38,0.44,0.46,0.58,0.58,0.715,0.4,0.69,0.715,0.3,0.46,0.46,0.765,0.63,0.42,0.37,0.16,0.6,0.6,0.6,0.74,0.635,0.395,0.755,0.635,0.63,0.63,0.53,0.6,1.58,0.645,0.86,0.37,0.28,0.79,0.61,0.69,0.68,0.69,0.62,0.61,0.51,1.18,0.36,0.36,0.63,0.74,0.44,0.63,0.76,0.66,0.74,0.34,0.36,0.46,0.46,0.46,0.46,0.52,0.6,0.6,0.87,0.39,0.775,0.835,0.58,0.5,0.5,0.5,0.51,0.51,0.51,0.54,0.51,0.42,0.44,0.59,0.655,0.655,0.57,0.6,0.62,0.645,0.645,0.58,0.32,0.34,0.43,0.64,0.475,0.54,0.85,0.475,0.83,0.605,0.5,0.74,0.54,0.77,0.61,0.78,0.58,0.78,0.75,0.815,0.56,0.885,0.49,0.45,0.57,0.57,0.83,0.6,0.6,0.755,0.81,0.64,0.64,0.64,0.48,0.49,0.64,0.62,0.52,0.57,0.685,0.675,0.59,0.6,0.67,0.69,0.69,0.3,0.33,0.5,0.28,0.24,0.51,0.29,0.51,0.96,0.47,0.24,0.57,0.32,0.58,0.32,0.34,0.53,0.64,0.53,0.4,0.54,0.53,0.26,0.26,0.23,0.41,0.64,0.18,0.41,0.43,0.44,0.4,0.54,0.54,0.38,0.915,0.59,0.67,0.37,0.785,0.63,0.58,0.67,0.785,0.63,0.67,0.58,0.38,0.37,0.32,0.58,0.49,0.45,0.9,0.54,0.49,0.29,0.2,0.42,0.785,0.64,0.63,0.59,0.59,0.48,1.04,0.48,0.98,0.69,0.7,0.35,0.6,0.5,0.47,0.5,0.47,0.875,0.28,0.62,0.28,0.58,0.33,0.91,0.655,0.68,0.64,0.54,0.57,0.22,0.54,0.65,0.54,0.31,0.43,0.54,0.74,0.895,0.74,0.725,0.82,0.585,0.44,0.38,0.76,0.81,0.38,0.27,0.18,0.36,0.69,0.79,0.56,0.84,0.84,0.32,0.53,0.47,0.7,0.53,0.48,0.32,0.48,0.42,0.48,0.47,0.53,0.29,0.69,0.44,0.705,0.53,0.39,0.56,0.55,0.53,0.58,0.64,0.39,0.52,0.25,0.855,0.44,0.37,0.63,0.57,0.6,0.4,0.36,0.68,0.67,0.68,0.735,0.855,0.56,0.88,0.855,0.63,0.6,0.6,0.6,0.695,0.695,0.695,0.67,0.16,0.695,0.56,0.51,0.36,0.38,0.69,0.58,0.31,0.52,0.3,0.7,0.67,0.56,0.35,0.56,0.715,0.46,0.32,0.39,0.31,0.61,0.66,0.725,0.55,0.74,0.51,0.62,0.6,0.55,0.51,0.645,0.31]},{\"axis\":{\"matches\":true},\"label\":\"citric acid\",\"values\":[0.0,0.0,0.04,0.56,0.0,0.0,0.06,0.0,0.02,0.36,0.08,0.36,0.0,0.29,0.18,0.19,0.56,0.28,0.08,0.51,0.48,0.31,0.21,0.11,0.14,0.16,0.24,0.21,0.0,0.0,0.07,0.0,0.12,0.12,0.25,0.0,0.14,0.28,0.09,0.36,0.36,0.3,0.2,0.22,0.02,0.15,0.43,0.52,0.23,0.37,0.26,0.04,0.04,0.36,0.15,0.04,0.57,0.12,0.18,0.31,0.4,0.49,0.16,0.05,0.05,0.05,0.11,0.07,0.57,0.05,0.08,0.23,0.22,0.26,0.54,0.64,0.64,0.0,0.12,0.2,0.2,0.7,0.47,0.26,0.48,0.15,0.28,0.26,0.44,0.08,0.26,0.28,0.29,0.26,0.04,0.17,0.0,0.25,0.06,0.18,0.3,0.3,0.18,0.22,0.24,0.22,0.68,0.31,0.53,0.52,0.19,0.09,0.1,0.44,0.19,0.31,0.28,0.12,0.04,0.08,0.09,0.04,0.0,0.0,0.17,0.04,0.0,0.0,0.16,0.15,0.56,0.09,0.09,0.01,0.05,0.11,0.15,0.36,0.19,0.19,0.11,0.15,0.0,0.08,0.0,0.55,0.02,0.26,0.1,0.44,0.47,1.0,0.03,0.03,0.42,0.42,0.42,0.42,0.0,0.18,0.03,0.02,0.04,0.26,0.26,0.48,0.1,0.03,0.07,0.24,0.03,0.17,0.17,0.05,0.21,0.04,0.21,0.42,0.0,0.14,0.14,0.49,0.02,0.2,0.21,0.57,0.48,0.1,0.33,0.32,0.35,0.25,0.12,0.21,0.21,0.33,0.3,0.6,0.08,0.06,0.47,0.48,0.11,0.35,0.36,0.74,0.74,0.31,0.28,0.58,0.6,0.24,0.64,0.26,0.08,0.49,0.16,0.22,0.19,0.33,0.37,0.26,0.04,0.25,0.36,0.25,0.5,0.14,0.25,0.25,0.04,0.06,0.2,0.25,0.09,0.0,0.0,0.0,0.0,0.09,0.37,0.56,0.1,0.44,0.44,0.0,0.07,0.17,0.06,0.0,0.44,0.0,0.48,0.42,0.0,0.23,0.37,0.0,0.76,0.47,0.23,0.04,0.03,0.23,0.49,0.52,0.0,0.46,0.04,0.51,0.06,0.51,0.58,0.2,0.18,0.06,0.04,0.51,0.45,0.32,0.44,0.68,0.12,0.32,0.07,0.07,0.55,0.12,0.09,0.53,0.09,0.48,0.23,0.25,0.52,0.46,0.37,0.06,0.02,0.06,0.06,0.48,0.12,0.12,0.6,0.48,0.32,0.42,0.44,0.38,0.48,0.24,0.31,0.3,0.29,0.29,0.23,0.12,0.39,0.12,0.39,0.26,0.05,0.42,0.2,0.2,0.66,0.5,0.62,0.39,0.64,0.64,0.28,0.08,0.01,0.53,0.45,0.32,0.58,0.54,0.5,0.48,0.47,0.47,0.5,0.0,0.02,0.67,0.31,0.0,0.22,0.0,0.0,0.79,0.4,0.01,0.52,0.66,0.66,0.66,0.23,0.31,0.66,0.63,0.66,0.5,0.66,0.61,0.52,0.53,0.02,0.4,0.48,0.22,0.63,0.71,0.5,0.53,0.66,0.38,0.42,0.68,0.42,0.42,0.28,0.07,0.26,0.15,0.26,0.31,0.05,0.68,0.52,0.61,0.65,0.76,0.02,0.59,0.59,0.22,0.02,0.3,0.54,0.49,0.05,0.46,0.47,0.66,0.58,0.49,0.34,0.35,0.16,0.53,0.34,0.24,0.64,0.12,0.51,0.0,0.33,0.03,0.2,0.47,0.2,0.03,0.08,0.22,0.33,0.63,0.47,0.35,0.69,0.63,0.55,0.63,0.3,0.73,0.55,0.18,0.72,0.65,0.76,0.49,0.01,0.1,0.6,0.29,0.22,0.69,0.69,0.53,0.03,0.63,0.4,0.67,0.39,0.21,0.63,0.66,0.52,0.22,0.68,0.7,0.54,0.4,0.42,0.45,0.69,0.02,0.65,0.42,0.55,0.55,0.51,0.24,0.41,0.49,0.24,0.11,0.39,0.56,0.59,0.6,0.68,0.39,0.39,0.36,0.55,0.4,0.27,0.5,0.51,0.31,0.23,0.53,0.25,0.32,0.53,0.31,0.25,0.73,0.73,0.47,0.42,0.63,0.46,0.55,0.31,0.75,0.49,0.31,0.48,0.64,0.64,0.49,0.49,0.49,0.49,0.49,0.49,0.49,0.49,0.49,0.49,0.24,0.49,0.49,0.49,0.24,0.24,0.49,0.49,0.24,0.24,0.24,0.24,0.24,0.49,0.74,0.24,0.49,0.24,0.24,0.74,0.49,0.24,0.49,0.49,0.49,0.01,0.24,0.24,0.24,0.49,0.49,0.49,0.49,0.49,0.49,0.49,0.49,0.49,0.49,0.49,0.49,0.24,0.24,0.49,0.24,0.49,0.24,0.49,0.49,0.49,0.49,0.24,0.49,0.49,0.49,0.49,0.49,0.49,0.49,0.49,0.24,0.49,0.24,0.24,0.49,0.49,0.49,0.49,0.58,0.17,0.41,0.51,0.58,0.18,0.45,0.27,0.52,0.0,0.52,0.13,0.13,0.48,0.41,0.37,0.19,0.54,0.55,0.0,0.38,0.18,0.5,0.5,0.51,0.5,0.41,0.24,0.23,0.22,0.25,0.0,0.0,0.29,0.29,0.26,0.23,0.26,0.54,0.14,0.22,0.21,0.0,0.28,0.27,0.12,0.35,0.45,0.44,0.45,0.44,0.45,0.1,0.05,0.01,0.3,0.27,0.39,0.25,0.65,0.59,0.47,0.17,0.39,0.59,0.07,0.02,0.07,0.31,0.06,0.46,0.52,0.14,0.36,0.45,0.43,0.45,0.24,0.21,0.34,0.21,0.41,0.39,0.41,0.11,0.1,0.45,0.58,0.23,0.31,0.23,0.32,0.23,0.18,0.23,0.04,0.48,0.0,0.24,0.51,0.32,0.31,0.02,0.02,0.02,0.28,0.55,0.43,0.02,0.02,0.48,0.04,0.15,0.08,0.19,0.12,0.47,0.43,0.34,0.0,0.36,0.28,0.18,0.36,0.11,0.04,0.0,0.04,0.24,0.08,0.3,0.1,0.17,0.09,0.02,0.02,0.03,0.66,0.13,0.03,0.34,0.2,0.1,0.1,0.0,0.23,0.0,0.29,0.24,0.0,0.58,0.54,0.18,0.38,0.4,0.18,0.18,0.1,0.1,0.13,0.1,0.68,0.07,0.01,0.0,0.0,0.21,0.25,0.26,0.0,0.26,0.11,0.1,0.18,0.32,0.02,0.01,0.02,0.26,0.27,0.29,0.3,0.0,0.18,0.17,0.3,0.03,0.0,0.14,0.05,0.14,0.01,0.41,0.41,0.24,0.24,0.17,0.43,0.17,0.02,0.0,0.54,0.3,0.31,0.44,0.34,0.34,0.08,0.09,0.0,0.08,0.22,0.4,0.39,0.4,0.12,0.31,0.1,0.55,0.33,0.24,0.54,0.33,0.19,0.42,0.0,0.15,0.0,0.0,0.13,0.13,0.28,0.14,0.34,0.14,0.09,0.08,0.07,0.08,0.42,0.44,0.26,0.1,0.28,0.28,0.35,0.04,0.47,0.0,0.45,0.35,0.46,0.21,0.21,0.16,0.21,0.21,0.44,0.44,0.32,0.39,0.39,0.02,0.39,0.34,0.47,0.22,0.06,0.66,0.32,0.06,0.06,0.07,0.22,0.23,0.22,0.03,0.01,0.03,0.24,0.37,0.46,0.4,0.0,0.01,0.19,0.04,0.18,0.0,0.29,0.04,0.19,0.14,0.12,0.38,0.0,0.34,0.24,0.03,0.23,0.03,0.03,0.01,0.39,0.01,0.39,0.02,0.36,0.1,0.1,0.06,0.06,0.2,0.27,0.0,0.13,0.39,0.48,0.46,0.44,0.46,0.39,0.4,0.19,0.31,0.32,0.12,0.37,0.32,0.12,0.31,0.27,0.36,0.33,0.19,0.27,0.38,0.01,0.01,0.29,0.01,0.01,0.38,0.38,0.5,0.38,0.17,0.52,0.49,0.4,0.34,0.49,0.42,0.58,0.48,0.45,0.45,0.45,0.48,0.4,0.48,0.4,0.52,0.52,0.52,0.12,0.05,0.27,0.14,0.02,0.39,0.27,0.4,0.41,0.2,0.43,0.09,0.48,0.48,0.5,0.44,0.41,0.3,0.3,0.29,0.32,0.49,0.3,0.26,0.32,0.3,0.49,0.0,0.39,0.3,0.12,0.4,0.12,0.28,0.1,0.28,0.45,0.06,0.0,0.0,0.34,0.0,0.3,0.38,0.33,0.32,0.29,0.32,0.33,0.34,0.4,0.36,0.45,0.31,0.15,0.0,0.16,0.46,0.4,0.37,0.37,0.14,0.66,0.66,0.09,0.42,0.01,0.0,0.32,0.0,0.21,0.01,0.0,0.01,0.0,0.08,0.18,0.34,0.34,0.1,0.41,0.21,0.0,0.19,0.21,0.41,0.33,0.0,0.0,0.17,0.36,0.36,0.17,0.59,0.05,0.42,0.27,0.27,0.53,0.25,0.57,0.53,0.57,0.5,0.44,0.65,0.09,0.18,0.08,0.53,0.53,0.35,0.45,0.2,0.26,0.33,0.2,0.34,0.56,0.65,0.65,0.68,0.56,0.68,0.3,0.45,0.3,0.08,0.4,0.42,0.54,0.54,0.54,0.42,0.09,0.36,0.09,0.47,0.09,0.38,0.45,0.38,0.42,0.27,0.09,0.27,0.34,0.28,0.42,0.41,0.1,0.43,0.0,0.27,0.41,0.39,0.5,0.07,0.07,0.07,0.12,0.0,0.34,0.0,0.0,0.37,0.0,0.35,0.26,0.0,0.33,0.35,0.0,0.21,0.34,0.07,0.35,0.43,0.45,0.45,0.15,0.24,0.3,0.32,0.11,0.3,0.23,0.43,0.12,0.45,0.42,0.47,0.32,0.23,0.25,0.35,0.0,0.25,0.51,0.18,0.43,0.43,0.57,0.43,0.42,0.24,0.24,0.5,0.26,0.39,0.27,0.29,0.34,0.0,0.46,0.31,0.31,0.0,0.03,0.0,0.0,0.33,0.33,0.43,0.4,0.07,0.23,0.3,0.03,0.3,0.23,0.05,0.57,0.0,0.37,0.0,0.12,0.22,0.23,0.21,0.26,0.23,0.21,0.36,0.39,0.19,0.46,0.46,0.46,0.55,0.46,0.43,0.02,0.15,0.02,0.42,0.46,0.46,0.31,0.37,0.31,0.4,0.52,0.52,0.22,0.47,0.49,0.23,0.03,0.25,0.0,0.29,0.34,0.01,0.29,0.37,0.01,0.32,0.0,0.01,0.0,0.0,0.2,0.39,0.41,0.22,0.25,0.19,0.07,0.19,0.33,0.01,0.01,0.14,0.0,0.0,0.06,0.02,0.22,0.28,0.0,0.0,0.68,0.0,0.38,0.0,0.32,0.05,0.05,0.5,0.31,0.03,0.01,0.2,0.0,0.2,0.13,0.22,0.4,0.0,0.22,0.39,0.2,0.2,0.0,0.28,0.19,0.5,0.44,0.08,0.3,0.3,0.0,0.1,0.13,0.0,0.1,0.0,0.0,0.14,0.0,0.0,0.0,0.07,0.32,0.44,0.21,0.26,0.32,0.09,0.32,0.1,0.26,0.15,0.21,0.21,0.21,0.27,0.0,0.46,0.27,0.68,0.34,0.0,0.42,0.39,0.24,0.24,0.24,0.24,0.11,0.26,0.26,0.26,0.1,0.22,0.0,0.02,0.0,0.0,0.0,0.02,0.02,0.02,0.02,0.02,0.48,0.24,0.01,0.03,0.03,0.0,0.29,0.01,0.03,0.03,0.03,0.25,0.25,0.24,0.17,0.4,0.31,0.14,0.4,0.27,0.02,0.09,0.08,0.3,0.32,0.0,0.51,0.56,0.51,0.27,0.0,0.26,0.2,0.26,0.15,0.02,0.02,0.09,0.22,0.22,0.15,0.25,0.07,0.07,0.31,0.02,0.0,0.22,0.06,0.25,0.14,0.1,0.1,0.26,0.12,0.0,0.21,0.21,0.42,0.33,0.39,0.3,0.34,0.0,0.36,0.0,0.0,0.4,0.34,0.25,0.59,0.0,0.59,0.33,0.01,0.21,0.01,0.18,0.0,0.09,0.37,0.37,0.37,0.33,0.0,0.4,0.24,0.31,0.0,0.16,0.37,0.37,0.38,0.29,0.0,0.02,0.32,0.19,0.02,0.2,0.02,0.19,0.02,0.0,0.01,0.31,0.32,0.44,0.02,0.33,0.63,0.0,0.06,0.33,0.4,0.35,0.09,0.0,0.03,0.01,0.1,0.1,0.32,0.08,0.32,0.05,0.11,0.08,0.6,0.08,0.5,0.11,0.5,0.11,0.05,0.6,0.03,0.6,0.54,0.44,0.06,0.16,0.21,0.05,0.04,0.1,0.49,0.04,0.06,0.26,0.09,0.02,0.26,0.03,0.04,0.03,0.04,0.29,0.18,0.39,0.57,0.02,0.05,0.57,0.6,0.4,0.21,0.04,0.04,0.15,0.21,0.21,0.25,0.06,0.46,0.08,0.06,0.2,0.25,0.25,0.19,0.08,0.08,0.07,0.49,0.08,0.09,0.1,0.13,0.3,0.14,0.13,0.08,0.08,0.09,0.32,0.08,0.29,0.02,0.42,0.43,0.33,0.02,0.1,0.5,0.3,0.0,0.0,0.01,0.0,0.02,0.17,0.04,0.02,0.33,0.26,0.26,0.26,0.13,0.13,0.13,0.02,0.64,0.13,0.13,0.14,0.53,0.14,0.32,0.2,0.78,0.4,0.63,0.15,0.15,0.09,0.33,0.09,0.1,0.29,0.44,0.44,0.41,0.11,0.33,0.2,0.15,0.09,0.13,0.08,0.08,0.1,0.13,0.12,0.47]},{\"axis\":{\"matches\":true},\"label\":\"residual sugar\",\"values\":[1.9,2.6,2.3,1.9,1.9,1.8,1.6,1.2,2.0,6.1,1.8,6.1,1.6,1.6,3.8,3.9,1.8,1.7,4.4,1.8,1.8,2.3,1.6,2.3,2.4,1.4,1.8,1.6,1.9,2.0,2.4,2.5,2.3,10.7,1.8,5.5,2.4,2.1,1.5,5.9,5.9,2.8,2.6,2.2,1.8,2.1,2.2,1.6,1.6,1.4,1.7,2.2,2.1,3.0,2.8,3.8,3.4,5.1,2.3,2.4,2.2,1.8,1.9,2.0,4.65,4.65,1.5,1.6,2.0,1.9,1.9,2.1,1.9,2.1,2.5,2.2,2.2,2.4,2.0,1.5,1.6,1.9,2.0,1.8,1.8,2.2,1.9,1.9,2.1,1.8,1.9,1.9,2.0,1.9,1.4,2.3,3.0,2.0,2.5,1.9,2.1,1.9,1.9,2.1,2.2,2.1,1.7,1.7,2.5,2.0,1.8,2.2,2.2,2.3,1.8,2.2,1.9,2.0,2.2,1.8,1.7,2.2,2.5,2.6,1.6,1.9,1.7,1.8,1.8,1.8,2.0,2.3,2.3,1.5,2.2,1.9,1.8,2.0,2.1,2.0,1.9,1.8,1.8,1.7,1.8,1.8,1.8,1.6,2.3,2.8,2.1,3.4,1.8,1.8,5.5,5.5,5.5,5.5,2.2,1.9,2.0,1.3,1.7,7.3,7.2,1.7,2.1,1.6,2.1,1.8,1.8,2.0,2.0,1.9,2.0,1.5,2.0,2.3,2.5,2.4,2.4,2.0,2.5,1.8,1.9,2.0,2.0,2.6,2.0,1.9,2.9,1.9,3.8,2.2,2.2,2.0,2.4,2.0,1.2,2.1,1.4,2.1,1.5,1.6,1.6,2.6,2.6,1.8,2.7,2.1,2.0,2.8,2.1,2.2,2.4,5.6,2.0,2.2,1.9,2.4,2.0,2.0,1.5,2.0,2.0,2.6,2.0,2.6,2.6,2.6,1.6,1.8,2.8,2.6,2.3,1.9,1.9,1.9,1.9,2.3,1.7,2.1,1.8,2.2,2.2,2.0,1.9,2.3,1.7,2.0,1.6,1.8,3.1,1.9,1.8,3.2,2.2,2.1,1.8,2.6,1.7,2.0,1.7,1.8,2.4,1.8,3.3,3.6,3.0,4.0,4.0,4.0,4.0,2.4,7.0,4.0,3.0,4.0,6.4,5.6,3.6,3.5,3.0,5.6,3.4,3.4,2.0,3.0,2.5,3.3,2.5,2.0,2.7,2.4,3.2,2.5,2.6,2.0,2.3,2.1,2.6,1.5,2.6,1.6,2.1,2.5,2.2,2.4,2.4,1.7,2.5,2.0,2.8,3.0,2.6,2.5,3.4,2.9,3.2,2.9,3.2,3.4,2.3,2.8,11.0,11.0,3.65,4.5,2.6,2.0,2.9,2.9,3.2,2.1,2.5,3.4,1.9,2.8,3.0,2.3,2.4,2.7,1.8,1.8,2.6,1.9,2.7,3.0,2.8,2.6,2.7,2.6,2.4,4.8,1.4,2.4,3.0,2.95,3.1,2.6,2.0,2.6,2.5,2.0,5.8,3.4,5.8,2.6,2.8,2.4,2.3,1.6,1.8,2.2,3.8,4.4,3.0,2.4,6.2,2.5,2.0,2.9,2.0,2.0,2.1,2.4,2.0,1.9,1.9,2.5,1.4,2.9,2.0,2.0,2.3,4.2,7.9,2.6,2.6,2.3,7.9,1.7,2.6,2.7,2.7,1.4,2.5,3.0,3.7,4.5,2.5,2.4,1.9,6.7,2.7,6.6,2.2,1.9,2.0,1.8,2.4,2.3,2.0,2.1,2.0,2.3,2.1,1.9,1.3,2.4,2.1,2.2,2.3,2.3,3.2,2.3,2.0,3.2,3.2,1.5,2.2,2.15,3.7,2.7,1.7,2.1,2.6,2.1,2.0,2.8,2.8,1.8,1.7,2.8,1.6,5.2,2.3,2.7,2.8,2.2,2.3,2.6,2.55,2.2,2.1,2.9,2.0,2.6,2.1,1.2,2.6,2.4,2.6,2.1,1.7,2.2,2.0,1.8,2.2,2.7,15.5,2.8,2.2,2.2,4.1,1.9,1.9,1.8,2.8,2.6,2.8,2.5,2.6,3.0,8.3,2.6,1.9,2.5,2.6,3.0,1.9,6.55,6.55,1.9,1.8,2.9,1.8,2.3,2.2,2.8,4.6,2.2,2.1,2.4,2.4,6.1,4.3,2.1,2.8,2.5,2.7,2.0,2.3,2.5,2.4,2.8,2.5,2.5,2.6,2.4,2.1,2.7,2.7,2.1,2.7,2.1,2.4,2.1,5.8,5.15,3.3,6.3,2.1,2.5,1.8,2.6,2.0,2.5,2.6,1.9,2.1,2.8,2.7,1.6,4.2,4.2,4.6,4.2,4.6,4.3,2.8,2.4,2.9,2.7,4.3,2.8,2.5,2.5,2.6,2.2,3.3,2.2,2.4,2.1,3.2,3.1,2.3,2.8,2.9,2.2,2.2,2.2,2.2,1.9,3.4,2.4,2.7,1.9,2.0,2.6,2.6,1.7,2.6,3.5,2.6,7.9,2.0,1.9,2.1,2.3,2.1,2.2,2.6,2.2,2.9,2.6,4.6,3.3,5.1,3.2,2.5,2.7,2.4,1.5,2.2,2.3,2.3,2.2,2.7,2.3,3.4,3.4,1.9,2.9,5.6,5.6,2.2,2.2,2.5,2.3,2.5,2.7,3.0,3.4,1.9,1.4,2.4,2.3,2.2,1.9,2.3,2.3,2.3,2.3,2.3,6.0,3.6,2.2,2.8,8.6,2.2,2.5,7.5,2.8,2.4,2.9,2.2,1.4,1.4,4.4,1.4,1.6,1.6,1.8,2.0,2.0,1.8,2.0,2.3,2.0,2.5,1.7,2.0,1.7,2.2,2.2,2.2,2.3,2.6,3.3,1.9,2.2,2.25,2.6,2.3,2.6,1.8,3.1,1.6,1.8,4.25,2.6,2.0,2.8,2.7,1.3,2.1,2.1,3.2,2.1,2.9,2.1,2.1,2.6,1.6,6.0,2.0,3.0,2.5,1.6,2.8,3.0,3.2,2.3,2.6,2.7,2.3,2.6,2.0,3.9,2.0,2.85,2.7,2.2,3.1,3.0,2.8,1.8,1.8,3.2,2.3,3.45,2.1,2.7,2.0,2.1,2.1,2.5,2.8,2.4,4.2,2.6,1.9,2.8,2.7,2.1,2.5,2.6,2.1,2.1,2.9,2.9,2.5,2.9,1.7,1.9,2.0,2.2,2.2,2.5,2.8,2.0,1.7,2.0,2.8,3.0,2.9,2.7,2.3,1.9,2.3,2.4,2.3,1.8,1.8,3.0,2.4,2.4,3.4,2.6,2.0,2.4,2.4,2.4,2.5,2.3,2.3,2.2,2.2,2.9,2.6,2.9,2.5,2.6,2.3,2.6,2.5,1.6,3.6,3.6,4.0,3.3,1.7,2.5,2.7,2.4,2.0,2.4,1.9,2.8,2.6,2.8,2.5,2.1,2.8,2.5,3.2,1.6,2.35,3.2,1.9,2.1,2.0,2.0,2.8,2.8,2.3,2.8,2.3,2.1,2.5,2.1,1.5,1.6,1.6,1.5,2.4,2.4,1.6,2.2,2.65,3.0,2.6,2.0,1.7,1.8,1.8,1.8,1.8,1.6,1.9,1.9,2.5,1.5,1.5,2.5,1.5,2.5,1.7,1.8,2.7,2.0,2.7,2.5,2.7,2.6,2.3,2.0,1.8,2.0,2.1,1.5,2.0,1.6,2.1,2.8,2.2,2.1,4.0,2.5,1.6,2.1,3.1,2.5,4.0,2.5,2.4,2.6,2.5,6.6,2.0,2.3,1.9,2.3,2.2,2.3,2.4,2.3,2.4,3.4,2.6,2.4,2.4,6.0,6.0,3.0,2.6,2.2,2.4,1.2,3.8,9.0,2.9,4.6,1.2,2.2,1.5,8.8,2.2,1.8,2.3,2.2,1.8,8.8,2.3,1.9,2.3,2.2,2.3,3.3,1.9,2.0,1.9,2.0,1.9,2.3,2.3,1.4,2.8,1.6,2.2,5.0,2.6,2.3,3.8,2.0,4.1,2.1,1.8,1.8,1.8,2.1,2.2,2.1,2.7,1.9,2.1,2.0,2.3,2.0,1.9,1.6,2.1,2.0,1.9,2.4,2.4,2.1,2.4,2.9,1.9,1.9,2.4,1.7,5.9,2.1,2.1,2.6,3.6,1.4,1.9,1.9,2.1,1.9,1.4,2.0,1.4,1.6,1.7,1.5,1.7,2.0,2.0,2.0,2.5,2.0,2.2,2.2,1.4,1.65,2.2,1.5,2.05,1.8,1.6,1.8,2.05,2.0,3.6,2.8,1.7,2.0,2.1,1.6,2.0,2.2,2.2,0.9,0.9,1.8,2.4,2.4,2.1,2.3,1.8,2.8,1.9,2.2,2.5,1.8,2.1,1.8,4.1,2.6,2.5,2.4,2.5,1.8,6.2,2.2,2.2,1.7,2.2,8.9,3.3,1.4,1.7,1.8,1.7,1.8,1.8,1.4,2.4,2.3,2.0,2.0,4.0,3.9,2.4,4.0,1.8,1.8,1.9,2.4,2.0,2.4,2.4,2.2,2.2,2.8,1.5,8.1,1.8,2.7,8.1,2.0,2.0,6.4,6.4,8.3,1.4,8.3,1.8,2.4,1.8,1.8,4.7,1.6,1.5,1.5,1.9,2.0,2.0,2.2,5.5,2.5,5.5,1.5,2.1,1.5,2.1,2.1,1.7,2.1,2.2,2.1,1.9,2.0,3.3,2.1,1.4,2.0,1.5,1.6,4.3,2.5,2.5,2.5,2.1,2.5,2.5,1.8,1.4,1.9,2.2,1.7,1.7,2.9,2.7,3.3,1.9,1.7,1.8,5.5,1.7,1.7,2.0,2.0,3.7,2.0,1.7,2.5,2.4,1.8,2.3,2.5,1.8,6.2,2.0,2.0,2.8,2.5,2.2,2.1,2.2,2.2,1.75,2.1,2.8,2.2,2.3,1.4,2.3,1.7,1.7,1.9,2.0,2.5,2.8,2.3,1.6,2.2,2.1,1.7,1.7,2.2,5.6,2.4,2.1,2.4,2.4,1.65,2.5,1.6,2.1,2.0,7.8,2.0,2.1,1.8,4.6,2.3,2.5,2.3,1.8,1.8,2.3,1.5,2.0,2.3,1.5,1.9,1.8,5.8,2.1,2.1,2.1,1.7,2.1,2.0,2.1,2.1,2.1,1.9,1.9,2.1,2.0,1.9,1.9,1.3,1.8,1.8,2.2,2.2,2.5,2.6,4.1,2.0,1.8,2.1,2.7,2.6,2.1,2.2,2.2,12.9,1.7,2.2,2.5,4.3,1.7,2.5,2.0,2.4,13.4,1.8,1.7,1.8,2.2,2.3,2.3,2.2,1.8,1.4,1.9,2.4,1.8,4.8,2.7,2.7,1.8,2.0,2.5,2.2,1.8,2.3,2.3,2.3,2.0,1.8,1.6,1.6,1.9,2.0,2.1,2.3,6.3,1.9,2.3,1.7,1.9,1.9,2.0,2.7,2.3,1.8,2.5,2.6,4.5,4.5,1.9,2.1,2.4,1.9,2.1,4.3,4.3,2.1,1.4,2.1,2.15,2.0,2.1,1.8,2.3,1.9,2.5,3.9,2.5,1.4,1.9,3.0,1.9,2.3,2.4,2.0,1.2,2.2,2.0,1.7,2.6,1.2,1.8,1.8,1.7,1.7,1.7,1.7,1.8,2.1,2.1,3.8,1.7,2.2,2.0,2.4,1.4,1.4,1.4,1.7,1.7,1.7,1.7,1.7,2.6,2.3,2.1,1.8,1.8,2.8,2.0,2.3,1.9,1.9,2.3,1.8,1.8,2.5,5.4,1.4,2.3,2.5,1.4,2.0,1.9,2.2,1.7,2.2,2.1,1.6,1.7,3.1,1.7,3.8,1.2,2.0,1.4,2.3,2.0,2.6,2.6,1.8,2.1,2.1,1.8,3.4,1.8,1.8,6.1,2.2,2.3,2.4,1.3,2.0,3.9,1.6,1.6,2.0,2.2,2.2,2.1,2.1,2.0,1.7,2.6,2.0,5.1,2.1,2.2,2.1,1.8,2.4,5.1,2.0,2.2,1.6,2.2,2.5,1.6,2.2,1.6,1.6,2.1,3.9,1.4,1.4,1.8,2.5,1.9,2.2,1.8,2.1,1.6,1.8,15.4,15.4,1.6,4.8,1.7,2.2,2.0,5.2,1.9,1.75,2.2,5.2,1.9,1.9,1.9,2.0,2.0,2.7,2.0,1.9,2.2,1.6,1.8,1.9,1.7,1.7,2.3,2.1,2.3,2.4,1.7,1.7,2.1,2.3,2.1,2.1,1.4,3.75,2.6,1.8,13.8,2.2,13.8,2.2,5.7,3.0,1.5,3.0,2.1,1.5,2.0,2.1,2.1,1.9,1.7,2.1,1.8,1.7,1.6,1.9,1.4,1.9,1.9,2.3,2.3,2.3,1.5,4.3,2.4,2.5,2.3,1.8,2.0,2.3,2.1,1.8,2.2,2.1,2.2,1.8,4.1,4.1,2.3,2.0,2.2,2.6,2.0,1.9,2.3,2.0,2.0,2.1,2.2,1.7,2.2,2.1,2.2,2.8,2.0,1.9,2.4,2.2,1.9,1.9,2.5,1.8,4.4,2.2,1.9,2.2,2.3,1.8,2.0,1.6,2.0,1.8,2.3,2.3,3.7,2.2,2.4,1.7,2.2,2.4,6.7,2.0,2.0,2.0,2.0,2.0,2.0,1.9,2.1,2.0,1.6,1.9,2.2,2.2,2.2,2.4,13.9,2.2,1.6,5.1,1.8,1.7,2.4,1.7,2.6,2.1,2.4,2.6,2.4,1.8,2.5,7.8,1.8,1.7,2.3,1.9,2.0,2.2,2.3,2.0,3.6]},{\"axis\":{\"matches\":true},\"label\":\"chlorides\",\"values\":[0.076,0.098,0.092,0.075,0.076,0.075,0.069,0.065,0.073,0.071,0.097,0.071,0.089,0.114,0.176,0.17,0.092,0.368,0.086,0.341,0.077,0.082,0.106,0.084,0.085,0.08,0.08,0.106,0.08,0.082,0.089,0.105,0.083,0.073,0.103,0.086,0.086,0.066,0.172,0.074,0.074,0.088,0.332,0.069,0.05,0.054,0.114,0.113,0.066,0.074,0.074,0.069,0.068,0.081,0.11,0.084,0.07,0.111,0.076,0.074,0.079,0.115,0.085,0.081,0.086,0.086,0.079,0.076,0.074,0.074,0.076,0.088,0.084,0.084,0.094,0.093,0.093,0.104,0.086,0.08,0.069,0.464,0.086,0.401,0.069,0.076,0.11,0.062,0.107,0.076,0.079,0.11,0.11,0.062,0.045,0.058,0.102,0.07,0.079,0.08,0.084,0.075,0.08,0.077,0.07,0.077,0.467,0.088,0.091,0.122,0.104,0.084,0.085,0.08,0.104,0.09,0.077,0.082,0.119,0.097,0.178,0.119,0.075,0.08,0.082,0.146,0.081,0.082,0.065,0.072,0.118,0.049,0.049,0.06,0.084,0.09,0.089,0.081,0.081,0.081,0.09,0.089,0.05,0.066,0.05,0.117,0.087,0.236,0.074,0.089,0.077,0.61,0.095,0.095,0.07,0.071,0.07,0.071,0.073,0.079,0.09,0.072,0.076,0.07,0.07,0.1,0.085,0.072,0.089,0.36,0.058,0.073,0.073,0.068,0.08,0.085,0.08,0.087,0.068,0.067,0.067,0.27,0.076,0.077,0.079,0.111,0.082,0.084,0.084,0.082,0.077,0.074,0.099,0.071,0.071,0.074,0.074,0.067,0.046,0.061,0.056,0.097,0.075,0.088,0.089,0.095,0.095,0.069,0.1,0.054,0.039,0.083,0.059,0.06,0.092,0.06,0.101,0.072,0.076,0.08,0.082,0.101,0.057,0.083,0.089,0.073,0.337,0.089,0.073,0.081,0.054,0.078,0.09,0.081,0.065,0.097,0.097,0.097,0.097,0.065,0.263,0.093,0.102,0.075,0.075,0.084,0.075,0.072,0.074,0.084,0.063,0.074,0.09,0.092,0.074,0.073,0.075,0.075,0.611,0.085,0.077,0.087,0.07,0.077,0.064,0.071,0.096,0.078,0.077,0.104,0.087,0.104,0.071,0.076,0.088,0.087,0.077,0.104,0.073,0.087,0.071,0.358,0.067,0.087,0.102,0.102,0.073,0.092,0.091,0.105,0.091,0.343,0.091,0.098,0.094,0.073,0.086,0.083,0.094,0.08,0.086,0.068,0.092,0.186,0.112,0.063,0.082,0.213,0.214,0.062,0.063,0.072,0.093,0.076,0.087,0.096,0.102,0.082,0.083,0.082,0.083,0.09,0.079,0.09,0.071,0.071,0.121,0.107,0.082,0.061,0.122,0.122,0.066,0.105,0.078,0.128,0.052,0.08,0.103,0.082,0.066,0.065,0.118,0.118,0.082,0.067,0.072,0.093,0.089,0.093,0.107,0.096,0.09,0.12,0.066,0.078,0.08,0.116,0.109,0.088,0.099,0.086,0.072,0.071,0.083,0.107,0.083,0.076,0.159,0.074,0.063,0.056,0.067,0.106,0.089,0.124,0.078,0.074,0.088,0.094,0.08,0.085,0.08,0.08,0.087,0.09,0.088,0.079,0.088,0.096,0.045,0.085,0.082,0.112,0.063,0.066,0.122,0.087,0.087,0.064,0.122,0.059,0.085,0.085,0.075,0.059,0.063,0.093,0.174,0.07,0.08,0.08,0.1,0.097,0.087,0.117,0.111,0.091,0.121,0.066,0.089,0.059,0.047,0.066,0.047,0.059,0.045,0.077,0.07,0.088,0.066,0.074,0.078,0.091,0.076,0.091,0.06,0.066,0.076,0.062,0.072,0.068,0.1,0.077,0.054,0.079,0.081,0.127,0.1,0.095,0.095,0.413,0.084,0.084,0.063,0.086,0.095,0.097,0.084,0.074,0.083,0.087,0.085,0.098,0.084,0.098,0.069,0.065,0.09,0.07,0.093,0.081,0.083,0.062,0.08,0.087,0.091,0.075,0.087,0.077,0.069,0.08,0.152,0.152,0.114,0.054,0.054,0.053,0.081,0.073,0.078,0.055,0.052,0.086,0.051,0.07,0.081,0.09,0.07,0.086,0.081,0.074,0.074,0.078,0.077,0.072,0.075,0.084,0.09,0.084,0.073,0.09,0.125,0.107,0.107,0.122,0.1,0.2,0.088,0.088,0.088,0.088,0.099,0.085,0.086,0.105,0.088,0.097,0.084,0.077,0.078,0.098,0.098,0.072,0.102,0.078,0.077,0.084,0.066,0.1,0.101,0.064,0.07,0.085,0.075,0.094,0.078,0.067,0.079,0.171,0.074,0.092,0.092,0.05,0.095,0.095,0.118,0.095,0.118,0.085,0.075,0.078,0.094,0.092,0.085,0.075,0.226,0.226,0.25,0.095,0.07,0.095,0.075,0.07,0.078,0.079,0.103,0.083,0.085,0.063,0.089,0.089,0.083,0.074,0.093,0.091,0.094,0.108,0.06,0.059,0.084,0.07,0.084,0.094,0.096,0.086,0.059,0.071,0.078,0.082,0.088,0.071,0.081,0.071,0.096,0.085,0.072,0.092,0.11,0.075,0.083,0.081,0.077,0.058,0.148,0.079,0.079,0.079,0.122,0.088,0.076,0.078,0.08,0.077,0.124,0.124,0.098,0.098,0.097,0.111,0.097,0.105,0.087,0.105,0.073,0.065,0.086,0.084,0.143,0.067,0.071,0.071,0.071,0.071,0.071,0.115,0.107,0.07,0.066,0.068,0.106,0.104,0.096,0.079,0.074,0.087,0.106,0.073,0.074,0.096,0.074,0.08,0.076,0.05,0.092,0.084,0.222,0.082,0.059,0.082,0.083,0.074,0.079,0.074,0.084,0.064,0.084,0.084,0.081,0.06,0.07,0.094,0.078,0.059,0.078,0.059,0.07,0.095,0.039,0.157,0.097,0.087,0.422,0.084,0.084,0.034,0.066,0.066,0.087,0.071,0.076,0.066,0.067,0.073,0.078,0.073,0.093,0.077,0.068,0.062,0.08,0.093,0.084,0.075,0.078,0.069,0.075,0.079,0.082,0.086,0.082,0.094,0.084,0.053,0.086,0.077,0.084,0.067,0.067,0.071,0.387,0.088,0.092,0.082,0.075,0.112,0.112,0.093,0.092,0.088,0.075,0.078,0.065,0.096,0.095,0.07,0.08,0.083,0.071,0.07,0.089,0.089,0.097,0.089,0.415,0.058,0.057,0.084,0.084,0.092,0.075,0.096,0.069,0.096,0.093,0.091,0.089,0.103,0.082,0.076,0.082,0.082,0.082,0.157,0.157,0.102,0.243,0.241,0.079,0.076,0.19,0.114,0.081,0.114,0.077,0.083,0.083,0.079,0.079,0.099,0.082,0.084,0.081,0.055,0.065,0.132,0.126,0.038,0.082,0.082,0.082,0.068,0.044,0.114,0.084,0.052,0.041,0.052,0.165,0.07,0.068,0.072,0.099,0.102,0.103,0.099,0.081,0.084,0.071,0.097,0.099,0.048,0.076,0.076,0.068,0.076,0.05,0.076,0.065,0.071,0.058,0.071,0.145,0.147,0.088,0.066,0.012,0.012,0.075,0.092,0.085,0.115,0.119,0.088,0.062,0.081,0.081,0.078,0.081,0.08,0.085,0.085,0.08,0.08,0.08,0.071,0.08,0.073,0.054,0.074,0.077,0.039,0.067,0.078,0.077,0.077,0.071,0.072,0.074,0.08,0.064,0.086,0.067,0.067,0.104,0.109,0.067,0.064,0.094,0.076,0.078,0.068,0.194,0.076,0.094,0.086,0.083,0.066,0.072,0.112,0.071,0.078,0.082,0.078,0.08,0.08,0.078,0.08,0.078,0.084,0.056,0.08,0.08,0.06,0.06,0.081,0.084,0.079,0.078,0.059,0.132,0.114,0.065,0.094,0.059,0.079,0.161,0.084,0.081,0.072,0.091,0.081,0.072,0.084,0.055,0.064,0.061,0.093,0.055,0.063,0.08,0.074,0.078,0.074,0.08,0.06,0.06,0.071,0.068,0.073,0.074,0.082,0.092,0.094,0.09,0.071,0.092,0.093,0.075,0.075,0.075,0.093,0.058,0.052,0.082,0.09,0.111,0.088,0.12,0.089,0.058,0.078,0.115,0.1,0.058,0.065,0.103,0.097,0.068,0.079,0.066,0.066,0.104,0.079,0.073,0.083,0.083,0.109,0.061,0.075,0.065,0.079,0.07,0.065,0.075,0.064,0.066,0.08,0.097,0.073,0.097,0.082,0.076,0.082,0.092,0.079,0.087,0.087,0.05,0.055,0.062,0.058,0.063,0.067,0.081,0.067,0.063,0.064,0.11,0.116,0.067,0.088,0.102,0.092,0.12,0.075,0.068,0.049,0.049,0.078,0.123,0.123,0.062,0.098,0.088,0.095,0.066,0.065,0.075,0.088,0.091,0.093,0.095,0.089,0.077,0.085,0.082,0.074,0.078,0.088,0.088,0.079,0.088,0.069,0.046,0.07,0.076,0.082,0.081,0.084,0.082,0.414,0.073,0.07,0.095,0.095,0.101,0.104,0.093,0.101,0.074,0.071,0.098,0.075,0.067,0.083,0.07,0.06,0.06,0.086,0.057,0.098,0.083,0.088,0.098,0.071,0.073,0.08,0.08,0.05,0.047,0.05,0.073,0.072,0.073,0.074,0.055,0.057,0.095,0.095,0.083,0.086,0.081,0.079,0.117,0.087,0.117,0.096,0.216,0.096,0.072,0.071,0.078,0.071,0.073,0.048,0.069,0.068,0.09,0.171,0.07,0.092,0.056,0.074,0.046,0.091,0.091,0.091,0.065,0.066,0.076,0.062,0.055,0.081,0.096,0.055,0.063,0.072,0.095,0.092,0.058,0.045,0.075,0.089,0.061,0.067,0.08,0.08,0.104,0.079,0.08,0.08,0.043,0.065,0.066,0.076,0.178,0.071,0.086,0.061,0.067,0.044,0.118,0.083,0.1,0.118,0.071,0.042,0.076,0.11,0.087,0.076,0.075,0.078,0.078,0.369,0.111,0.074,0.067,0.086,0.062,0.078,0.074,0.079,0.079,0.095,0.079,0.052,0.041,0.076,0.076,0.068,0.068,0.07,0.08,0.085,0.079,0.085,0.08,0.075,0.08,0.166,0.063,0.166,0.114,0.078,0.076,0.069,0.052,0.076,0.069,0.065,0.068,0.111,0.074,0.074,0.074,0.136,0.074,0.071,0.078,0.076,0.078,0.071,0.081,0.095,0.079,0.057,0.082,0.044,0.132,0.132,0.078,0.074,0.08,0.091,0.08,0.104,0.044,0.075,0.066,0.074,0.075,0.057,0.059,0.054,0.07,0.059,0.081,0.057,0.076,0.079,0.058,0.082,0.067,0.082,0.086,0.082,0.081,0.079,0.079,0.077,0.123,0.096,0.079,0.069,0.082,0.085,0.123,0.123,0.403,0.083,0.081,0.089,0.066,0.081,0.081,0.068,0.079,0.044,0.048,0.049,0.077,0.073,0.102,0.075,0.05,0.114,0.075,0.062,0.077,0.077,0.084,0.096,0.071,0.09,0.068,0.056,0.068,0.068,0.1,0.073,0.056,0.084,0.073,0.093,0.093,0.064,0.063,0.137,0.08,0.1,0.064,0.081,0.087,0.073,0.088,0.068,0.088,0.071,0.073,0.064,0.083,0.086,0.086,0.083,0.041,0.091,0.083,0.414,0.094,0.041,0.058,0.06,0.077,0.077,0.077,0.077,0.073,0.083,0.083,0.107,0.075,0.079,0.166,0.069,0.057,0.057,0.057,0.084,0.084,0.084,0.085,0.084,0.077,0.063,0.056,0.078,0.078,0.081,0.069,0.065,0.086,0.086,0.077,0.086,0.084,0.078,0.168,0.091,0.112,0.093,0.091,0.08,0.096,0.115,0.094,0.088,0.079,0.069,0.415,0.153,0.415,0.11,0.267,0.083,0.086,0.09,0.078,0.077,0.077,0.074,0.08,0.08,0.107,0.076,0.1,0.1,0.083,0.08,0.068,0.094,0.07,0.078,0.07,0.092,0.09,0.08,0.083,0.068,0.08,0.08,0.052,0.061,0.082,0.062,0.062,0.064,0.048,0.064,0.082,0.071,0.062,0.104,0.077,0.065,0.077,0.064,0.077,0.077,0.077,0.079,0.079,0.123,0.076,0.076,0.046,0.078,0.072,0.049,0.066,0.069,0.042,0.069,0.214,0.214,0.169,0.07,0.052,0.072,0.062,0.094,0.078,0.058,0.072,0.094,0.078,0.08,0.08,0.056,0.062,0.104,0.062,0.074,0.073,0.052,0.05,0.074,0.067,0.054,0.054,0.06,0.075,0.076,0.063,0.063,0.062,0.067,0.062,0.061,0.084,0.067,0.073,0.071,0.205,0.048,0.205,0.048,0.082,0.104,0.08,0.104,0.114,0.042,0.06,0.074,0.07,0.066,0.049,0.048,0.039,0.049,0.05,0.089,0.066,0.08,0.089,0.054,0.068,0.054,0.076,0.083,0.078,0.077,0.106,0.078,0.07,0.106,0.074,0.062,0.047,0.068,0.061,0.078,0.074,0.074,0.071,0.063,0.114,0.106,0.063,0.082,0.071,0.076,0.075,0.064,0.064,0.071,0.096,0.063,0.063,0.081,0.058,0.074,0.064,0.075,0.077,0.059,0.081,0.065,0.071,0.054,0.064,0.064,0.063,0.059,0.072,0.048,0.099,0.074,0.087,0.083,0.103,0.08,0.062,0.065,0.066,0.062,0.235,0.08,0.08,0.08,0.076,0.076,0.076,0.061,0.059,0.076,0.077,0.056,0.23,0.038,0.069,0.075,0.074,0.06,0.081,0.076,0.118,0.053,0.068,0.053,0.053,0.074,0.061,0.066,0.065,0.066,0.068,0.073,0.077,0.089,0.076,0.068,0.09,0.062,0.076,0.075,0.067]},{\"axis\":{\"matches\":true},\"label\":\"free sulfur dioxide\",\"values\":[11.0,25.0,15.0,17.0,11.0,13.0,15.0,15.0,9.0,17.0,15.0,17.0,16.0,9.0,52.0,51.0,35.0,16.0,6.0,17.0,29.0,23.0,10.0,9.0,21.0,11.0,4.0,10.0,14.0,8.0,17.0,22.0,15.0,40.0,13.0,5.0,3.0,13.0,7.0,12.0,12.0,17.0,8.0,9.0,5.0,8.0,22.0,12.0,5.0,12.0,4.0,8.0,6.0,30.0,33.0,25.0,4.0,50.0,17.0,9.0,19.0,20.0,12.0,13.0,4.0,4.0,11.0,6.0,27.0,8.0,15.0,17.0,18.0,11.0,28.0,9.0,9.0,14.0,12.0,27.0,3.0,22.0,21.0,16.0,18.0,19.0,20.0,9.0,34.0,8.0,42.0,20.0,19.0,9.0,41.0,17.0,8.0,3.0,5.0,13.0,11.0,8.0,13.0,12.0,5.0,12.0,18.0,15.0,18.0,37.0,12.0,11.0,14.0,22.0,12.0,13.0,11.0,7.0,14.0,22.0,10.0,14.0,3.0,11.0,21.0,27.0,3.0,3.0,3.0,6.0,30.0,17.0,17.0,17.0,13.0,16.0,10.0,13.0,15.0,17.0,16.0,10.0,27.0,3.0,27.0,32.0,21.0,10.0,12.0,11.0,5.0,32.0,25.0,25.0,29.0,28.0,29.0,28.0,12.0,18.0,7.0,9.0,17.0,36.0,35.0,14.0,18.0,17.0,11.0,15.0,4.0,6.0,6.0,24.0,7.0,19.0,7.0,8.0,7.0,10.0,10.0,23.0,16.0,11.0,8.0,26.0,14.0,9.0,15.0,17.0,21.0,21.0,16.0,7.0,7.0,24.0,15.0,12.0,13.0,12.0,9.0,39.0,16.0,16.0,14.0,9.0,9.0,26.0,18.0,7.0,5.0,10.0,5.0,28.0,10.0,26.0,13.0,11.0,10.0,24.0,24.0,16.0,5.0,8.0,15.0,29.0,27.0,9.0,29.0,10.0,19.0,12.0,18.0,10.0,7.0,14.0,14.0,15.0,14.0,7.0,5.0,6.0,28.0,10.0,10.0,6.0,16.0,11.0,9.0,6.0,16.0,16.0,5.0,8.0,16.0,17.0,5.0,12.0,8.0,14.0,18.0,12.0,10.0,23.0,5.0,6.0,26.0,15.0,7.0,4.0,27.0,4.0,17.0,10.0,27.0,27.0,7.0,4.0,5.0,10.0,6.0,5.0,12.0,10.0,32.0,32.0,25.0,29.0,20.0,33.0,20.0,6.0,18.0,5.0,17.0,5.0,26.0,8.0,5.0,8.0,20.0,7.0,12.0,5.0,12.0,6.0,7.0,6.0,5.0,9.0,6.0,15.0,19.0,30.0,26.0,20.0,37.0,30.0,21.0,30.0,21.0,25.0,6.0,35.0,13.0,13.0,6.0,5.0,6.0,7.0,10.0,10.0,21.0,16.0,17.0,7.0,6.0,29.0,28.0,12.0,10.0,5.0,6.0,6.0,6.0,40.0,17.0,6.0,15.0,11.0,17.0,11.0,8.0,23.0,40.5,17.0,29.0,12.0,10.0,10.0,14.0,21.0,6.0,6.0,7.0,7.0,7.0,11.0,15.0,6.0,35.0,11.0,26.0,12.0,6.0,6.0,19.0,6.0,6.0,24.0,11.0,17.0,11.0,11.0,23.0,11.0,23.0,17.0,23.0,16.0,12.0,17.0,6.0,13.0,6.0,7.0,68.0,13.0,13.0,9.0,68.0,20.0,19.0,10.0,15.0,11.0,9.0,12.0,6.0,26.0,26.0,23.0,15.0,6.0,24.0,31.0,6.0,34.0,7.0,34.0,35.0,32.0,15.0,6.0,15.0,32.0,19.0,6.0,9.0,13.0,6.0,21.0,12.0,6.0,22.0,6.0,38.0,6.0,22.0,7.0,6.0,7.0,6.0,11.0,5.0,6.0,31.0,6.0,7.0,17.0,17.0,9.0,18.0,5.0,21.0,6.0,5.0,29.0,5.0,10.0,14.0,6.0,10.0,25.0,5.0,10.0,21.0,7.0,6.0,36.0,15.0,25.0,25.0,5.0,10.0,5.0,6.0,6.0,5.0,6.0,6.0,6.0,6.0,7.0,6.0,6.0,6.0,5.0,35.0,10.0,24.0,12.0,13.0,23.0,28.0,5.0,14.0,43.0,5.0,23.0,14.0,38.0,38.0,6.0,6.0,10.0,6.0,6.0,26.0,23.0,19.0,26.0,15.0,6.0,6.0,34.0,5.0,5.0,11.0,39.0,15.0,16.0,47.0,38.0,23.0,29.0,39.0,33.0,32.0,6.0,1.0,12.0,12.0,15.0,13.0,1.0,6.0,5.0,5.0,5.0,20.0,5.0,5.0,16.0,6.0,38.0,10.0,6.0,27.0,6.0,9.0,14.0,14.0,32.0,10.0,10.0,10.0,10.0,10.0,6.0,5.0,26.0,41.0,25.0,6.0,5.0,5.0,5.0,5.0,19.0,10.0,19.0,10.0,14.0,20.0,28.0,6.0,18.0,17.0,18.0,5.0,5.0,5.0,10.0,54.0,8.0,16.0,18.0,19.0,5.0,21.0,23.0,21.0,9.0,20.0,30.0,6.0,5.0,5.0,11.0,7.0,12.0,6.0,12.0,14.0,6.0,10.0,26.0,11.0,15.0,25.0,5.0,18.0,10.0,10.0,28.0,28.0,14.0,4.0,6.0,16.0,14.0,9.0,21.0,21.0,21.0,5.0,5.0,7.0,20.0,7.0,5.0,21.0,11.0,46.0,24.0,30.0,31.0,7.0,25.0,16.0,21.0,16.0,21.0,16.0,5.0,6.0,5.0,10.0,24.0,8.0,35.0,22.0,9.0,7.0,20.0,8.0,23.0,5.0,5.0,5.0,15.0,9.0,5.0,15.0,25.0,6.0,6.0,15.0,6.0,30.0,5.0,32.0,5.0,7.0,12.0,7.0,12.0,45.0,20.0,15.0,16.0,32.0,5.0,35.0,5.0,13.0,13.0,4.0,5.0,5.0,12.0,16.0,21.0,24.0,18.0,8.0,8.0,18.0,5.0,26.0,8.0,9.0,22.0,4.0,11.0,10.0,16.0,11.0,13.0,21.0,16.0,13.0,10.0,21.0,13.0,10.0,12.0,10.0,17.0,10.0,35.0,15.0,36.0,5.0,5.0,18.0,4.0,4.0,27.0,12.0,4.0,10.0,16.0,9.0,11.0,11.0,19.0,28.0,19.0,12.0,28.0,9.0,25.0,21.0,12.0,12.0,16.0,12.0,12.0,17.0,17.0,24.0,17.0,14.0,22.0,15.0,10.0,10.0,33.0,9.0,5.0,8.0,5.0,11.0,12.0,12.0,13.0,24.0,7.0,24.0,23.0,23.0,1.0,2.0,7.0,5.5,6.0,7.0,21.0,12.0,9.0,26.0,9.0,20.0,11.0,11.0,19.0,19.0,21.0,18.0,25.0,17.0,7.0,7.0,7.0,24.0,21.0,5.0,5.0,26.0,8.0,14.0,14.0,4.0,4.0,4.0,4.0,4.0,4.0,4.0,7.0,20.0,4.0,19.0,20.0,8.0,19.0,21.0,9.0,9.0,16.0,15.0,15.0,6.0,15.0,4.0,15.0,34.0,16.0,5.0,16.0,34.0,36.0,16.0,27.0,36.0,36.0,9.0,13.0,9.0,21.0,34.0,9.0,26.0,14.0,14.0,12.0,14.0,12.0,9.0,9.0,26.0,41.0,41.0,10.0,41.0,16.0,17.0,15.0,15.0,15.0,7.0,17.0,15.0,16.0,13.0,13.0,15.0,27.0,31.0,36.0,28.0,6.0,6.0,7.0,7.0,31.0,30.0,18.0,10.0,30.0,14.0,18.0,30.0,9.0,8.0,29.0,32.0,23.0,30.0,16.0,10.0,16.0,17.0,27.0,17.0,27.0,17.0,6.0,10.0,16.0,16.0,11.0,11.0,15.0,12.0,6.0,34.0,7.0,3.0,3.0,4.0,3.0,7.0,3.0,7.0,26.0,32.0,38.0,10.0,32.0,38.0,26.0,14.0,53.0,52.0,11.0,14.0,10.0,8.0,13.0,29.0,13.0,8.0,19.0,19.0,6.0,23.0,7.0,13.0,9.0,13.0,10.0,11.0,7.0,11.0,6.0,10.0,10.0,10.0,6.0,6.0,5.0,6.0,9.0,5.0,12.0,25.0,12.0,18.0,7.0,6.0,20.0,18.0,24.0,6.0,23.0,29.0,7.0,6.0,6.0,6.0,6.0,7.0,35.0,35.0,31.0,9.0,3.0,8.0,13.0,51.0,8.0,3.0,7.0,3.0,35.0,19.0,14.0,19.0,31.0,30.0,31.0,20.0,19.0,3.0,3.0,4.0,7.0,6.0,31.0,13.0,4.0,27.0,4.0,13.0,12.0,12.0,26.0,7.0,12.0,11.0,22.0,3.0,14.0,12.0,36.0,36.0,10.0,3.0,3.0,4.0,3.0,12.0,17.0,14.0,28.0,41.0,12.0,9.0,9.0,5.0,14.0,15.0,5.0,26.0,20.0,25.0,21.0,16.0,13.0,21.0,18.0,12.0,32.0,33.0,27.0,3.0,6.0,27.0,16.0,19.0,9.0,5.0,5.0,3.0,28.0,30.0,3.0,3.0,7.0,6.0,6.0,5.0,6.0,13.0,3.0,3.0,28.0,19.0,30.0,33.0,16.0,30.0,45.0,3.0,3.0,3.0,37.5,3.0,37.5,31.0,32.0,31.0,40.0,3.0,18.0,22.0,22.0,42.0,8.0,10.0,11.0,9.0,6.0,9.0,5.0,5.0,5.0,23.0,14.0,18.0,14.0,16.0,13.0,9.0,10.0,4.0,27.0,6.0,23.0,6.0,3.0,29.0,15.0,15.0,15.0,14.0,7.0,8.0,21.0,27.0,17.0,3.0,13.0,3.0,26.0,28.0,24.0,5.0,57.0,18.0,10.0,6.0,22.0,6.0,6.0,29.0,16.0,33.0,24.0,6.0,16.0,35.0,31.0,6.0,6.0,9.0,6.0,4.0,16.0,9.0,17.0,50.0,9.0,45.0,16.0,22.0,11.0,6.0,12.0,12.0,10.0,10.0,15.0,7.0,29.0,8.0,5.0,5.0,26.0,5.0,26.0,26.0,48.0,23.0,6.0,17.0,11.0,11.0,5.0,41.0,16.0,11.0,6.0,6.0,6.0,11.0,5.0,6.0,6.0,11.0,6.0,15.0,21.0,23.0,4.0,19.0,23.0,4.0,5.0,6.0,33.0,24.0,24.0,24.0,24.0,24.0,14.0,8.0,22.0,8.0,5.0,6.0,20.0,10.0,43.0,8.0,25.0,17.0,17.0,33.0,9.0,8.0,18.0,27.0,8.0,18.0,19.0,15.0,48.0,19.0,14.0,11.0,6.0,7.0,11.0,12.0,11.0,36.0,28.0,15.0,10.0,72.0,15.0,15.0,15.0,22.0,24.0,24.0,27.0,6.0,6.0,20.0,26.0,43.0,12.0,15.0,15.0,19.0,17.0,34.0,13.0,26.0,16.0,16.0,13.0,21.0,28.0,26.0,24.0,25.0,34.0,17.0,13.0,3.0,3.0,13.0,3.0,28.0,28.0,9.0,17.0,18.0,20.0,17.0,3.0,20.0,20.0,6.0,25.0,14.0,6.0,25.0,51.0,51.0,15.0,11.0,5.0,15.0,20.0,4.0,28.0,21.0,24.0,22.0,15.0,22.0,27.0,24.0,12.0,14.0,20.0,24.0,17.0,16.0,10.0,17.0,18.0,12.0,16.0,9.0,21.0,18.0,18.0,18.0,18.0,13.0,17.0,17.0,31.0,6.0,12.0,4.0,19.0,15.0,15.0,15.0,13.0,13.0,13.0,17.0,13.0,8.0,10.0,5.0,7.0,7.0,21.0,32.0,8.0,14.0,14.0,7.0,5.0,4.0,27.0,52.0,6.0,11.0,13.0,6.0,11.0,10.0,10.0,10.0,9.0,16.0,4.0,12.0,5.0,12.0,34.0,16.0,13.0,7.0,23.0,10.0,11.0,11.0,4.0,25.0,25.0,20.0,34.0,8.0,8.0,7.0,36.0,15.0,5.0,5.0,19.0,27.0,3.0,4.0,17.0,13.0,10.0,33.0,33.0,6.0,3.0,12.0,18.0,8.0,40.0,35.0,40.0,5.0,8.0,8.0,12.0,3.0,8.0,3.0,21.0,3.0,32.0,3.0,24.0,39.0,14.0,8.0,8.0,23.0,6.0,27.0,38.0,18.0,13.0,3.0,11.0,55.0,55.0,27.0,15.0,3.0,31.0,15.0,19.0,18.0,8.0,31.0,19.0,18.0,22.0,40.0,15.0,15.0,8.0,37.0,27.0,7.0,9.0,38.0,27.0,8.0,7.0,34.0,6.0,14.0,14.0,34.0,34.0,31.0,19.0,31.0,20.0,8.0,8.0,23.0,14.0,48.0,16.0,48.0,16.0,3.0,10.0,6.0,10.0,3.0,6.0,4.0,8.0,9.0,9.0,5.0,4.0,8.0,5.0,6.0,23.0,15.0,15.0,23.0,7.0,7.0,7.0,8.0,21.0,15.0,6.0,5.0,6.0,6.0,5.0,17.0,7.0,26.0,19.0,11.0,17.0,16.0,16.0,23.0,29.0,7.0,14.0,29.0,9.0,23.0,29.0,22.0,18.0,18.0,15.0,21.0,42.0,9.0,13.0,18.0,32.0,13.0,15.0,24.0,20.0,15.0,34.0,11.0,19.0,29.0,14.0,12.0,16.0,17.0,12.0,19.0,17.0,17.0,18.0,32.0,18.0,15.0,15.0,12.0,15.0,66.0,31.0,31.0,31.0,12.0,12.0,12.0,26.0,24.0,12.0,25.0,15.0,19.0,15.0,35.0,15.0,23.0,12.0,16.0,13.0,13.0,24.0,9.0,24.0,13.0,32.0,24.0,22.0,34.0,18.0,34.0,29.0,26.0,16.0,29.0,28.0,32.0,39.0,29.0,32.0,18.0]},{\"axis\":{\"matches\":true},\"label\":\"total sulfur dioxide\",\"values\":[34.0,67.0,54.0,60.0,34.0,40.0,59.0,21.0,18.0,102.0,65.0,102.0,59.0,29.0,145.0,148.0,103.0,56.0,29.0,56.0,60.0,71.0,37.0,67.0,40.0,23.0,11.0,37.0,35.0,16.0,82.0,37.0,113.0,83.0,50.0,18.0,15.0,30.0,19.0,87.0,87.0,46.0,14.0,23.0,11.0,65.0,114.0,37.0,12.0,96.0,23.0,15.0,14.0,119.0,73.0,45.0,10.0,110.0,54.0,46.0,52.0,112.0,35.0,54.0,11.0,11.0,39.0,15.0,65.0,19.0,27.0,96.0,94.0,43.0,83.0,42.0,42.0,30.0,80.0,119.0,15.0,67.0,73.0,51.0,61.0,40.0,136.0,31.0,125.0,24.0,140.0,136.0,133.0,31.0,85.0,106.0,23.0,22.0,10.0,35.0,50.0,22.0,35.0,65.0,36.0,65.0,69.0,64.0,80.0,153.0,47.0,108.0,111.0,46.0,47.0,62.0,40.0,28.0,56.0,89.0,89.0,56.0,13.0,34.0,102.0,90.0,12.0,12.0,16.0,19.0,134.0,99.0,99.0,26.0,29.0,63.0,52.0,45.0,105.0,108.0,63.0,52.0,63.0,20.0,63.0,141.0,94.0,88.0,30.0,43.0,11.0,69.0,99.0,99.0,129.0,128.0,129.0,128.0,22.0,86.0,20.0,20.0,31.0,121.0,121.0,96.0,101.0,42.0,44.0,63.0,8.0,18.0,18.0,42.0,35.0,49.0,35.0,38.0,20.0,42.0,42.0,110.0,42.0,65.0,62.0,85.0,67.0,26.0,143.0,144.0,127.0,49.0,126.0,28.0,28.0,120.0,55.0,27.0,93.0,31.0,24.0,145.0,49.0,39.0,37.0,28.0,28.0,120.0,95.0,19.0,19.0,62.0,15.0,65.0,41.0,121.0,49.0,41.0,44.0,144.0,58.0,72.0,10.0,28.0,55.0,63.0,81.0,23.0,63.0,37.0,106.0,49.0,58.0,37.0,37.0,38.0,38.0,39.0,38.0,37.0,62.0,24.0,109.0,24.0,24.0,23.0,51.0,73.0,39.0,23.0,37.0,34.0,21.0,86.0,34.0,119.0,13.0,56.0,45.0,33.0,45.0,67.0,35.0,49.0,27.0,10.0,61.0,37.0,27.0,23.0,61.0,23.0,65.0,38.0,94.0,61.0,27.0,23.0,13.0,47.0,19.0,10.0,53.0,47.0,71.0,71.0,49.0,53.0,49.0,98.0,49.0,18.0,48.0,16.0,53.0,27.0,70.0,29.0,31.0,33.0,44.0,15.0,28.0,21.0,90.0,25.0,54.0,14.0,12.0,30.0,25.0,105.0,98.0,135.0,72.0,53.0,92.0,74.0,59.0,74.0,59.0,87.0,18.0,73.0,50.0,50.0,14.0,13.0,21.0,15.0,41.0,41.0,114.0,44.0,38.0,21.0,16.0,58.0,99.0,29.0,21.0,18.0,14.0,14.0,32.0,63.0,34.0,15.0,46.0,28.0,34.0,26.0,19.0,77.0,165.0,32.0,55.0,29.0,23.0,41.0,81.0,50.0,37.0,15.0,42.0,21.0,42.0,24.0,75.0,18.0,63.0,25.0,46.0,72.0,47.0,15.0,47.0,18.0,24.0,60.0,27.0,43.0,27.0,27.0,54.0,37.0,48.0,42.0,53.0,49.0,88.0,43.0,26.0,95.0,25.0,38.0,124.0,49.0,49.0,42.0,124.0,38.0,64.0,41.0,27.0,25.0,28.0,30.0,16.0,49.0,86.0,78.0,77.0,19.0,122.0,134.0,20.0,124.0,20.0,52.0,67.0,48.0,60.0,24.0,60.0,48.0,48.0,32.0,30.0,35.0,24.0,66.0,24.0,18.0,54.0,18.0,62.0,22.0,54.0,50.0,29.0,27.0,43.0,19.0,27.0,31.0,72.0,16.0,27.0,35.0,35.0,26.0,35.0,22.0,67.0,19.0,22.0,65.0,22.0,47.0,23.0,19.0,25.0,129.0,15.0,26.0,51.0,18.0,21.0,48.0,47.0,52.0,68.0,14.0,24.0,28.0,16.0,20.0,28.0,31.0,23.0,17.0,18.0,18.0,24.0,17.0,17.0,14.0,67.0,26.0,56.0,25.0,27.0,81.0,91.0,16.0,38.0,113.0,16.0,81.0,38.0,76.0,76.0,24.0,22.0,26.0,21.0,13.0,62.0,43.0,43.0,62.0,49.0,15.0,15.0,151.0,14.0,16.0,32.0,106.0,33.0,43.0,133.0,142.0,116.0,53.0,106.0,85.0,55.0,33.0,28.0,42.0,42.0,33.0,32.0,28.0,33.0,13.0,35.0,17.0,47.0,17.0,20.0,53.0,15.0,106.0,28.0,21.0,69.0,25.0,25.0,45.0,44.0,96.0,23.0,23.0,17.0,23.0,17.0,47.0,19.0,121.0,110.0,60.0,47.0,19.0,15.0,15.0,20.0,42.0,37.0,42.0,28.0,47.0,78.0,46.0,14.0,111.0,110.0,40.0,14.0,14.0,15.0,21.0,80.0,38.0,47.0,102.0,50.0,13.0,75.0,149.0,75.0,43.0,38.0,109.0,24.0,18.0,30.0,22.0,23.0,35.0,14.0,35.0,63.0,24.0,20.0,52.0,65.0,39.0,57.0,16.0,29.0,29.0,103.0,71.0,71.0,28.0,17.0,16.0,112.0,104.0,32.0,45.0,58.0,58.0,15.0,15.0,31.0,84.0,31.0,19.0,43.0,86.0,102.0,33.0,147.0,145.0,23.0,57.0,40.0,68.0,40.0,68.0,40.0,11.0,20.0,14.0,28.0,148.0,32.0,155.0,71.0,30.0,29.0,53.0,32.0,42.0,20.0,13.0,20.0,42.0,27.0,13.0,54.0,48.0,16.0,15.0,31.0,15.0,45.0,13.0,151.0,13.0,17.0,31.0,17.0,31.0,87.0,49.0,40.0,29.0,58.0,15.0,152.0,15.0,40.0,38.0,9.0,17.0,14.0,93.0,62.0,122.0,125.0,44.0,25.0,25.0,72.0,19.0,88.0,25.0,23.0,84.0,14.0,54.0,19.0,37.0,35.0,33.0,84.0,112.0,33.0,48.0,77.0,34.0,48.0,49.0,22.0,45.0,22.0,106.0,48.0,127.0,12.0,13.0,49.0,11.0,11.0,58.0,37.0,14.0,19.0,72.0,39.0,22.0,22.0,58.0,104.0,38.0,16.0,139.0,18.0,101.0,101.0,28.0,57.0,68.0,31.0,28.0,40.0,40.0,66.0,40.0,32.0,47.0,33.0,31.0,31.0,88.0,104.0,35.0,19.0,35.0,44.0,48.0,74.0,98.0,94.0,32.0,94.0,143.0,144.0,44.0,45.0,16.0,48.0,18.0,34.0,92.0,45.0,37.0,96.0,37.0,85.0,61.0,61.0,58.0,58.0,119.0,82.0,130.0,87.0,13.0,26.0,60.0,64.0,42.0,14.0,14.0,108.0,17.0,86.0,46.0,18.0,10.0,10.0,10.0,12.0,15.0,14.0,24.0,38.0,7.0,41.0,38.0,30.0,27.0,47.0,59.0,22.0,42.0,36.0,36.0,16.0,37.0,8.0,37.0,45.0,24.0,9.0,24.0,48.0,51.0,23.0,55.0,100.0,100.0,28.0,26.0,34.0,31.0,68.0,92.0,42.0,31.0,31.0,39.0,31.0,32.0,22.0,22.0,122.0,55.0,55.0,14.0,55.0,47.0,32.0,24.0,85.0,88.0,25.0,84.0,85.0,86.0,24.0,22.0,24.0,43.0,43.0,46.0,48.0,10.0,10.0,16.0,14.0,43.0,69.0,88.0,21.0,35.0,26.0,88.0,69.0,30.0,28.0,56.0,64.0,99.0,52.0,86.0,18.0,86.0,88.0,43.0,43.0,43.0,43.0,11.0,39.0,33.0,33.0,18.0,18.0,115.0,78.0,9.0,61.0,11.0,11.0,9.0,8.0,10.0,11.0,6.0,62.0,45.0,79.0,46.0,23.0,79.0,46.0,45.0,28.0,77.0,73.0,75.0,28.0,19.0,25.0,38.0,66.0,38.0,25.0,72.0,72.0,26.0,42.0,11.0,25.0,17.0,52.0,45.0,24.0,20.0,24.0,12.0,21.0,21.0,21.0,12.0,10.0,9.0,11.0,23.0,10.0,51.0,36.0,32.0,38.0,18.0,16.0,27.0,38.0,48.0,10.0,113.0,46.0,22.0,10.0,10.0,13.0,12.0,13.0,72.0,72.0,119.0,29.0,6.0,17.0,28.0,70.0,17.0,6.0,11.0,7.0,70.0,27.0,21.0,27.0,68.0,47.0,68.0,88.0,41.0,11.0,11.0,10.0,12.0,12.0,47.0,27.0,8.0,45.0,8.0,27.0,25.0,24.0,55.0,12.0,19.0,32.0,31.0,7.0,27.0,28.0,109.0,109.0,23.0,8.0,8.0,9.0,9.0,18.0,43.0,36.0,52.0,68.0,18.0,14.0,15.0,14.0,27.0,48.0,17.0,35.0,56.0,42.0,39.0,32.0,26.0,39.0,39.0,53.0,38.0,45.0,51.0,14.0,17.0,51.0,45.0,25.0,20.0,77.0,77.0,10.0,90.0,52.0,10.0,8.0,16.0,15.0,17.0,10.0,20.0,26.0,10.0,10.0,52.0,37.0,92.0,75.0,37.0,92.0,67.0,8.0,8.0,8.0,278.0,8.0,289.0,70.0,59.0,70.0,64.0,9.0,30.0,41.0,41.0,74.0,19.0,16.0,31.0,17.0,20.0,17.0,18.0,16.0,18.0,36.0,25.0,30.0,25.0,25.0,49.0,17.0,24.0,13.0,66.0,14.0,55.0,35.0,10.0,80.0,21.0,21.0,21.0,24.0,15.0,17.0,28.0,33.0,29.0,13.0,27.0,11.0,52.0,89.0,70.0,10.0,135.0,38.0,18.0,15.0,50.0,13.0,13.0,94.0,86.0,79.0,71.0,12.0,20.0,70.0,51.0,21.0,14.0,21.0,11.0,12.0,70.0,38.0,38.0,63.0,38.0,88.0,101.0,54.0,37.0,20.0,21.0,19.0,21.0,21.0,38.0,60.0,48.0,44.0,14.0,12.0,44.0,16.0,65.0,65.0,59.0,47.0,11.0,78.0,47.0,47.0,11.0,54.0,61.0,119.0,39.0,12.0,39.0,119.0,19.0,20.0,12.0,41.0,12.0,64.0,56.0,94.0,9.0,77.0,94.0,9.0,10.0,12.0,76.0,44.0,44.0,44.0,52.0,44.0,24.0,15.0,53.0,15.0,13.0,9.0,29.0,79.0,74.0,24.0,50.0,44.0,44.0,89.0,23.0,20.0,77.0,46.0,21.0,88.0,66.0,58.0,90.0,66.0,36.0,18.0,113.0,17.0,18.0,24.0,20.0,60.0,65.0,40.0,86.0,160.0,34.0,48.0,34.0,36.0,37.0,37.0,60.0,14.0,13.0,35.0,46.0,60.0,69.0,33.0,33.0,56.0,24.0,66.0,26.0,51.0,36.0,36.0,19.0,51.0,87.0,60.0,64.0,44.0,44.0,36.0,81.0,10.0,10.0,81.0,9.0,54.0,54.0,22.0,69.0,36.0,47.0,31.0,7.0,110.0,110.0,12.0,60.0,28.0,12.0,60.0,77.5,77.5,29.0,18.0,9.0,28.0,57.0,15.0,68.0,68.0,88.0,91.0,29.0,91.0,63.0,88.0,27.0,41.0,65.0,69.0,91.0,46.0,41.0,91.0,64.0,88.0,46.0,18.0,55.0,34.0,34.0,34.0,34.0,38.0,91.0,91.0,67.0,25.0,48.0,11.0,40.0,26.0,26.0,26.0,31.0,31.0,31.0,31.0,31.0,20.0,28.0,13.0,12.0,12.0,41.0,73.0,46.0,57.0,57.0,28.0,32.0,28.0,67.0,98.0,28.0,38.0,54.0,28.0,63.0,31.0,42.0,45.0,105.0,74.0,8.0,66.0,14.0,66.0,89.0,29.0,100.0,31.0,74.0,28.0,35.0,35.0,25.0,105.0,105.0,84.0,85.0,23.0,23.0,49.0,111.0,33.0,33.0,12.0,59.0,73.0,12.0,11.0,104.0,28.0,24.0,141.0,141.0,24.0,13.0,46.0,34.0,22.0,54.0,53.0,54.0,16.0,19.0,22.0,89.0,15.0,18.0,15.0,37.0,19.0,133.0,19.0,58.0,55.0,31.0,23.0,23.0,60.0,23.0,55.0,67.0,47.0,74.0,11.0,25.0,95.0,95.0,90.0,39.0,8.0,92.0,28.0,98.0,30.0,22.0,92.0,98.0,30.0,39.0,54.0,29.0,28.0,17.0,53.0,85.0,23.0,17.0,89.0,85.0,20.0,15.0,64.0,13.0,31.0,39.0,53.0,53.0,54.0,32.0,54.0,49.0,24.0,16.0,44.0,45.0,82.0,89.0,82.0,89.0,14.0,22.0,13.0,22.0,9.0,12.0,11.0,25.0,23.0,17.0,13.0,11.0,18.0,13.0,18.0,147.0,28.0,28.0,147.0,16.0,13.0,16.0,15.0,64.0,60.0,14.0,12.0,12.0,14.0,12.0,25.0,20.0,48.0,27.0,17.0,65.0,65.0,65.0,58.0,44.0,20.0,27.0,44.0,23.0,58.0,61.0,47.0,34.0,38.0,24.0,59.0,52.0,18.0,28.0,22.0,84.0,29.0,35.0,45.0,31.0,26.0,60.0,32.0,49.0,38.0,19.0,19.0,28.0,26.0,26.0,50.0,24.0,26.0,27.0,54.0,28.0,23.0,24.0,20.0,23.0,115.0,131.0,131.0,131.0,20.0,20.0,20.0,42.0,52.0,20.0,42.0,34.0,35.0,25.0,104.0,50.0,92.0,20.0,29.0,27.0,20.0,32.0,26.0,32.0,27.0,98.0,34.0,48.0,60.0,28.0,102.0,79.0,35.0,26.0,40.0,38.0,44.0,51.0,40.0,44.0,42.0]},{\"axis\":{\"matches\":true},\"label\":\"density\",\"values\":[0.9978,0.9968,0.997,0.998,0.9978,0.9978,0.9964,0.9946,0.9968,0.9978,0.9959,0.9978,0.9943,0.9974,0.9986,0.9986,0.9969,0.9968,0.9974,0.9969,0.9968,0.9982,0.9966,0.9968,0.9968,0.9955,0.9962,0.9966,0.9972,0.9964,0.9958,0.9966,0.9966,0.9993,0.9957,0.9986,0.9975,0.9968,0.994,0.9978,0.9978,0.9976,0.9968,0.9968,0.9962,0.9934,0.997,0.9969,0.9958,0.9954,0.9971,0.9956,0.9955,0.997,0.9955,0.9978,0.9971,0.9983,0.9975,0.9962,0.998,0.9968,0.9968,0.9966,0.9962,0.9962,0.9968,0.9962,0.9969,0.9962,0.9967,0.9962,0.9961,0.9976,0.9984,0.9986,0.9986,0.9966,0.9958,0.9972,0.9958,0.9974,0.997,0.9969,0.9959,0.9961,0.9972,0.9966,0.9978,0.9978,0.9964,0.9972,0.9972,0.9966,0.9938,0.9932,0.9965,0.9963,0.9967,0.9972,0.9972,0.9959,0.9972,0.9967,0.996,0.9967,0.9973,0.9969,0.9976,0.9969,0.9964,0.9964,0.9964,0.9988,0.9964,0.9966,0.9978,0.997,0.9962,0.9959,0.9962,0.9962,0.998,0.9976,0.996,0.9984,0.9964,0.9964,0.9962,0.9955,0.9968,0.9937,0.9937,0.9952,0.9959,0.9965,0.9968,0.9972,0.9962,0.9962,0.9965,0.9968,0.9916,0.9954,0.9916,0.9968,0.9944,0.9968,0.9959,0.9975,0.9958,0.9996,0.995,0.995,0.9973,0.9973,0.9973,0.9973,0.9969,0.9968,0.9959,0.9965,0.9964,0.9982,0.9981,0.9961,0.9956,0.9956,0.9953,0.9964,0.9972,0.9972,0.9972,0.9961,0.9961,0.9958,0.9961,0.9972,0.9969,0.9969,0.9969,0.9972,0.9972,0.9971,0.997,0.9971,0.9972,0.9976,0.9968,0.9968,0.9976,0.9974,0.9969,0.9964,0.9964,0.9968,0.9968,0.9981,0.9924,0.9948,0.99695,0.9975,0.99545,0.9961,0.99615,0.9994,0.9994,0.99625,0.9966,0.998,0.99585,0.99685,0.998,0.9959,0.9974,0.9974,0.9962,0.9967,0.9957,0.99655,0.9964,0.9957,0.99525,0.99815,0.99745,0.99615,0.9964,0.9984,0.99615,0.99685,0.9927,0.99625,0.998,0.99685,0.99685,0.99675,0.99675,0.99675,0.99675,0.99685,0.9971,0.99925,0.99565,1.00005,1.00005,0.9983,0.99685,0.9963,0.99615,0.9983,0.9985,0.9972,0.9986,0.9959,0.9972,0.99675,0.998,0.9968,0.9968,0.99965,0.99625,0.99565,0.99575,0.9963,0.9999,0.9968,1.00025,0.9973,0.9987,0.9996,0.9965,0.9996,0.99935,0.99735,0.99915,0.9965,0.9987,0.9996,0.9976,0.9991,0.9986,0.9972,0.9971,0.9991,1.00015,1.00015,0.9997,0.9967,0.9976,1.001,0.9976,0.9979,0.9994,0.9964,1.0014,1.0001,0.9981,0.99855,0.9993,0.99845,0.9965,0.9973,0.9994,0.996,0.9973,0.9998,0.9966,0.9994,0.9994,0.9968,0.9998,0.996,0.99815,0.9976,0.99645,0.9962,0.9996,0.99865,0.9989,0.99865,0.9989,0.99975,0.99735,0.999,1.0015,1.0015,0.9978,0.998,1.0002,0.9981,0.998,0.998,0.9973,0.9958,0.9963,0.9992,0.9948,0.9974,1.0008,0.9997,1.0,0.9972,0.9982,0.9982,1.0006,0.9979,0.9955,0.9986,0.9979,0.9994,1.0004,0.9994,0.9974,1.0018,0.9912,0.9955,1.0001,0.997,1.0,1.001,0.9973,0.9982,0.9992,0.9988,1.0022,0.9979,1.0022,1.0,0.9998,0.9962,0.9975,0.9967,0.9967,0.9959,1.0014,0.9984,1.0003,0.9962,0.9988,0.9979,0.9974,1.0014,0.9974,0.9974,0.998,0.9979,0.9981,0.9972,0.9981,0.9982,0.9924,1.0014,0.998,0.997,0.9997,1.0004,0.9994,0.9988,0.9988,0.9963,0.9994,0.9949,1.0,0.9994,0.9974,0.9966,0.9981,0.9996,0.997,0.9981,0.9987,0.9987,0.9966,0.9986,0.9982,1.0014,0.997,0.9956,0.9996,0.9976,0.9972,0.9952,0.9955,0.9978,0.9955,0.9952,0.9949,0.9988,0.9978,0.9997,0.9978,0.9974,0.9958,1.0004,0.9996,1.0004,0.9958,0.9986,0.9996,0.9951,0.9987,0.9988,1.0032,0.9963,0.9934,0.9986,0.9996,0.9968,0.9967,0.9994,0.9994,0.9979,0.9968,0.9998,0.9952,0.9988,0.9986,0.9988,0.9998,1.0008,0.9976,0.9982,0.997,0.9972,0.9987,1.0006,0.9982,0.9947,1.0,0.9952,0.9996,0.997,0.9995,0.9971,0.9982,0.9988,0.998,0.9977,0.9988,0.9984,1.0026,0.9964,0.9986,0.9986,0.997,0.9976,0.9976,0.9982,1.0002,0.9984,0.9984,0.9952,0.995,1.0002,0.9952,0.9972,0.9984,0.9966,0.9972,1.0002,0.9984,0.999,0.999,0.9976,0.9976,0.9968,0.9976,1.0,0.9994,0.9986,0.9978,0.9994,0.998,0.9973,0.9973,1.001,1.001,0.9994,0.9972,0.9966,0.9982,0.998,0.9979,0.9978,0.9976,0.9998,0.9966,0.9962,0.9988,0.9974,0.999,1.0004,1.0004,0.9956,1.0,0.999,0.9974,0.9972,1.0014,0.9996,0.9988,0.9988,0.9966,0.9993,1.0008,0.9982,0.9983,0.9987,0.9994,0.9975,0.9958,0.998,0.998,0.9934,1.00315,1.00315,1.0002,1.00315,1.0002,1.0021,0.9994,0.9978,0.9982,0.9971,1.0021,0.9994,0.9991,0.9991,0.999,0.9946,1.0003,0.9946,0.9978,0.9991,0.9992,0.9993,0.9978,0.9982,0.9982,0.9976,1.0002,1.0002,1.0,0.9976,1.0002,0.998,0.9986,0.9967,0.9917,0.9976,0.9987,0.9922,0.9987,1.0004,0.9978,0.9998,0.9994,0.998,0.9967,1.0,0.9962,1.0006,0.9975,1.0006,0.9984,0.9984,0.9973,0.9982,1.0026,0.9956,0.9983,1.0006,0.9965,0.9962,0.9969,0.9997,0.9997,0.9982,1.0006,0.9988,0.9976,0.9976,0.9974,0.9974,0.9997,0.9997,0.9988,0.9988,0.9976,0.9964,0.9976,0.9988,0.9964,1.001,0.9964,0.9954,0.9979,0.9978,0.9964,0.997,0.9991,0.9992,0.9991,0.9992,0.9991,0.9984,0.9972,0.9967,0.9964,0.9948,0.9986,1.001,0.9976,0.9976,0.9979,1.0004,0.9986,0.998,0.9973,0.997,0.9973,0.9978,0.9972,0.9974,1.0,0.9981,0.998,0.9988,0.9966,0.9988,0.9959,0.9968,0.998,0.9968,0.9984,0.9984,0.9984,0.9979,0.9983,0.9972,1.0004,0.9962,0.998,0.997,0.998,0.997,0.997,0.9998,0.9962,0.9976,0.9966,0.9998,0.9979,0.9984,0.9984,0.9921,0.9972,0.9972,1.0001,0.9986,0.9984,0.9972,0.997,0.9972,0.998,0.999,0.9956,0.9966,0.996,0.9983,0.9985,0.9998,0.9992,0.9976,0.998,0.9967,0.9976,0.9968,0.9976,0.9976,0.9976,0.9982,0.9968,0.9965,0.9958,0.9976,0.9994,0.997,0.997,0.995,0.9982,0.9994,0.9966,0.998,0.9987,0.9963,0.9963,1.0002,0.9983,0.999,0.9965,0.99788,0.9972,1.00024,1.0001,0.99768,0.9978,0.99782,0.99761,0.99768,0.99803,0.99803,0.99785,0.99803,0.99656,0.99525,0.99488,0.99656,0.99656,0.99823,0.99779,0.99738,0.99701,0.99738,0.99888,0.99888,0.99738,0.99938,0.99744,0.99668,0.99744,0.9978,0.99782,0.9973,0.99727,0.99586,0.99612,0.9961,0.99788,0.99745,0.99676,0.99732,0.99814,0.99732,0.99746,0.9982,0.9982,0.9991,0.9991,0.998,0.99708,0.99818,0.99745,0.99639,0.99531,0.99786,0.99746,0.99526,0.9987,0.9987,0.99641,0.99735,0.99264,0.9971,0.99682,0.99356,0.99386,0.99356,0.99702,0.99693,0.99562,1.00012,0.99818,0.99462,0.99939,0.99818,0.9984,0.99545,0.99632,0.99976,0.99606,0.99154,0.9973,0.9973,0.99682,0.99624,0.9951,0.99624,0.99417,0.99376,0.99632,0.99376,0.99832,0.99836,0.99694,0.99655,0.99064,0.99064,0.99672,0.99647,0.99736,0.99629,0.99708,0.9963,0.9959,0.99689,0.99689,0.9977,0.99689,0.99689,0.99708,0.99708,0.99801,0.99652,0.99652,0.99538,0.99652,0.99594,0.99686,0.99438,0.99746,0.99357,0.99628,0.99746,0.99746,0.99748,0.99438,0.99438,0.99438,0.99578,0.99371,0.99522,0.99576,0.99552,0.99664,0.99614,0.99517,0.99371,0.99787,0.99745,0.99576,0.99533,0.99536,0.99745,0.99787,0.99824,0.99836,0.99577,0.99491,1.00289,0.99576,0.99743,0.99774,0.99743,0.99745,0.9955,0.99444,0.9955,0.99444,0.99892,0.99562,0.99736,0.99736,0.9962,0.9962,0.998,0.9964,0.9948,0.99528,0.99331,0.99577,0.99901,0.99674,0.99639,0.99331,0.99512,0.99395,0.99824,0.9964,0.99504,0.99786,0.9964,0.99504,0.99824,0.99516,0.99604,0.99786,0.99736,0.99516,0.99468,0.99746,0.99748,0.9971,0.99748,0.99746,0.99543,0.99543,0.99791,0.99356,0.99425,0.99509,0.99484,0.99834,0.99864,0.99498,0.99566,0.99745,0.99408,0.99552,0.99552,0.99552,0.99408,0.99536,0.99458,0.99538,0.99648,0.99568,0.99613,0.99519,0.99735,0.99518,0.99592,0.99654,0.99546,0.99518,0.99554,0.99604,0.99733,0.9943,0.99669,0.99724,0.99724,0.99643,0.99605,0.99658,0.997,0.997,0.99801,0.99416,0.9969,0.99774,0.99712,0.99418,0.99774,0.9969,0.99562,0.9947,0.99693,0.99596,0.99556,0.99596,0.99694,0.99554,0.99694,0.99918,0.99697,0.99378,0.99378,0.99554,0.99162,0.99495,0.99676,0.99516,0.9928,0.99603,0.9928,0.99516,0.99516,0.99549,0.99722,0.99354,0.9957,0.99604,0.99635,0.99454,0.99598,0.99486,0.99007,0.99007,0.99636,0.99642,0.99642,0.99584,0.99506,0.99568,0.99822,0.99364,0.99378,0.99586,0.99568,0.99488,0.99514,0.99854,0.99592,0.99739,0.99683,0.99356,0.99672,0.9953,0.99692,0.99756,0.99547,0.99692,0.99859,0.99294,0.99438,0.99612,0.99634,0.99702,0.99704,0.99634,0.99702,0.99258,0.99426,0.99747,0.99747,0.99586,0.99784,0.9971,0.99586,0.9981,0.99462,0.9956,0.99565,0.99418,0.9963,0.99358,0.99572,0.99572,0.997,0.99498,0.99892,0.9968,0.9972,0.99892,0.99769,0.99534,0.99817,0.99817,0.99316,0.99471,0.99316,0.99685,0.99617,0.99685,0.99529,0.99738,0.994,0.99735,0.99735,0.99451,0.99546,0.99479,0.99615,0.99655,0.99772,0.99655,0.99666,0.99358,0.99666,0.99392,0.99388,0.99402,0.99388,0.9936,0.99374,0.99376,0.99523,0.99855,0.9982,0.99593,0.99471,0.99396,0.99698,0.9902,0.99572,0.99572,0.99572,0.99252,0.99256,0.99235,0.99352,0.9922,0.99674,0.99557,0.99394,0.9915,0.99379,0.9984,0.99798,0.9977,0.99341,0.9933,0.99684,0.99524,0.9946,0.99774,0.99774,0.99786,0.99764,0.9969,0.99624,0.99354,0.99672,0.99588,0.99672,0.996,0.99702,0.99526,0.99585,0.99473,0.99352,0.99616,0.99622,0.99544,0.99616,0.99524,0.9924,0.99572,0.99728,0.99676,0.99551,0.99434,0.99692,0.99692,0.99634,0.99709,0.99528,0.99384,0.99502,0.99667,0.99522,0.99649,0.99716,0.99716,0.99541,0.99572,0.99318,0.99346,0.99599,0.99599,0.99478,0.99754,0.99572,0.99538,0.99346,0.9963,0.99346,0.99538,0.99616,0.99652,0.99551,0.99439,0.99551,0.99588,0.99633,0.99686,0.99458,0.9951,0.99686,0.99458,0.99419,0.99516,0.99878,0.99534,0.99534,0.99534,0.99752,0.99534,0.99428,0.99498,0.9957,0.99498,0.99659,0.99628,0.99488,0.99677,0.99408,0.996,0.99478,0.99734,0.99734,0.99678,0.99638,0.9992,0.99922,0.99592,0.99769,0.99157,0.99718,0.9947,0.99621,0.99718,0.99614,0.99242,0.99572,0.99659,0.99242,0.99798,0.99488,0.99494,0.99729,0.99414,0.9983,0.99721,0.99655,0.99502,0.99655,0.9949,0.99514,0.99514,0.9963,0.99627,0.99569,0.99628,0.99358,0.99499,0.99633,0.99538,0.99538,0.99632,0.99437,0.99726,0.9978,0.99456,0.99564,0.99564,0.996,0.99668,0.9908,0.99084,0.9935,0.99385,0.99494,0.9944,0.99688,0.99566,0.99636,0.99688,0.9948,0.9956,0.9956,0.99619,0.99734,0.99476,0.99734,0.99328,0.99286,0.99914,0.99914,0.99521,0.99638,0.99362,0.99672,0.99638,0.99558,0.99558,0.99323,0.99191,0.99476,0.99444,0.99598,0.99576,0.99501,0.9955,0.99612,0.9979,0.99524,0.9979,0.996,0.99612,0.9929,0.99532,0.99558,0.99556,0.99616,0.99258,0.99638,0.99616,0.99652,0.99796,0.99258,0.99392,0.99495,0.9948,0.9948,0.9948,0.9948,0.9955,0.99616,0.99616,0.99668,0.99581,0.9976,0.99608,0.99387,0.99448,0.99448,0.99448,0.99538,0.99538,0.99538,0.99589,0.99538,0.99852,0.99613,0.99472,0.99587,0.99587,0.99518,0.99654,0.99332,0.9969,0.9969,0.99568,0.99464,0.99464,0.99648,0.99736,0.99704,0.99699,0.99724,0.99704,0.99652,0.995,0.9971,0.99576,0.99725,0.99656,0.99396,0.99623,0.99476,0.99623,0.99664,0.99471,0.99586,0.9946,0.9953,0.99609,0.99557,0.99557,0.99534,0.99613,0.99613,0.99593,0.99668,0.9961,0.9961,0.99718,0.99524,0.99292,0.99612,0.9942,0.99612,0.99669,0.99745,0.99745,0.99584,0.9966,0.9956,0.9962,0.9962,0.9963,0.996,0.9985,0.9952,0.9974,0.995,0.995,0.995,0.9936,0.9963,0.9974,0.9963,0.9994,0.9966,0.9994,0.9952,0.995,0.9956,0.995,0.9965,0.9956,0.9968,0.9974,0.9974,0.9971,0.9957,0.9962,0.996,0.9956,0.9958,0.9944,0.9955,1.00369,1.00369,0.99914,0.99577,0.996,0.99566,0.9947,0.99713,0.99712,0.99322,0.99566,0.99713,0.99712,0.99701,0.99683,0.99472,0.9947,0.99732,0.99374,0.99706,0.99974,0.99467,0.99236,0.99706,0.99603,0.99458,0.99724,0.99664,0.99545,0.99522,0.9958,0.9958,0.99728,0.99648,0.99728,0.99705,0.99578,0.99334,0.99656,0.99336,1.00242,0.99182,1.00242,0.99182,0.99808,0.99828,0.99498,0.99828,0.99719,0.99542,0.99592,0.99606,0.99546,0.99496,0.9942,0.99448,0.99344,0.9942,0.99348,0.99636,0.99459,0.99492,0.99636,0.99508,0.99582,0.99508,0.99508,0.99642,0.99638,0.99555,0.99605,0.996,0.99562,0.99605,0.99814,0.9941,0.99661,0.99712,0.99588,0.99294,0.99842,0.99842,0.99633,0.99489,0.99647,0.99665,0.99489,0.99585,0.99633,0.9953,0.99522,0.99552,0.99553,0.9951,0.99714,0.99608,0.99444,0.99631,0.99573,0.99717,0.99397,0.9959,0.99528,0.99484,0.99538,0.99714,0.99646,0.99666,0.99472,0.99758,0.9955,0.99531,0.99575,0.99306,0.99783,0.99419,0.99783,0.99768,0.99586,0.99765,0.99627,0.99514,0.99636,0.99627,0.99787,0.99622,0.99622,0.99622,0.99546,0.99546,0.99546,0.99489,0.99494,0.99546,0.99629,0.99396,0.9934,0.99514,0.99632,0.99467,0.99677,0.99474,0.99588,0.99622,0.9954,0.99402,0.9947,0.99402,0.99362,0.99578,0.99484,0.99494,0.99492,0.99483,0.99414,0.9977,0.99314,0.99402,0.99574,0.99651,0.9949,0.99512,0.99574,0.99547,0.99549]},{\"axis\":{\"matches\":true},\"label\":\"pH\",\"values\":[3.51,3.2,3.26,3.16,3.51,3.51,3.3,3.39,3.36,3.35,3.28,3.35,3.58,3.26,3.16,3.17,3.3,3.11,3.38,3.04,3.39,3.52,3.17,3.17,3.43,3.34,3.28,3.17,3.47,3.38,3.35,3.46,3.17,3.45,3.38,3.4,3.42,3.23,3.5,3.33,3.33,3.26,3.21,3.3,3.48,3.9,3.25,3.25,3.34,3.32,3.15,3.4,3.39,3.2,3.17,3.34,3.04,3.26,3.43,3.41,3.44,3.21,3.38,3.39,3.41,3.41,3.42,3.44,3.28,3.34,3.32,3.32,3.31,3.31,3.28,3.54,3.54,3.52,3.38,3.16,3.41,3.13,3.36,3.16,3.44,3.41,2.93,3.39,3.14,3.48,3.23,2.93,2.93,3.39,3.75,3.85,3.45,3.25,3.39,3.3,3.4,3.31,3.3,3.29,3.33,3.29,3.08,3.46,3.37,3.21,3.19,3.15,3.15,3.32,3.19,3.07,3.39,3.37,3.21,3.34,3.3,3.21,3.49,3.44,3.39,3.16,3.53,3.54,3.42,3.42,3.24,3.63,3.63,3.4,3.22,3.19,3.23,3.48,3.33,3.32,3.19,3.23,3.68,3.34,3.68,3.17,3.54,3.11,3.42,3.53,3.33,2.74,3.35,3.35,3.42,3.42,3.42,3.42,3.48,3.59,3.2,3.17,3.33,3.37,3.37,3.19,3.34,3.37,3.47,3.0,3.36,3.29,3.29,3.42,3.33,3.35,3.33,3.58,3.48,3.19,3.19,3.12,3.44,3.54,3.52,3.26,3.34,3.39,3.2,3.2,3.23,3.57,3.28,3.28,3.28,3.25,3.46,3.11,3.57,3.51,3.22,3.04,3.36,3.34,3.34,3.2,3.2,3.29,3.22,3.31,3.3,3.35,3.21,3.3,3.24,3.34,3.14,3.36,3.39,3.3,3.34,3.15,3.42,3.28,3.31,3.37,3.04,3.39,3.37,3.46,3.54,3.37,3.34,3.46,3.32,3.37,3.37,3.37,3.37,3.32,3.0,3.14,3.08,3.07,3.07,3.61,3.38,3.2,3.35,3.61,3.22,3.47,3.17,3.23,3.47,3.26,3.22,3.49,3.06,3.36,3.29,3.35,3.34,3.28,3.08,3.2,3.6,3.35,3.69,3.28,3.36,3.28,3.22,3.31,3.38,3.36,3.69,3.28,3.23,3.38,3.12,3.25,3.36,3.38,3.31,3.31,3.1,3.37,3.34,3.2,3.34,3.3,3.22,3.41,3.05,3.05,3.16,3.67,3.67,3.68,3.38,3.22,3.51,3.39,3.2,3.12,3.36,3.19,3.19,3.41,3.12,3.27,3.32,3.3,3.39,3.42,3.3,3.3,3.37,3.3,3.37,3.24,3.29,3.28,3.16,3.16,3.05,3.28,3.16,3.18,3.23,3.23,3.22,3.13,3.34,3.17,3.35,3.31,3.16,3.11,3.12,3.21,3.3,3.3,3.12,3.6,3.58,3.02,3.11,3.36,3.28,3.35,3.27,3.18,3.25,3.55,3.26,3.24,3.15,3.17,3.19,3.37,3.05,2.99,3.07,3.26,3.07,3.16,3.18,3.2,3.57,3.32,3.32,3.05,3.01,3.01,3.26,3.2,3.11,3.31,3.21,3.06,3.21,3.21,3.42,3.43,3.41,3.31,3.43,3.19,3.56,3.06,3.18,3.16,3.03,3.22,3.47,3.18,3.18,3.1,3.47,3.29,3.1,3.15,3.26,3.36,3.24,3.18,3.19,3.05,3.38,3.38,3.27,3.27,3.26,3.32,3.26,3.44,3.24,3.62,3.28,3.52,3.36,3.15,3.36,3.52,3.49,3.26,3.24,3.1,3.15,3.25,3.0,3.16,3.15,3.16,3.26,3.17,3.15,3.08,2.88,3.06,2.95,3.23,3.57,3.23,3.1,3.22,3.2,3.1,3.1,3.06,3.44,3.26,3.5,3.22,3.37,3.28,3.26,3.25,3.35,3.26,3.18,3.08,2.98,3.48,3.16,3.32,3.17,3.2,3.05,3.2,3.15,3.26,3.2,3.14,3.28,3.18,3.14,3.19,3.12,3.15,3.04,3.04,3.06,3.17,3.17,3.17,3.32,3.34,3.31,3.34,3.32,3.48,3.44,3.15,3.43,3.32,3.15,3.48,3.43,3.17,3.17,3.18,3.21,3.16,3.25,3.17,3.18,3.04,3.02,3.18,3.03,3.09,3.09,3.31,3.25,3.16,3.22,3.36,3.42,3.48,3.38,3.22,3.23,3.24,3.36,3.39,3.34,3.09,3.41,3.16,3.16,3.22,3.28,3.41,3.09,3.37,3.2,3.22,3.26,3.21,3.12,3.06,2.86,3.08,3.45,3.26,3.12,3.27,3.33,3.19,3.12,3.74,2.92,2.92,3.07,2.92,3.07,3.3,3.14,3.23,3.08,3.31,3.3,3.14,3.32,3.32,3.31,3.57,3.32,3.57,3.14,3.3,3.19,3.2,3.34,3.3,3.29,3.14,3.19,3.19,3.19,2.98,3.3,3.47,3.12,3.26,3.72,3.05,3.35,3.12,3.35,3.29,3.4,3.27,3.04,3.09,3.2,3.0,3.26,3.1,3.3,3.1,3.17,3.31,3.34,3.31,3.32,3.56,3.39,2.98,3.32,3.26,2.87,3.5,3.5,3.03,3.13,3.09,3.27,3.28,3.13,3.49,3.46,3.46,3.36,3.36,3.27,3.21,3.27,3.25,3.32,3.43,3.27,3.27,3.24,3.24,3.35,3.18,3.39,3.46,3.39,3.46,3.39,3.37,3.4,3.32,3.33,3.16,2.89,3.41,2.98,3.12,3.08,3.14,2.89,2.92,3.32,3.41,3.32,3.31,3.36,3.04,3.03,3.14,3.18,2.94,3.15,2.94,3.26,3.2,3.15,3.2,3.08,3.26,3.08,3.4,3.48,3.13,3.06,3.21,3.33,3.37,3.25,3.37,3.44,3.28,3.4,3.3,3.63,3.48,3.03,3.32,3.31,3.9,3.47,3.47,3.31,3.11,3.08,3.47,3.47,3.32,3.29,3.37,3.4,3.37,3.34,3.27,3.06,3.38,3.36,3.34,3.28,3.29,3.34,3.21,3.22,3.46,3.22,3.1,3.21,2.94,3.54,3.29,3.43,3.46,3.46,3.61,3.17,3.44,3.39,3.55,3.48,3.26,3.26,3.5,3.1,3.35,3.45,3.21,3.46,3.13,3.13,3.52,3.3,3.3,3.52,3.52,3.29,3.29,3.39,3.29,3.09,3.51,3.6,3.25,3.25,3.19,3.23,3.25,3.31,3.25,3.31,3.31,3.14,3.45,3.55,3.39,3.55,3.28,3.27,3.3,3.31,3.43,3.4,3.4,3.36,3.5,3.31,3.66,3.36,3.66,3.55,3.21,3.21,3.18,3.18,3.09,3.33,3.23,3.48,3.38,3.17,2.99,3.1,3.24,3.29,3.29,3.25,3.23,3.56,3.24,3.26,3.33,3.27,3.33,3.26,3.22,3.3,3.09,3.24,3.44,3.21,3.24,3.23,3.28,3.29,3.28,3.34,3.71,3.61,3.61,3.24,3.36,3.4,3.36,3.46,3.56,3.38,3.56,3.38,3.38,3.32,3.39,3.26,3.26,3.24,3.46,3.24,3.45,3.23,3.28,3.18,3.59,3.59,3.5,3.59,3.58,3.28,3.28,3.22,3.47,3.47,3.51,3.47,3.4,3.15,3.4,3.51,3.66,3.24,3.51,3.51,3.51,3.41,3.4,3.4,3.44,3.41,3.53,3.43,3.23,3.12,3.31,3.4,3.41,3.22,3.53,3.15,3.48,3.22,3.53,3.22,3.34,3.33,3.15,3.43,3.22,3.44,3.53,3.22,3.53,3.53,3.42,3.31,3.42,3.31,3.48,3.4,3.58,3.58,3.41,3.41,3.23,3.39,3.59,3.43,3.29,3.23,3.18,3.33,3.27,3.29,3.27,3.62,3.38,3.3,3.38,3.24,3.3,3.38,3.38,3.18,3.47,3.47,3.2,3.18,3.3,3.69,3.48,3.45,3.48,3.69,3.39,3.39,3.07,3.34,3.61,3.36,3.19,3.22,3.24,3.27,3.14,3.29,3.26,3.41,3.41,3.41,3.26,3.31,3.2,3.44,3.36,3.31,3.29,3.47,3.36,3.16,3.27,3.38,3.15,3.16,3.34,3.13,3.13,3.2,3.46,3.33,3.33,3.22,3.52,3.3,3.44,3.44,3.15,3.28,3.13,3.32,3.25,3.34,3.32,3.13,3.45,3.19,3.44,3.16,3.14,3.16,3.45,3.36,3.45,3.15,3.39,3.71,3.71,3.12,3.47,3.44,3.26,3.26,3.36,3.25,3.36,3.26,3.26,3.23,3.18,3.25,3.17,3.23,3.38,3.22,3.06,3.27,2.89,2.89,3.53,3.2,3.2,3.35,3.27,3.32,3.33,3.41,3.49,3.37,3.32,3.42,3.35,3.36,3.3,3.2,3.17,3.22,3.35,3.24,3.33,3.58,3.38,3.33,3.29,3.36,3.32,3.31,3.49,3.27,3.27,3.49,3.03,3.56,3.38,3.13,3.13,3.21,3.15,3.19,3.21,3.14,3.21,3.3,3.22,3.28,3.29,3.4,3.02,3.02,3.31,3.18,3.2,3.4,3.31,3.2,3.44,3.15,3.27,3.27,3.01,3.16,3.01,3.42,3.33,3.42,3.12,3.38,3.29,3.02,3.02,2.98,3.35,3.43,3.33,3.35,3.15,3.35,3.2,3.15,3.2,3.11,3.35,3.45,3.35,3.28,3.41,3.21,3.27,3.36,3.17,3.25,3.78,3.29,3.12,3.49,3.38,3.38,3.38,3.3,3.52,3.2,3.44,3.45,3.12,3.62,3.14,3.39,3.51,3.22,3.21,3.18,3.32,3.38,3.37,3.3,3.38,3.22,3.22,3.14,3.34,3.41,3.27,3.3,3.61,3.43,3.53,3.28,3.21,3.39,3.23,3.3,3.46,3.15,3.23,3.59,3.15,3.33,3.46,3.42,3.16,3.14,3.21,3.14,3.29,3.29,3.01,2.94,3.32,3.21,3.32,3.2,3.42,3.27,3.46,3.46,3.61,3.58,3.35,3.68,3.27,3.27,3.19,3.38,3.29,3.36,3.33,3.52,3.33,3.36,3.3,3.28,3.56,3.52,3.56,3.22,3.52,3.21,3.16,3.15,3.21,3.16,3.27,3.35,3.14,3.4,3.4,3.4,3.35,3.4,3.45,3.35,3.32,3.35,3.15,3.1,3.26,3.29,3.23,3.24,3.2,3.28,3.28,3.26,3.23,3.07,3.15,3.02,3.27,3.68,3.4,3.37,3.38,3.4,3.23,3.39,3.3,3.26,3.39,3.38,3.45,3.1,3.16,3.22,3.37,3.33,3.49,3.12,3.49,3.41,3.4,3.4,3.28,3.45,3.43,3.4,3.47,3.1,3.32,3.44,3.44,3.02,3.59,3.15,3.37,3.38,3.38,3.38,3.1,3.47,3.5,3.7,3.38,3.5,3.1,3.24,3.24,3.28,3.35,3.24,3.14,3.37,3.37,3.33,3.26,3.39,3.15,3.35,3.22,3.3,3.3,3.36,3.29,3.62,3.34,3.29,3.2,3.2,3.35,3.45,3.5,3.78,3.6,3.3,3.36,3.12,3.3,3.29,3.41,3.29,3.28,3.3,3.33,3.34,3.4,3.4,3.26,4.01,3.18,3.26,2.9,3.26,4.01,3.18,3.18,3.39,3.39,3.39,3.39,3.34,3.29,3.29,3.26,3.09,3.18,3.39,3.38,3.36,3.36,3.36,3.36,3.36,3.36,3.37,3.36,3.09,3.25,3.52,3.34,3.34,3.41,3.34,3.32,3.37,3.37,3.35,3.36,3.36,3.6,3.28,3.07,3.24,3.36,3.07,3.29,3.46,3.18,3.24,3.25,3.27,3.33,3.0,3.21,3.0,3.24,3.32,3.26,3.11,3.71,3.29,3.36,3.36,3.38,3.3,3.3,3.19,3.19,3.3,3.3,3.35,3.1,3.58,3.37,3.17,3.3,3.32,3.31,3.31,3.28,3.52,3.42,3.25,3.25,3.44,3.23,3.43,3.28,3.22,3.54,3.27,3.54,3.5,3.56,3.22,3.04,3.2,3.56,3.2,3.35,3.16,3.27,3.16,3.34,3.39,3.5,3.26,3.26,3.41,3.3,3.31,3.33,3.37,3.26,3.48,3.42,3.18,3.18,3.15,3.53,3.41,3.32,3.23,3.16,3.4,3.38,3.32,3.16,3.4,3.4,3.4,3.23,3.23,3.33,3.35,3.41,3.21,3.5,3.3,3.41,3.39,3.32,3.41,3.59,3.36,3.34,3.41,3.41,3.3,3.52,3.3,3.31,2.88,3.43,3.38,3.38,3.16,3.54,3.16,3.54,3.4,3.39,3.66,3.39,3.33,3.35,3.53,3.37,3.38,3.52,3.72,3.44,3.39,3.72,3.57,3.26,3.42,3.35,3.26,3.45,3.53,3.45,3.26,3.16,3.31,3.51,3.36,3.55,3.51,3.36,3.38,3.28,3.47,3.44,3.53,3.33,3.53,3.53,3.42,3.38,3.32,3.44,3.38,3.39,3.42,3.34,3.39,3.33,3.3,3.29,3.31,3.42,3.42,3.6,3.21,3.39,3.42,3.36,3.6,3.5,3.57,3.46,3.56,3.4,3.3,3.25,3.17,3.36,3.36,3.55,3.1,3.24,3.45,3.44,3.51,3.41,3.54,3.44,3.53,3.54,3.22,3.21,3.21,3.21,3.29,3.29,3.29,3.39,3.34,3.29,3.34,3.48,3.37,3.44,3.33,3.58,3.39,3.26,3.3,3.54,3.42,3.54,3.36,3.54,3.57,3.33,3.29,3.3,3.34,3.55,3.27,3.29,3.32,3.67,3.42,3.42,3.45,3.52,3.42,3.57,3.39]},{\"axis\":{\"matches\":true},\"label\":\"sulphates\",\"values\":[0.56,0.68,0.65,0.58,0.56,0.56,0.46,0.47,0.57,0.8,0.54,0.8,0.52,1.56,0.88,0.93,0.75,1.28,0.5,1.08,0.53,0.65,0.91,0.53,0.63,0.56,0.59,0.91,0.55,0.59,0.54,0.57,0.66,0.52,0.55,0.55,0.6,0.73,0.48,0.83,0.83,0.51,0.9,1.2,0.52,0.56,0.73,0.58,0.56,0.58,0.74,0.63,0.64,0.56,0.63,0.53,0.63,0.77,0.59,0.54,0.64,0.71,0.62,0.57,0.39,0.39,0.58,0.58,0.79,0.95,0.54,0.48,0.48,0.53,0.82,0.66,0.66,0.55,0.52,1.12,0.56,1.28,0.57,1.14,0.78,0.59,1.95,0.64,1.22,0.53,0.54,1.95,1.98,0.64,0.48,0.6,0.56,0.63,0.56,0.59,0.61,0.56,0.59,0.51,0.48,0.51,1.31,0.79,0.8,0.69,0.93,0.66,0.66,0.67,0.93,0.63,0.61,0.5,0.6,0.54,0.57,0.6,0.52,0.53,0.48,0.7,0.49,0.48,0.92,0.57,0.66,0.63,0.63,0.58,0.55,0.82,0.77,0.64,0.54,0.54,0.82,0.77,0.79,0.58,0.79,0.62,0.52,0.8,0.58,0.61,0.53,2.0,0.54,0.54,0.72,0.71,0.72,0.71,0.5,0.57,0.56,1.08,0.56,0.49,0.49,0.62,0.52,0.48,0.55,1.59,0.33,0.61,0.61,0.57,0.47,0.78,0.47,0.61,0.56,0.59,0.59,1.02,0.52,0.58,0.58,0.53,0.55,0.49,0.55,0.55,0.62,0.62,0.61,0.55,0.55,0.54,0.59,0.97,0.85,0.43,0.82,1.03,0.79,0.55,0.56,0.77,0.77,0.53,0.67,0.88,0.86,0.56,0.67,0.43,0.71,0.76,0.57,0.55,0.54,0.6,0.59,0.57,0.6,0.6,0.57,0.58,1.61,0.63,0.58,0.5,0.62,0.52,0.7,0.5,0.55,0.58,0.58,0.58,0.58,0.55,1.09,0.71,0.49,0.84,0.84,0.96,0.52,0.45,0.48,0.96,0.78,0.7,0.53,0.59,0.7,0.57,0.62,0.67,1.26,0.8,0.65,0.6,0.57,0.67,0.87,0.72,0.72,0.86,0.91,0.97,0.67,0.97,0.78,0.64,0.77,0.67,0.91,0.97,0.82,0.77,0.82,1.08,0.57,0.77,0.71,0.71,0.76,0.7,0.86,0.95,0.86,0.71,0.64,0.6,0.81,0.64,0.52,0.73,0.8,0.71,0.59,0.64,0.72,0.54,0.52,0.59,0.52,0.62,0.63,0.53,0.59,0.54,0.63,0.53,0.68,0.65,0.65,0.64,0.71,0.64,0.71,0.62,0.63,0.7,0.69,0.69,0.74,0.83,0.67,0.62,0.66,0.66,0.54,0.52,0.74,0.84,0.7,0.64,1.0,1.36,1.18,0.87,0.75,0.75,0.78,0.81,0.89,0.93,0.92,0.86,0.98,0.83,0.73,0.77,0.59,0.61,0.88,0.75,0.85,0.68,0.7,0.91,0.56,0.87,0.73,0.93,0.73,0.69,0.64,1.13,0.78,0.87,1.04,0.63,0.81,0.83,1.11,1.13,0.99,0.7,0.8,0.8,0.8,0.8,0.74,0.76,0.74,0.54,0.74,0.7,0.82,0.8,0.51,0.54,0.57,0.6,0.53,0.65,0.65,0.55,0.53,0.47,0.61,0.63,0.61,0.76,0.65,0.63,0.7,0.57,0.62,0.62,0.64,0.82,0.61,1.07,0.66,0.48,0.76,0.68,0.73,0.56,0.44,0.9,0.44,0.56,0.49,0.56,0.6,0.6,0.9,0.56,0.65,0.49,0.89,0.49,0.56,0.66,0.89,0.6,0.82,0.68,0.68,0.63,0.84,0.56,0.73,0.72,0.56,0.61,0.61,1.06,0.63,0.74,0.63,0.69,0.58,0.58,0.74,0.57,0.61,0.61,0.61,0.53,0.7,0.91,0.72,0.79,0.62,0.58,0.61,0.71,0.82,0.79,0.89,0.6,0.7,1.06,0.6,0.7,0.66,0.92,1.05,1.06,0.66,0.47,0.47,0.42,0.92,0.75,0.67,0.79,0.9,0.74,0.55,0.65,0.65,0.79,0.65,0.74,0.65,0.85,0.85,1.04,1.05,0.78,1.02,0.71,0.63,0.68,0.61,0.63,0.81,0.66,0.66,1.14,0.74,0.63,0.68,0.78,0.9,0.64,0.99,0.55,0.64,0.67,0.78,0.77,0.75,0.57,0.87,0.61,0.61,0.66,0.56,0.87,0.57,0.77,0.66,0.62,0.67,0.73,0.59,0.72,0.79,0.59,0.78,0.86,0.75,0.61,0.56,0.73,0.74,0.62,0.74,0.74,0.56,0.74,0.56,0.68,0.57,0.58,0.61,0.61,0.68,0.57,0.6,0.6,0.79,0.57,0.91,0.57,0.61,0.56,0.7,0.8,0.52,0.6,0.6,0.51,0.44,0.44,0.43,0.66,0.76,0.66,1.02,0.59,0.74,0.74,0.57,0.5,0.57,0.58,0.53,0.57,0.6,0.63,0.48,0.7,0.47,0.56,0.52,0.56,0.62,0.59,0.79,0.53,0.64,0.52,0.54,0.54,0.6,0.74,1.36,0.57,0.57,0.93,0.7,0.8,0.61,0.62,0.55,0.96,0.72,0.72,0.49,0.49,0.6,0.61,0.6,0.63,0.57,0.64,0.58,0.55,0.53,0.53,0.65,1.36,0.62,0.63,0.62,0.63,0.62,0.69,0.63,0.58,0.67,0.57,0.5,0.67,0.84,0.54,0.46,0.61,0.5,0.68,0.81,0.57,0.81,0.64,0.7,0.79,0.66,0.56,0.6,0.66,0.57,0.66,0.58,0.52,0.53,0.52,0.67,0.65,0.67,0.48,0.53,0.54,0.49,0.49,0.54,0.56,0.48,0.56,0.6,0.59,0.47,1.05,0.54,0.54,1.17,0.62,0.61,0.62,0.67,0.67,0.53,0.62,0.57,0.67,0.67,0.7,0.54,0.49,0.47,0.51,0.61,0.66,0.57,0.61,0.45,0.46,0.51,0.48,0.46,0.57,0.44,0.54,0.44,0.53,0.59,1.62,0.6,0.55,0.72,0.68,0.68,0.49,0.67,0.52,0.47,0.6,0.62,0.5,0.5,0.65,0.56,0.6,0.68,0.57,0.65,0.53,0.51,0.73,0.47,0.48,0.72,0.73,0.55,0.55,0.61,0.55,1.06,0.43,0.46,0.5,0.5,0.52,0.57,0.42,0.53,0.42,0.55,0.54,0.54,0.62,0.53,0.54,0.53,0.55,0.55,0.92,0.91,0.46,0.6,0.59,0.61,0.6,0.6,0.65,0.53,0.65,0.59,0.5,0.5,0.56,0.56,0.52,0.68,0.54,0.6,0.56,0.53,1.18,0.74,0.81,0.52,0.52,0.51,0.44,0.94,0.66,0.57,0.7,0.71,0.7,0.86,0.55,0.47,0.68,0.71,0.58,0.76,0.71,0.58,0.73,0.45,0.54,0.6,0.74,0.64,0.64,0.53,0.49,0.64,0.49,0.74,0.77,0.55,0.77,0.86,0.86,0.47,0.51,0.39,0.39,0.83,0.47,0.77,0.63,0.72,0.62,0.83,0.66,0.66,0.7,0.66,0.66,0.55,0.55,1.07,0.73,0.73,0.71,0.73,0.78,0.67,0.82,0.54,0.6,0.44,0.53,0.54,0.54,0.83,0.84,0.82,0.64,0.57,0.57,0.54,0.58,0.65,0.79,0.58,0.57,0.5,0.55,0.49,0.65,0.78,0.55,0.5,0.64,0.65,0.79,0.56,0.68,0.58,0.57,0.65,0.57,0.58,0.58,0.77,0.58,0.77,0.49,0.69,0.69,0.69,0.59,0.59,0.59,0.71,0.54,0.59,0.52,0.57,0.6,0.62,0.64,0.52,0.67,0.61,0.64,0.72,0.89,0.56,0.72,0.89,0.64,0.8,0.87,0.9,0.59,0.8,0.73,0.73,0.65,0.59,0.65,0.73,0.72,0.72,0.6,0.72,0.54,0.76,0.52,0.64,0.6,0.64,0.79,0.99,0.62,0.76,0.76,0.76,0.62,0.68,0.69,0.54,0.67,0.62,0.58,0.71,0.61,0.85,0.62,0.69,0.69,0.85,0.86,0.58,0.48,0.6,0.61,0.87,0.87,0.65,0.63,0.62,0.52,0.52,0.5,0.49,0.63,0.71,0.62,0.82,0.71,0.63,0.58,0.55,0.5,0.49,0.51,0.49,0.48,0.48,0.48,0.43,0.62,0.63,0.63,0.48,0.53,0.72,0.82,0.84,0.55,0.54,0.55,0.84,0.84,0.7,0.68,0.55,0.55,0.48,0.58,0.58,0.84,0.75,0.44,0.44,0.61,0.53,0.53,0.54,0.55,0.56,0.6,0.56,0.52,0.54,0.56,0.55,0.58,0.53,0.59,0.47,0.65,0.59,0.56,0.77,0.83,0.67,0.64,0.83,0.81,0.62,0.58,0.62,0.64,0.78,0.77,0.64,1.34,0.55,0.77,0.62,0.62,0.59,0.57,0.76,0.59,0.7,0.69,0.64,0.63,0.57,0.6,0.72,0.83,0.83,0.62,0.89,0.58,0.58,0.58,0.58,0.86,0.73,0.58,0.58,0.51,0.51,0.51,0.59,0.77,0.59,0.49,0.66,0.69,0.76,0.76,0.63,0.6,0.59,0.86,0.49,0.5,0.49,0.52,0.81,0.52,0.78,0.63,0.54,0.63,0.66,0.6,0.54,0.85,0.49,0.76,0.64,0.64,0.71,0.59,0.66,0.6,0.6,0.6,0.53,0.58,0.72,0.55,0.48,0.65,0.62,0.59,0.54,0.6,0.68,0.69,0.63,0.44,0.88,0.68,0.74,0.6,0.76,0.76,0.58,0.64,0.65,0.85,0.65,0.82,0.62,0.81,0.87,0.49,0.66,0.52,0.76,0.65,0.53,0.66,0.68,0.53,0.76,0.87,1.16,0.67,0.72,0.75,0.71,0.67,0.67,1.1,0.98,0.88,0.56,0.62,0.67,0.68,0.74,0.62,0.62,0.7,0.5,0.66,0.73,0.81,0.81,0.46,0.86,0.6,0.7,0.46,0.5,0.46,0.7,0.44,0.57,0.51,0.8,0.51,0.59,0.6,0.58,0.54,0.79,0.58,0.54,0.54,0.69,0.55,0.85,0.85,0.85,0.94,0.85,0.87,0.62,0.62,0.62,0.75,0.48,0.56,0.69,0.81,0.69,0.83,0.77,0.77,0.46,0.76,0.82,0.51,0.47,0.72,0.73,0.64,0.78,0.62,0.64,0.49,0.4,0.56,0.64,0.4,0.46,0.56,0.4,0.59,0.6,0.62,0.54,0.68,0.48,0.68,0.75,0.61,0.61,0.59,0.58,0.58,0.69,0.45,0.42,0.7,0.63,0.63,1.15,0.55,0.58,0.46,0.72,0.6,0.6,0.87,0.55,0.82,0.75,0.57,0.53,0.43,0.53,0.54,0.56,0.6,0.54,0.57,0.64,0.64,0.68,0.63,0.56,0.57,0.54,0.37,1.17,1.17,0.59,0.75,0.67,0.49,0.75,0.45,0.45,0.61,0.56,0.4,0.61,0.74,0.8,0.66,0.44,0.53,0.62,0.52,0.62,0.61,0.53,0.59,0.47,0.54,0.53,0.58,0.59,0.69,0.58,1.33,0.66,0.59,0.55,0.82,0.6,0.6,0.6,0.6,0.52,0.56,0.56,0.46,0.43,0.51,0.52,0.66,0.45,0.45,0.45,0.54,0.54,0.54,0.51,0.54,0.53,0.53,0.56,0.39,0.39,0.52,0.57,0.51,0.46,0.46,0.52,0.44,0.44,0.59,0.5,0.65,0.56,0.54,0.65,0.48,0.53,0.62,0.5,1.18,0.5,0.37,1.17,1.03,1.17,0.45,0.51,0.52,0.46,0.62,0.51,0.62,0.62,0.45,0.49,0.49,0.5,0.42,0.58,0.58,0.68,0.53,0.59,0.58,0.48,0.48,0.48,0.65,0.65,0.52,0.62,0.72,0.51,0.51,0.82,1.1,0.62,0.9,0.94,0.93,1.01,0.93,0.44,0.73,0.94,0.9,0.78,0.84,0.78,0.77,0.46,0.45,0.46,0.58,0.84,0.67,0.7,0.7,0.71,0.58,0.63,0.93,0.62,0.54,0.85,0.74,0.77,0.77,0.65,0.54,0.47,0.68,0.73,0.52,0.75,0.49,0.68,0.52,0.75,0.74,0.73,0.76,0.73,0.78,0.76,0.58,0.69,0.63,0.5,0.58,0.6,0.8,0.68,0.61,0.58,0.53,0.67,0.67,0.65,0.57,0.65,0.55,0.47,0.52,0.79,0.54,0.75,0.88,0.75,0.88,0.52,0.68,0.62,0.68,0.57,0.61,0.64,0.55,0.6,0.78,0.58,0.76,0.56,0.58,0.54,0.59,0.7,0.81,0.59,0.63,0.58,0.63,0.53,0.53,0.54,0.69,0.55,0.63,0.66,0.55,0.72,0.7,0.77,0.67,0.65,0.6,0.72,0.72,0.97,0.83,0.63,0.58,0.83,0.43,0.97,0.6,0.78,0.64,0.65,0.66,0.67,0.6,0.69,0.66,0.68,0.61,0.62,0.59,0.68,0.64,0.63,0.78,0.63,0.76,0.56,0.57,0.81,0.64,0.61,0.51,0.58,0.7,0.53,0.54,0.66,0.6,0.6,0.68,0.56,0.6,0.56,0.52,0.52,0.52,0.54,0.54,0.54,0.82,0.71,0.54,0.59,0.57,0.93,0.65,0.51,0.67,0.48,0.64,0.78,0.6,0.67,0.6,0.6,0.6,0.5,0.62,0.8,0.84,0.85,0.66,0.78,0.54,0.82,0.56,0.75,0.82,0.58,0.76,0.75,0.71,0.66]},{\"axis\":{\"matches\":true},\"label\":\"alcohol\",\"values\":[9.4,9.8,9.8,9.8,9.4,9.4,9.4,10.0,9.5,10.5,9.2,10.5,9.9,9.1,9.2,9.2,10.5,9.3,9.0,9.2,9.4,9.7,9.5,9.4,9.7,9.3,9.5,9.5,9.4,9.8,10.1,10.6,9.8,9.4,9.2,9.6,10.8,9.7,9.8,10.5,10.5,9.3,10.5,10.3,9.5,13.1,9.2,9.5,9.2,9.2,9.2,9.4,9.4,9.4,10.2,9.5,9.6,9.4,10.0,9.4,9.2,9.3,9.5,9.8,10.9,10.9,9.6,10.7,10.7,10.5,9.5,9.5,9.5,9.2,9.6,10.5,10.5,10.7,10.1,9.1,9.2,9.4,9.1,9.4,10.3,10.1,9.9,9.6,9.5,9.0,9.5,9.9,9.8,9.6,10.5,12.9,10.7,9.2,9.8,9.0,10.2,10.4,9.0,9.2,9.4,9.2,9.3,9.3,9.6,9.3,9.5,9.8,9.8,9.7,9.5,10.5,10.0,9.4,10.9,9.2,9.0,10.9,9.2,9.5,9.5,9.4,10.9,10.9,10.5,9.4,9.4,13.0,13.0,9.8,9.9,9.6,9.5,9.2,9.5,9.5,9.6,9.5,14.0,9.4,14.0,9.4,10.0,9.3,10.2,10.5,10.3,9.4,10.1,10.1,10.5,10.5,10.5,10.5,9.3,9.3,9.6,9.2,10.0,9.4,9.4,9.5,10.2,9.0,10.4,9.5,9.1,9.2,9.2,11.5,9.5,9.5,9.5,10.5,9.6,9.5,9.5,9.3,9.3,9.3,9.3,9.7,9.2,9.7,9.5,9.5,9.4,9.8,9.5,9.7,9.7,9.4,10.2,10.1,13.0,11.4,10.3,9.3,9.5,9.2,9.2,10.8,10.8,9.3,9.4,10.5,12.4,10.0,10.2,10.1,9.8,10.5,11.0,9.1,9.7,9.5,9.4,9.4,9.5,10.0,10.4,10.5,9.5,9.8,10.5,11.0,12.2,9.9,9.6,11.0,9.0,9.0,9.0,9.2,9.0,9.0,9.3,10.9,9.8,9.2,9.2,9.9,9.5,9.3,9.8,9.9,10.0,9.9,10.5,9.5,9.9,9.3,9.2,9.2,9.4,10.5,9.3,9.4,10.0,9.3,10.9,10.2,9.8,12.8,9.4,10.1,10.7,10.1,10.1,9.4,9.4,10.7,9.4,10.1,12.6,10.5,9.3,9.9,9.1,10.5,9.8,9.8,10.3,10.3,10.6,9.2,10.6,10.5,10.3,10.1,9.5,9.5,9.9,9.6,9.7,9.6,10.7,10.1,10.0,9.5,9.2,9.3,9.4,9.5,9.5,9.5,9.3,9.4,9.5,9.4,11.0,11.0,10.1,10.4,11.5,10.4,11.5,9.7,9.3,9.5,9.2,9.2,11.5,11.5,9.7,9.5,12.5,12.5,9.4,11.0,11.7,12.2,12.5,10.3,11.5,9.8,9.2,11.3,9.8,9.8,10.7,9.9,12.3,12.0,10.0,9.4,9.9,9.4,9.3,13.0,11.9,12.8,11.0,11.7,10.4,9.8,9.4,9.9,10.0,10.2,10.0,11.8,10.0,9.0,9.4,12.0,9.9,8.7,10.6,9.2,10.8,11.8,11.0,12.0,13.3,10.8,9.4,10.0,9.4,9.4,9.2,9.7,9.2,9.6,9.2,10.0,12.9,10.0,9.5,9.1,9.9,13.0,9.9,11.0,11.0,9.4,9.9,10.8,10.5,10.5,9.1,10.1,10.8,10.8,11.3,9.6,9.5,9.5,9.3,11.7,9.5,9.3,11.7,10.5,10.4,9.9,11.8,12.3,10.9,11.0,10.9,12.3,11.4,10.6,9.3,10.4,11.0,9.2,12.8,9.5,9.9,9.5,10.2,11.2,9.9,9.3,9.8,11.3,11.2,11.6,12.5,10.1,10.5,11.2,10.2,10.8,10.8,9.1,10.0,11.2,11.1,13.4,10.3,9.6,11.2,9.0,11.3,9.3,11.8,9.0,9.2,9.7,11.5,14.0,9.2,9.8,10.6,11.4,10.4,10.6,9.4,10.2,9.7,11.0,10.2,10.1,9.2,11.7,9.4,9.4,13.4,10.0,10.0,10.0,10.8,10.2,10.6,13.3,13.4,11.6,12.1,11.0,9.0,11.1,11.0,11.6,9.0,12.0,12.0,10.9,10.8,12.5,10.8,9.5,10.2,11.4,9.5,10.2,9.7,11.8,11.8,9.3,11.9,8.4,11.7,11.0,10.0,9.1,9.8,9.4,9.5,9.9,11.0,11.4,8.7,9.4,10.3,10.3,10.3,12.8,10.0,10.3,9.4,10.7,12.0,11.2,9.6,11.0,9.9,11.0,8.4,9.1,9.5,10.7,10.4,9.4,9.5,10.0,10.0,11.5,11.1,11.1,11.7,11.1,11.7,12.7,11.4,9.2,9.2,10.1,12.7,11.4,9.0,9.0,10.7,11.7,11.0,11.7,10.4,9.6,10.0,10.2,10.0,9.5,9.8,9.8,9.6,9.6,9.2,9.9,10.7,9.6,10.6,9.3,14.0,10.5,9.7,11.5,9.7,9.0,9.5,9.3,9.3,10.0,9.8,9.3,10.0,9.0,9.3,9.0,9.1,9.2,12.2,10.5,10.4,12.7,9.2,9.4,10.0,9.8,10.2,9.7,9.7,9.8,10.2,9.3,9.4,9.4,9.5,12.1,10.2,10.2,9.1,9.1,9.3,9.3,9.3,9.5,10.5,11.3,9.5,9.7,9.4,9.4,10.2,10.3,9.4,9.5,9.4,9.5,9.4,10.1,10.1,11.0,11.2,11.3,9.6,11.2,14.9,12.0,9.5,9.4,9.6,10.5,9.6,11.0,9.6,9.0,9.6,10.2,10.2,9.7,9.5,9.2,11.0,9.2,10.0,9.5,9.5,9.5,9.3,10.2,9.3,9.9,10.0,9.6,9.0,10.2,9.8,11.3,9.4,11.3,9.1,9.7,9.4,9.4,10.7,9.8,9.0,9.4,9.4,12.8,9.5,9.5,9.7,10.8,10.1,9.5,9.4,9.6,9.7,9.9,10.0,10.5,11.6,10.0,10.1,9.5,9.4,9.4,9.8,9.2,9.4,10.0,9.6,9.5,9.6,9.2,10.0,9.5,11.2,10.4,11.1,9.5,9.5,12.7,9.6,11.5,9.6,9.5,9.3,9.5,9.5,9.3,9.2,9.3,11.5,9.5,9.2,10.0,9.5,9.5,9.0,9.4,9.6,9.5,9.5,9.5,9.4,9.5,9.1,10.7,11.2,9.8,9.8,9.2,9.7,9.6,10.0,9.6,9.5,9.5,9.4,9.5,9.7,9.6,9.7,9.4,9.4,9.5,9.5,10.0,10.3,10.3,10.5,9.8,9.4,9.8,10.0,9.8,9.8,9.5,9.5,10.1,10.1,9.3,9.7,9.6,9.7,10.8,12.5,10.2,9.6,10.8,10.7,10.7,9.4,10.0,12.9,9.6,9.9,12.8,12.5,12.8,9.2,10.3,10.5,10.9,10.8,11.4,11.3,10.8,10.5,11.9,9.4,9.6,9.7,14.0,9.8,9.8,10.3,10.7,11.0,10.7,12.7,11.1,10.9,11.1,9.9,9.9,9.4,9.3,11.7,11.7,11.2,10.0,12.1,10.3,10.9,9.4,10.6,9.8,9.8,9.9,9.8,9.8,9.5,9.5,9.7,10.9,10.9,11.7,10.9,11.3,10.6,11.2,9.5,11.5,10.4,9.7,9.5,9.7,11.3,11.2,11.2,10.9,11.8,10.6,10.0,11.1,11.8,11.8,10.9,11.8,10.0,9.5,9.9,11.4,12.0,9.5,10.0,10.5,10.4,12.1,11.2,9.3,10.1,9.7,9.3,9.7,9.8,10.7,12.5,10.7,12.5,11.0,11.8,10.8,10.8,10.8,10.8,9.5,11.0,11.5,10.8,11.5,13.2,10.9,12.2,12.2,11.5,11.9,11.0,10.1,11.0,11.8,10.5,11.0,11.8,10.1,11.2,11.0,10.2,9.2,11.2,12.0,10.5,9.8,9.5,9.8,10.5,11.8,11.8,10.4,12.9,11.4,12.4,12.5,10.0,9.7,12.1,11.1,12.0,12.4,11.9,11.9,11.9,12.4,11.2,12.1,12.2,10.4,11.3,11.1,11.3,10.0,11.1,9.3,9.5,11.2,11.1,11.0,11.9,9.2,12.2,10.2,10.9,10.9,11.6,10.7,12.1,9.4,9.4,9.1,11.3,10.4,10.5,10.0,12.9,10.5,10.4,11.3,11.4,9.4,9.4,10.9,9.4,9.4,9.4,9.4,9.4,10.1,12.8,12.8,9.1,12.9,11.5,10.6,11.7,12.8,10.3,12.8,11.7,11.7,12.0,10.9,12.3,10.4,10.0,10.0,11.2,11.4,12.6,12.7,12.7,10.4,11.9,11.9,10.5,12.3,10.5,10.4,12.6,11.6,10.1,10.5,11.5,11.0,9.6,10.4,9.7,10.6,12.5,9.2,12.6,11.1,10.2,9.8,11.1,10.9,12.2,11.4,10.7,10.4,10.9,10.8,10.4,9.2,12.9,12.7,9.1,9.1,12.1,9.1,11.6,12.1,9.9,12.5,11.4,11.8,11.8,10.2,12.5,10.9,10.9,10.8,11.1,9.2,9.5,10.7,9.2,10.2,11.4,11.0,11.0,12.3,11.8,12.3,9.5,12.0,9.5,9.6,11.6,11.2,9.9,9.9,11.8,11.4,11.5,12.0,10.8,10.5,10.8,9.4,12.5,9.4,12.4,12.0,11.2,12.0,12.4,12.8,12.3,11.7,9.5,10.8,10.0,12.3,11.0,9.5,13.6,11.3,11.3,11.3,13.3,12.9,13.1,12.3,12.3,11.2,11.5,11.3,13.5,11.5,10.0,10.5,10.4,9.5,13.6,11.2,11.8,11.9,11.4,11.4,9.1,9.5,9.5,11.0,11.4,10.0,10.1,10.4,9.8,11.8,11.6,12.0,12.8,12.5,9.8,11.1,11.4,9.8,11.8,12.9,10.6,10.8,11.1,10.2,11.8,10.0,10.0,9.4,10.2,12.4,12.0,11.5,10.5,10.8,12.3,9.5,9.5,11.5,11.2,12.7,11.4,11.0,11.0,11.4,10.5,9.3,10.9,11.9,12.2,11.9,10.9,9.6,12.5,10.8,12.4,10.8,9.5,9.5,9.5,9.8,10.9,9.5,9.8,11.2,11.7,9.4,11.0,11.0,11.0,10.0,11.0,11.2,10.4,9.3,10.4,10.5,10.4,11.3,9.5,12.0,10.6,10.9,11.5,11.5,9.6,12.0,10.3,9.4,9.2,9.6,13.6,9.5,11.8,10.8,9.5,9.3,12.8,11.5,9.4,12.8,9.6,11.8,9.3,9.8,12.2,9.5,10.3,10.5,10.0,10.5,11.1,10.9,10.9,9.8,9.8,9.5,10.9,11.0,9.2,11.0,11.3,11.3,9.3,11.2,9.8,9.6,11.8,10.3,10.3,11.4,9.5,14.0,14.0,11.7,11.2,9.3,11.2,9.5,12.0,9.7,9.5,11.5,10.4,10.4,10.9,10.2,10.9,10.5,12.4,13.0,10.2,10.2,11.0,10.9,12.4,9.7,10.9,9.5,9.5,12.1,12.2,10.9,12.5,11.7,11.2,11.2,9.2,9.8,10.1,11.1,10.1,9.2,9.8,12.8,10.5,10.1,10.1,9.8,12.5,11.9,9.8,9.1,10.1,12.5,11.4,11.0,10.6,10.6,10.6,10.6,9.3,9.8,9.8,9.2,9.7,9.6,10.0,12.6,9.5,9.5,9.5,10.5,10.5,10.5,10.4,10.5,11.0,10.2,11.4,9.5,9.5,10.8,10.0,11.8,10.3,10.3,10.0,10.1,10.1,11.1,9.5,10.0333333333333,10.9,10.1,10.0333333333333,9.8,11.8,9.5,9.8,10.5,9.8,10.4,9.2,11.6,9.2,9.3,9.8,9.9,10.0,12.2,9.9,10.8,10.8,9.6,9.9,9.9,9.5,9.2,9.6,9.6,10.3,9.7,12.5,11.0,9.8,10.2,9.2,9.55,9.55,9.9,10.2,11.1,9.9,9.9,11.9,10.0,10.7,11.3,10.9,10.7,12.4,10.7,11.9,10.6,10.9,10.1,9.6,9.4,9.6,12.1,9.8,9.9,9.8,9.4,11.4,11.0,9.6,9.6,12.1,11.2,11.0,11.3,10.4,9.9,11.7,10.1,9.0,9.0,8.5,11.1,10.3,11.0666666666667,11.3,9.56666666666667,9.8,11.7,11.1,9.6,9.8,9.7,9.7,11.3,11.3,11.0,11.6,9.0,10.9,10.9,10.55,9.0,10.5,11.9,10.4,10.0,10.4,10.8,9.7,9.7,10.0,11.0,10.0,9.7,9.7,12.6,11.1,11.0,8.8,13.5666666666667,8.8,13.6,10.2,10.6,10.1,10.6,10.3,10.7,10.9,9.7,10.3,10.6,11.4,10.8,12.4,11.4,11.95,9.7,10.0,10.6,9.7,11.5,10.8,11.5,9.6,9.4,9.8,11.0,11.4,9.95,10.8,11.4,10.6,11.1,9.7,9.8,10.4,10.5,9.23333333333333,9.25,10.6,10.3,10.5,10.2,10.3,9.05,10.6,10.4,10.0,9.7,9.6,10.8,10.1,10.2,11.3,10.2,9.9,9.0,11.7,9.7,10.3,10.2,12.0,9.9,11.6,10.9,10.75,10.4,11.2,10.1,10.2,12.1,10.4,11.4,9.5,9.4,11.3,9.4,11.0,10.55,9.9,11.0,9.5,9.9,9.9,9.9,10.1,10.1,10.1,10.9,11.2,10.1,9.2,11.5,12.4,11.1,9.5,12.5,10.5,11.8,10.8,11.9,11.3,11.3,11.9,11.3,11.9,9.8,11.6,11.5,11.4,10.9,12.8,9.2,11.6,11.6,11.0,9.5,10.5,11.2,11.0,10.2,11.0]},{\"axis\":{\"matches\":true},\"label\":\"quality\",\"values\":[5,5,5,6,5,5,5,7,7,5,5,5,5,5,5,5,7,5,4,6,6,5,5,5,6,5,5,5,5,6,5,6,5,6,5,6,6,7,4,5,5,4,6,5,5,4,5,5,5,5,5,6,6,5,6,5,5,5,5,6,5,5,7,5,5,5,5,5,5,6,6,5,5,4,5,5,5,6,5,4,5,5,5,5,6,5,6,5,5,5,5,6,5,5,4,6,5,5,5,6,6,6,6,5,5,5,5,5,6,5,5,5,5,6,5,6,6,6,6,6,5,6,5,5,5,5,5,5,7,5,5,5,5,6,6,5,5,5,5,5,5,5,6,5,6,5,5,5,6,6,6,4,5,5,5,5,5,5,5,6,5,4,6,5,5,5,5,4,6,5,4,6,6,6,5,5,5,6,5,5,5,5,5,5,6,5,5,5,5,5,5,6,5,5,5,5,5,6,7,4,7,5,5,5,6,7,7,5,5,7,6,6,6,5,6,5,5,5,5,5,6,5,5,6,4,6,6,5,6,5,7,6,6,5,6,6,6,6,6,6,5,6,6,7,7,6,5,5,6,6,6,6,5,5,6,5,5,5,5,7,5,4,5,5,5,7,4,8,6,6,6,6,5,5,5,6,6,6,8,7,6,7,5,7,5,5,6,6,7,5,7,5,6,6,6,5,5,5,5,5,6,6,5,5,5,6,5,6,6,6,6,6,6,5,5,6,5,6,7,6,7,5,5,6,6,6,7,5,6,5,6,6,6,5,7,7,6,5,6,7,6,6,6,6,6,5,7,6,6,6,6,6,5,5,6,6,5,7,7,6,5,6,5,5,7,6,7,5,5,7,5,6,6,5,6,7,6,7,6,6,6,6,6,6,5,6,6,6,6,7,8,6,5,5,5,7,5,6,6,5,5,6,6,6,5,6,6,7,6,4,6,5,5,7,5,5,6,5,6,5,7,7,5,7,5,7,6,6,5,6,7,5,6,5,6,5,6,6,6,5,8,6,7,7,7,6,5,5,6,6,6,6,6,7,5,8,5,5,7,3,6,5,5,5,6,5,6,6,6,5,5,6,6,5,6,5,5,6,5,6,5,8,5,5,6,5,5,6,7,6,6,7,7,6,6,8,6,5,8,6,6,7,7,7,7,7,7,6,6,7,5,6,6,7,7,5,6,3,6,5,6,5,5,5,5,5,5,6,6,5,6,5,5,6,6,6,5,6,7,5,5,6,5,6,6,5,6,6,6,6,6,6,6,5,5,5,6,5,6,6,5,5,5,6,6,5,6,6,6,6,6,6,5,4,6,6,4,5,5,6,5,5,5,7,7,6,7,5,8,7,5,6,5,5,5,5,6,6,6,6,4,6,5,6,6,6,7,6,6,6,5,5,6,5,6,5,5,6,5,5,5,5,5,6,5,5,5,5,6,5,6,5,6,4,5,5,5,5,7,6,5,5,5,5,5,7,5,4,7,6,5,5,5,6,5,5,5,7,6,4,6,5,6,6,5,5,6,6,5,6,5,5,5,5,6,5,6,5,5,5,5,6,5,5,5,5,5,5,5,5,3,5,5,5,5,6,6,6,5,6,6,6,6,4,4,5,5,5,6,6,5,5,5,5,5,6,5,5,5,5,5,5,5,5,4,5,6,5,5,6,5,5,5,5,5,5,5,6,5,5,6,5,5,5,5,6,6,5,6,6,5,5,5,5,6,6,6,5,5,5,5,5,6,5,6,6,5,5,6,5,6,5,5,6,6,5,6,6,5,5,6,5,5,5,5,5,5,6,6,5,6,5,6,5,6,5,5,7,6,6,5,5,7,6,6,7,7,7,5,6,5,6,5,4,6,5,6,6,5,5,5,7,5,5,5,5,7,5,8,6,4,6,3,4,5,5,7,7,7,5,7,5,6,5,6,5,5,6,5,5,5,5,5,6,6,7,6,7,7,6,5,6,5,5,5,5,6,6,6,6,6,5,4,7,7,7,4,6,6,5,5,6,6,5,6,5,6,7,6,5,5,5,6,5,6,6,7,6,7,3,5,7,7,7,7,5,5,6,6,6,6,6,6,7,6,6,5,6,6,6,5,6,6,6,5,7,6,4,5,7,5,5,6,5,5,6,6,4,7,5,7,7,7,7,7,7,7,7,7,7,7,7,7,7,6,5,6,6,7,5,6,5,5,6,6,6,7,5,6,5,6,6,7,5,7,5,5,5,7,5,6,5,6,6,5,6,7,5,5,6,5,5,6,5,5,6,7,7,6,6,7,7,7,7,5,7,7,7,7,5,7,6,5,6,6,6,7,6,6,5,6,6,5,6,7,6,6,5,6,7,7,7,5,6,6,7,7,5,7,6,5,6,6,7,6,6,6,5,6,6,5,5,5,7,6,6,7,5,7,7,6,8,6,6,6,6,7,7,7,5,7,5,6,6,5,7,6,5,5,7,6,7,6,6,6,5,7,6,7,7,8,6,6,7,6,5,6,5,7,5,6,6,6,6,6,5,6,7,5,6,6,7,6,6,6,6,6,6,6,5,8,6,6,6,4,7,6,6,5,6,6,5,7,7,7,6,6,6,5,6,6,6,6,6,5,6,6,7,6,6,7,6,5,6,6,5,7,7,6,5,7,6,7,5,5,5,5,7,6,6,6,6,6,6,6,6,4,7,5,6,6,5,6,5,5,6,5,6,5,4,6,5,7,5,6,6,6,6,6,6,6,7,8,5,7,7,7,5,7,7,6,5,6,6,6,6,6,6,6,6,6,6,6,6,6,5,5,5,7,5,6,5,5,4,6,4,6,6,4,4,5,5,6,5,6,5,5,5,6,6,6,5,5,5,5,5,5,6,6,6,5,4,5,4,6,6,6,6,6,8,6,6,5,5,6,6,4,6,6,7,6,6,6,6,5,5,6,5,5,5,5,6,6,4,6,5,5,6,6,3,6,6,6,5,5,5,5,4,5,5,5,6,5,6,6,6,6,6,6,6,5,6,5,7,6,6,6,6,5,6,6,5,6,5,5,6,5,5,5,6,6,6,6,6,5,6,5,5,5,5,5,6,5,5,5,5,5,6,5,6,5,5,6,4,6,5,5,6,6,4,5,6,5,5,3,5,5,6,6,6,6,5,5,5,5,5,5,5,5,5,6,5,5,5,5,6,5,5,7,6,5,5,6,8,6,7,6,6,7,6,6,6,6,5,5,5,5,7,5,5,5,5,6,4,6,6,6,5,5,5,5,6,6,7,6,6,5,5,5,6,7,6,5,5,6,6,5,5,5,8,7,7,7,5,6,6,6,5,5,7,6,4,6,6,5,5,7,4,7,3,5,5,6,5,5,7,5,7,3,5,4,5,4,5,4,5,5,5,5,6,6,5,5,5,7,6,5,6,6,6,5,5,5,6,6,3,6,6,6,5,6,5,6,6,6,6,5,6,5,5,6,4,5,5,6,5,6,6,6,6,6,5,6,5,7,6,6,6,5,5,6,7,6,6,7,6,5,5,5,8,5,5,6,5,6,7,5,6,5,5,5,5,5,5,5,6,6,5,5,6,6,6,5,6,6,6,6,6,6,5,6,5,5,5,7,6,6,6,6,5,6,6,6,6,5,6,6,5,6]}],\"hovertemplate\":\"%{xaxis.title.text}=%{x}<br>%{yaxis.title.text}=%{y}<extra></extra>\",\"legendgroup\":\"\",\"marker\":{\"color\":\"#636efa\",\"symbol\":\"circle\"},\"name\":\"\",\"showlegend\":false,\"type\":\"splom\"}],                        {\"template\":{\"data\":{\"bar\":[{\"error_x\":{\"color\":\"#2a3f5f\"},\"error_y\":{\"color\":\"#2a3f5f\"},\"marker\":{\"line\":{\"color\":\"#E5ECF6\",\"width\":0.5},\"pattern\":{\"fillmode\":\"overlay\",\"size\":10,\"solidity\":0.2}},\"type\":\"bar\"}],\"barpolar\":[{\"marker\":{\"line\":{\"color\":\"#E5ECF6\",\"width\":0.5},\"pattern\":{\"fillmode\":\"overlay\",\"size\":10,\"solidity\":0.2}},\"type\":\"barpolar\"}],\"carpet\":[{\"aaxis\":{\"endlinecolor\":\"#2a3f5f\",\"gridcolor\":\"white\",\"linecolor\":\"white\",\"minorgridcolor\":\"white\",\"startlinecolor\":\"#2a3f5f\"},\"baxis\":{\"endlinecolor\":\"#2a3f5f\",\"gridcolor\":\"white\",\"linecolor\":\"white\",\"minorgridcolor\":\"white\",\"startlinecolor\":\"#2a3f5f\"},\"type\":\"carpet\"}],\"choropleth\":[{\"colorbar\":{\"outlinewidth\":0,\"ticks\":\"\"},\"type\":\"choropleth\"}],\"contour\":[{\"colorbar\":{\"outlinewidth\":0,\"ticks\":\"\"},\"colorscale\":[[0.0,\"#0d0887\"],[0.1111111111111111,\"#46039f\"],[0.2222222222222222,\"#7201a8\"],[0.3333333333333333,\"#9c179e\"],[0.4444444444444444,\"#bd3786\"],[0.5555555555555556,\"#d8576b\"],[0.6666666666666666,\"#ed7953\"],[0.7777777777777778,\"#fb9f3a\"],[0.8888888888888888,\"#fdca26\"],[1.0,\"#f0f921\"]],\"type\":\"contour\"}],\"contourcarpet\":[{\"colorbar\":{\"outlinewidth\":0,\"ticks\":\"\"},\"type\":\"contourcarpet\"}],\"heatmap\":[{\"colorbar\":{\"outlinewidth\":0,\"ticks\":\"\"},\"colorscale\":[[0.0,\"#0d0887\"],[0.1111111111111111,\"#46039f\"],[0.2222222222222222,\"#7201a8\"],[0.3333333333333333,\"#9c179e\"],[0.4444444444444444,\"#bd3786\"],[0.5555555555555556,\"#d8576b\"],[0.6666666666666666,\"#ed7953\"],[0.7777777777777778,\"#fb9f3a\"],[0.8888888888888888,\"#fdca26\"],[1.0,\"#f0f921\"]],\"type\":\"heatmap\"}],\"heatmapgl\":[{\"colorbar\":{\"outlinewidth\":0,\"ticks\":\"\"},\"colorscale\":[[0.0,\"#0d0887\"],[0.1111111111111111,\"#46039f\"],[0.2222222222222222,\"#7201a8\"],[0.3333333333333333,\"#9c179e\"],[0.4444444444444444,\"#bd3786\"],[0.5555555555555556,\"#d8576b\"],[0.6666666666666666,\"#ed7953\"],[0.7777777777777778,\"#fb9f3a\"],[0.8888888888888888,\"#fdca26\"],[1.0,\"#f0f921\"]],\"type\":\"heatmapgl\"}],\"histogram\":[{\"marker\":{\"pattern\":{\"fillmode\":\"overlay\",\"size\":10,\"solidity\":0.2}},\"type\":\"histogram\"}],\"histogram2d\":[{\"colorbar\":{\"outlinewidth\":0,\"ticks\":\"\"},\"colorscale\":[[0.0,\"#0d0887\"],[0.1111111111111111,\"#46039f\"],[0.2222222222222222,\"#7201a8\"],[0.3333333333333333,\"#9c179e\"],[0.4444444444444444,\"#bd3786\"],[0.5555555555555556,\"#d8576b\"],[0.6666666666666666,\"#ed7953\"],[0.7777777777777778,\"#fb9f3a\"],[0.8888888888888888,\"#fdca26\"],[1.0,\"#f0f921\"]],\"type\":\"histogram2d\"}],\"histogram2dcontour\":[{\"colorbar\":{\"outlinewidth\":0,\"ticks\":\"\"},\"colorscale\":[[0.0,\"#0d0887\"],[0.1111111111111111,\"#46039f\"],[0.2222222222222222,\"#7201a8\"],[0.3333333333333333,\"#9c179e\"],[0.4444444444444444,\"#bd3786\"],[0.5555555555555556,\"#d8576b\"],[0.6666666666666666,\"#ed7953\"],[0.7777777777777778,\"#fb9f3a\"],[0.8888888888888888,\"#fdca26\"],[1.0,\"#f0f921\"]],\"type\":\"histogram2dcontour\"}],\"mesh3d\":[{\"colorbar\":{\"outlinewidth\":0,\"ticks\":\"\"},\"type\":\"mesh3d\"}],\"parcoords\":[{\"line\":{\"colorbar\":{\"outlinewidth\":0,\"ticks\":\"\"}},\"type\":\"parcoords\"}],\"pie\":[{\"automargin\":true,\"type\":\"pie\"}],\"scatter\":[{\"marker\":{\"colorbar\":{\"outlinewidth\":0,\"ticks\":\"\"}},\"type\":\"scatter\"}],\"scatter3d\":[{\"line\":{\"colorbar\":{\"outlinewidth\":0,\"ticks\":\"\"}},\"marker\":{\"colorbar\":{\"outlinewidth\":0,\"ticks\":\"\"}},\"type\":\"scatter3d\"}],\"scattercarpet\":[{\"marker\":{\"colorbar\":{\"outlinewidth\":0,\"ticks\":\"\"}},\"type\":\"scattercarpet\"}],\"scattergeo\":[{\"marker\":{\"colorbar\":{\"outlinewidth\":0,\"ticks\":\"\"}},\"type\":\"scattergeo\"}],\"scattergl\":[{\"marker\":{\"colorbar\":{\"outlinewidth\":0,\"ticks\":\"\"}},\"type\":\"scattergl\"}],\"scattermapbox\":[{\"marker\":{\"colorbar\":{\"outlinewidth\":0,\"ticks\":\"\"}},\"type\":\"scattermapbox\"}],\"scatterpolar\":[{\"marker\":{\"colorbar\":{\"outlinewidth\":0,\"ticks\":\"\"}},\"type\":\"scatterpolar\"}],\"scatterpolargl\":[{\"marker\":{\"colorbar\":{\"outlinewidth\":0,\"ticks\":\"\"}},\"type\":\"scatterpolargl\"}],\"scatterternary\":[{\"marker\":{\"colorbar\":{\"outlinewidth\":0,\"ticks\":\"\"}},\"type\":\"scatterternary\"}],\"surface\":[{\"colorbar\":{\"outlinewidth\":0,\"ticks\":\"\"},\"colorscale\":[[0.0,\"#0d0887\"],[0.1111111111111111,\"#46039f\"],[0.2222222222222222,\"#7201a8\"],[0.3333333333333333,\"#9c179e\"],[0.4444444444444444,\"#bd3786\"],[0.5555555555555556,\"#d8576b\"],[0.6666666666666666,\"#ed7953\"],[0.7777777777777778,\"#fb9f3a\"],[0.8888888888888888,\"#fdca26\"],[1.0,\"#f0f921\"]],\"type\":\"surface\"}],\"table\":[{\"cells\":{\"fill\":{\"color\":\"#EBF0F8\"},\"line\":{\"color\":\"white\"}},\"header\":{\"fill\":{\"color\":\"#C8D4E3\"},\"line\":{\"color\":\"white\"}},\"type\":\"table\"}]},\"layout\":{\"annotationdefaults\":{\"arrowcolor\":\"#2a3f5f\",\"arrowhead\":0,\"arrowwidth\":1},\"autotypenumbers\":\"strict\",\"coloraxis\":{\"colorbar\":{\"outlinewidth\":0,\"ticks\":\"\"}},\"colorscale\":{\"diverging\":[[0,\"#8e0152\"],[0.1,\"#c51b7d\"],[0.2,\"#de77ae\"],[0.3,\"#f1b6da\"],[0.4,\"#fde0ef\"],[0.5,\"#f7f7f7\"],[0.6,\"#e6f5d0\"],[0.7,\"#b8e186\"],[0.8,\"#7fbc41\"],[0.9,\"#4d9221\"],[1,\"#276419\"]],\"sequential\":[[0.0,\"#0d0887\"],[0.1111111111111111,\"#46039f\"],[0.2222222222222222,\"#7201a8\"],[0.3333333333333333,\"#9c179e\"],[0.4444444444444444,\"#bd3786\"],[0.5555555555555556,\"#d8576b\"],[0.6666666666666666,\"#ed7953\"],[0.7777777777777778,\"#fb9f3a\"],[0.8888888888888888,\"#fdca26\"],[1.0,\"#f0f921\"]],\"sequentialminus\":[[0.0,\"#0d0887\"],[0.1111111111111111,\"#46039f\"],[0.2222222222222222,\"#7201a8\"],[0.3333333333333333,\"#9c179e\"],[0.4444444444444444,\"#bd3786\"],[0.5555555555555556,\"#d8576b\"],[0.6666666666666666,\"#ed7953\"],[0.7777777777777778,\"#fb9f3a\"],[0.8888888888888888,\"#fdca26\"],[1.0,\"#f0f921\"]]},\"colorway\":[\"#636efa\",\"#EF553B\",\"#00cc96\",\"#ab63fa\",\"#FFA15A\",\"#19d3f3\",\"#FF6692\",\"#B6E880\",\"#FF97FF\",\"#FECB52\"],\"font\":{\"color\":\"#2a3f5f\"},\"geo\":{\"bgcolor\":\"white\",\"lakecolor\":\"white\",\"landcolor\":\"#E5ECF6\",\"showlakes\":true,\"showland\":true,\"subunitcolor\":\"white\"},\"hoverlabel\":{\"align\":\"left\"},\"hovermode\":\"closest\",\"mapbox\":{\"style\":\"light\"},\"paper_bgcolor\":\"white\",\"plot_bgcolor\":\"#E5ECF6\",\"polar\":{\"angularaxis\":{\"gridcolor\":\"white\",\"linecolor\":\"white\",\"ticks\":\"\"},\"bgcolor\":\"#E5ECF6\",\"radialaxis\":{\"gridcolor\":\"white\",\"linecolor\":\"white\",\"ticks\":\"\"}},\"scene\":{\"xaxis\":{\"backgroundcolor\":\"#E5ECF6\",\"gridcolor\":\"white\",\"gridwidth\":2,\"linecolor\":\"white\",\"showbackground\":true,\"ticks\":\"\",\"zerolinecolor\":\"white\"},\"yaxis\":{\"backgroundcolor\":\"#E5ECF6\",\"gridcolor\":\"white\",\"gridwidth\":2,\"linecolor\":\"white\",\"showbackground\":true,\"ticks\":\"\",\"zerolinecolor\":\"white\"},\"zaxis\":{\"backgroundcolor\":\"#E5ECF6\",\"gridcolor\":\"white\",\"gridwidth\":2,\"linecolor\":\"white\",\"showbackground\":true,\"ticks\":\"\",\"zerolinecolor\":\"white\"}},\"shapedefaults\":{\"line\":{\"color\":\"#2a3f5f\"}},\"ternary\":{\"aaxis\":{\"gridcolor\":\"white\",\"linecolor\":\"white\",\"ticks\":\"\"},\"baxis\":{\"gridcolor\":\"white\",\"linecolor\":\"white\",\"ticks\":\"\"},\"bgcolor\":\"#E5ECF6\",\"caxis\":{\"gridcolor\":\"white\",\"linecolor\":\"white\",\"ticks\":\"\"}},\"title\":{\"x\":0.05},\"xaxis\":{\"automargin\":true,\"gridcolor\":\"white\",\"linecolor\":\"white\",\"ticks\":\"\",\"title\":{\"standoff\":15},\"zerolinecolor\":\"white\",\"zerolinewidth\":2},\"yaxis\":{\"automargin\":true,\"gridcolor\":\"white\",\"linecolor\":\"white\",\"ticks\":\"\",\"title\":{\"standoff\":15},\"zerolinecolor\":\"white\",\"zerolinewidth\":2}}},\"legend\":{\"tracegroupgap\":0},\"margin\":{\"t\":60},\"dragmode\":\"select\"},                        {\"responsive\": true}                    ).then(function(){\n",
              "                            \n",
              "var gd = document.getElementById('b51abced-7016-4e1a-b833-9c806c6fb92c');\n",
              "var x = new MutationObserver(function (mutations, observer) {{\n",
              "        var display = window.getComputedStyle(gd).display;\n",
              "        if (!display || display === 'none') {{\n",
              "            console.log([gd, 'removed!']);\n",
              "            Plotly.purge(gd);\n",
              "            observer.disconnect();\n",
              "        }}\n",
              "}});\n",
              "\n",
              "// Listen for the removal of the full notebook cells\n",
              "var notebookContainer = gd.closest('#notebook-container');\n",
              "if (notebookContainer) {{\n",
              "    x.observe(notebookContainer, {childList: true});\n",
              "}}\n",
              "\n",
              "// Listen for the clearing of the current output cell\n",
              "var outputEl = gd.closest('.output');\n",
              "if (outputEl) {{\n",
              "    x.observe(outputEl, {childList: true});\n",
              "}}\n",
              "\n",
              "                        })                };                            </script>        </div>\n",
              "</body>\n",
              "</html>"
            ]
          },
          "metadata": {}
        }
      ]
    },
    {
      "cell_type": "code",
      "source": [
        "# grafico = px.scatter_matrix(base_wine, dimensions=['total sulfur dioxide'])\n",
        "# grafico"
      ],
      "metadata": {
        "id": "qEIuUjmZ1JsA"
      },
      "execution_count": 538,
      "outputs": []
    },
    {
      "cell_type": "code",
      "source": [
        "dados1 = base_wine.loc[base_wine['total sulfur dioxide']>165]\n",
        "dados1['total sulfur dioxide'] = 46.46779237023139"
      ],
      "metadata": {
        "id": "azRgVT58PJ4T"
      },
      "execution_count": null,
      "outputs": []
    },
    {
      "cell_type": "code",
      "source": [
        "base_wine.loc[base_wine['total sulfur dioxide']>165] = dados1"
      ],
      "metadata": {
        "id": "nJeXPnWFPLIJ"
      },
      "execution_count": 540,
      "outputs": []
    },
    {
      "cell_type": "code",
      "source": [
        "grafico = px.scatter_matrix(base_wine, dimensions=['total sulfur dioxide'])\n",
        "grafico"
      ],
      "metadata": {
        "colab": {
          "base_uri": "https://localhost:8080/",
          "height": 542
        },
        "id": "LJ6lRwg4PLDL",
        "outputId": "8c747a9d-e12d-4c02-8b2f-f596d0eaeb61"
      },
      "execution_count": 541,
      "outputs": [
        {
          "output_type": "display_data",
          "data": {
            "text/html": [
              "<html>\n",
              "<head><meta charset=\"utf-8\" /></head>\n",
              "<body>\n",
              "    <div>            <script src=\"https://cdnjs.cloudflare.com/ajax/libs/mathjax/2.7.5/MathJax.js?config=TeX-AMS-MML_SVG\"></script><script type=\"text/javascript\">if (window.MathJax) {MathJax.Hub.Config({SVG: {font: \"STIX-Web\"}});}</script>                <script type=\"text/javascript\">window.PlotlyConfig = {MathJaxConfig: 'local'};</script>\n",
              "        <script src=\"https://cdn.plot.ly/plotly-2.8.3.min.js\"></script>                <div id=\"926f8116-538f-463e-be64-5f3c4e404dce\" class=\"plotly-graph-div\" style=\"height:525px; width:100%;\"></div>            <script type=\"text/javascript\">                                    window.PLOTLYENV=window.PLOTLYENV || {};                                    if (document.getElementById(\"926f8116-538f-463e-be64-5f3c4e404dce\")) {                    Plotly.newPlot(                        \"926f8116-538f-463e-be64-5f3c4e404dce\",                        [{\"dimensions\":[{\"axis\":{\"matches\":true},\"label\":\"total sulfur dioxide\",\"values\":[34.0,67.0,54.0,60.0,34.0,40.0,59.0,21.0,18.0,102.0,65.0,102.0,59.0,29.0,145.0,148.0,103.0,56.0,29.0,56.0,60.0,71.0,37.0,67.0,40.0,23.0,11.0,37.0,35.0,16.0,82.0,37.0,113.0,83.0,50.0,18.0,15.0,30.0,19.0,87.0,87.0,46.0,14.0,23.0,11.0,65.0,114.0,37.0,12.0,96.0,23.0,15.0,14.0,119.0,73.0,45.0,10.0,110.0,54.0,46.0,52.0,112.0,35.0,54.0,11.0,11.0,39.0,15.0,65.0,19.0,27.0,96.0,94.0,43.0,83.0,42.0,42.0,30.0,80.0,119.0,15.0,67.0,73.0,51.0,61.0,40.0,136.0,31.0,125.0,24.0,140.0,136.0,133.0,31.0,85.0,106.0,23.0,22.0,10.0,35.0,50.0,22.0,35.0,65.0,36.0,65.0,69.0,64.0,80.0,153.0,47.0,108.0,111.0,46.0,47.0,62.0,40.0,28.0,56.0,89.0,89.0,56.0,13.0,34.0,102.0,90.0,12.0,12.0,16.0,19.0,134.0,99.0,99.0,26.0,29.0,63.0,52.0,45.0,105.0,108.0,63.0,52.0,63.0,20.0,63.0,141.0,94.0,88.0,30.0,43.0,11.0,69.0,99.0,99.0,129.0,128.0,129.0,128.0,22.0,86.0,20.0,20.0,31.0,121.0,121.0,96.0,101.0,42.0,44.0,63.0,8.0,18.0,18.0,42.0,35.0,49.0,35.0,38.0,20.0,42.0,42.0,110.0,42.0,65.0,62.0,85.0,67.0,26.0,143.0,144.0,127.0,49.0,126.0,28.0,28.0,120.0,55.0,27.0,93.0,31.0,24.0,145.0,49.0,39.0,37.0,28.0,28.0,120.0,95.0,19.0,19.0,62.0,15.0,65.0,41.0,121.0,49.0,41.0,44.0,144.0,58.0,72.0,10.0,28.0,55.0,63.0,81.0,23.0,63.0,37.0,106.0,49.0,58.0,37.0,37.0,38.0,38.0,39.0,38.0,37.0,62.0,24.0,109.0,24.0,24.0,23.0,51.0,73.0,39.0,23.0,37.0,34.0,21.0,86.0,34.0,119.0,13.0,56.0,45.0,33.0,45.0,67.0,35.0,49.0,27.0,10.0,61.0,37.0,27.0,23.0,61.0,23.0,65.0,38.0,94.0,61.0,27.0,23.0,13.0,47.0,19.0,10.0,53.0,47.0,71.0,71.0,49.0,53.0,49.0,98.0,49.0,18.0,48.0,16.0,53.0,27.0,70.0,29.0,31.0,33.0,44.0,15.0,28.0,21.0,90.0,25.0,54.0,14.0,12.0,30.0,25.0,105.0,98.0,135.0,72.0,53.0,92.0,74.0,59.0,74.0,59.0,87.0,18.0,73.0,50.0,50.0,14.0,13.0,21.0,15.0,41.0,41.0,114.0,44.0,38.0,21.0,16.0,58.0,99.0,29.0,21.0,18.0,14.0,14.0,32.0,63.0,34.0,15.0,46.0,28.0,34.0,26.0,19.0,77.0,165.0,32.0,55.0,29.0,23.0,41.0,81.0,50.0,37.0,15.0,42.0,21.0,42.0,24.0,75.0,18.0,63.0,25.0,46.0,72.0,47.0,15.0,47.0,18.0,24.0,60.0,27.0,43.0,27.0,27.0,54.0,37.0,48.0,42.0,53.0,49.0,88.0,43.0,26.0,95.0,25.0,38.0,124.0,49.0,49.0,42.0,124.0,38.0,64.0,41.0,27.0,25.0,28.0,30.0,16.0,49.0,86.0,78.0,77.0,19.0,122.0,134.0,20.0,124.0,20.0,52.0,67.0,48.0,60.0,24.0,60.0,48.0,48.0,32.0,30.0,35.0,24.0,66.0,24.0,18.0,54.0,18.0,62.0,22.0,54.0,50.0,29.0,27.0,43.0,19.0,27.0,31.0,72.0,16.0,27.0,35.0,35.0,26.0,35.0,22.0,67.0,19.0,22.0,65.0,22.0,47.0,23.0,19.0,25.0,129.0,15.0,26.0,51.0,18.0,21.0,48.0,47.0,52.0,68.0,14.0,24.0,28.0,16.0,20.0,28.0,31.0,23.0,17.0,18.0,18.0,24.0,17.0,17.0,14.0,67.0,26.0,56.0,25.0,27.0,81.0,91.0,16.0,38.0,113.0,16.0,81.0,38.0,76.0,76.0,24.0,22.0,26.0,21.0,13.0,62.0,43.0,43.0,62.0,49.0,15.0,15.0,151.0,14.0,16.0,32.0,106.0,33.0,43.0,133.0,142.0,116.0,53.0,106.0,85.0,55.0,33.0,28.0,42.0,42.0,33.0,32.0,28.0,33.0,13.0,35.0,17.0,47.0,17.0,20.0,53.0,15.0,106.0,28.0,21.0,69.0,25.0,25.0,45.0,44.0,96.0,23.0,23.0,17.0,23.0,17.0,47.0,19.0,121.0,110.0,60.0,47.0,19.0,15.0,15.0,20.0,42.0,37.0,42.0,28.0,47.0,78.0,46.0,14.0,111.0,110.0,40.0,14.0,14.0,15.0,21.0,80.0,38.0,47.0,102.0,50.0,13.0,75.0,149.0,75.0,43.0,38.0,109.0,24.0,18.0,30.0,22.0,23.0,35.0,14.0,35.0,63.0,24.0,20.0,52.0,65.0,39.0,57.0,16.0,29.0,29.0,103.0,71.0,71.0,28.0,17.0,16.0,112.0,104.0,32.0,45.0,58.0,58.0,15.0,15.0,31.0,84.0,31.0,19.0,43.0,86.0,102.0,33.0,147.0,145.0,23.0,57.0,40.0,68.0,40.0,68.0,40.0,11.0,20.0,14.0,28.0,148.0,32.0,155.0,71.0,30.0,29.0,53.0,32.0,42.0,20.0,13.0,20.0,42.0,27.0,13.0,54.0,48.0,16.0,15.0,31.0,15.0,45.0,13.0,151.0,13.0,17.0,31.0,17.0,31.0,87.0,49.0,40.0,29.0,58.0,15.0,152.0,15.0,40.0,38.0,9.0,17.0,14.0,93.0,62.0,122.0,125.0,44.0,25.0,25.0,72.0,19.0,88.0,25.0,23.0,84.0,14.0,54.0,19.0,37.0,35.0,33.0,84.0,112.0,33.0,48.0,77.0,34.0,48.0,49.0,22.0,45.0,22.0,106.0,48.0,127.0,12.0,13.0,49.0,11.0,11.0,58.0,37.0,14.0,19.0,72.0,39.0,22.0,22.0,58.0,104.0,38.0,16.0,139.0,18.0,101.0,101.0,28.0,57.0,68.0,31.0,28.0,40.0,40.0,66.0,40.0,32.0,47.0,33.0,31.0,31.0,88.0,104.0,35.0,19.0,35.0,44.0,48.0,74.0,98.0,94.0,32.0,94.0,143.0,144.0,44.0,45.0,16.0,48.0,18.0,34.0,92.0,45.0,37.0,96.0,37.0,85.0,61.0,61.0,58.0,58.0,119.0,82.0,130.0,87.0,13.0,26.0,60.0,64.0,42.0,14.0,14.0,108.0,17.0,86.0,46.0,18.0,10.0,10.0,10.0,12.0,15.0,14.0,24.0,38.0,7.0,41.0,38.0,30.0,27.0,47.0,59.0,22.0,42.0,36.0,36.0,16.0,37.0,8.0,37.0,45.0,24.0,9.0,24.0,48.0,51.0,23.0,55.0,100.0,100.0,28.0,26.0,34.0,31.0,68.0,92.0,42.0,31.0,31.0,39.0,31.0,32.0,22.0,22.0,122.0,55.0,55.0,14.0,55.0,47.0,32.0,24.0,85.0,88.0,25.0,84.0,85.0,86.0,24.0,22.0,24.0,43.0,43.0,46.0,48.0,10.0,10.0,16.0,14.0,43.0,69.0,88.0,21.0,35.0,26.0,88.0,69.0,30.0,28.0,56.0,64.0,99.0,52.0,86.0,18.0,86.0,88.0,43.0,43.0,43.0,43.0,11.0,39.0,33.0,33.0,18.0,18.0,115.0,78.0,9.0,61.0,11.0,11.0,9.0,8.0,10.0,11.0,6.0,62.0,45.0,79.0,46.0,23.0,79.0,46.0,45.0,28.0,77.0,73.0,75.0,28.0,19.0,25.0,38.0,66.0,38.0,25.0,72.0,72.0,26.0,42.0,11.0,25.0,17.0,52.0,45.0,24.0,20.0,24.0,12.0,21.0,21.0,21.0,12.0,10.0,9.0,11.0,23.0,10.0,51.0,36.0,32.0,38.0,18.0,16.0,27.0,38.0,48.0,10.0,113.0,46.0,22.0,10.0,10.0,13.0,12.0,13.0,72.0,72.0,119.0,29.0,6.0,17.0,28.0,70.0,17.0,6.0,11.0,7.0,70.0,27.0,21.0,27.0,68.0,47.0,68.0,88.0,41.0,11.0,11.0,10.0,12.0,12.0,47.0,27.0,8.0,45.0,8.0,27.0,25.0,24.0,55.0,12.0,19.0,32.0,31.0,7.0,27.0,28.0,109.0,109.0,23.0,8.0,8.0,9.0,9.0,18.0,43.0,36.0,52.0,68.0,18.0,14.0,15.0,14.0,27.0,48.0,17.0,35.0,56.0,42.0,39.0,32.0,26.0,39.0,39.0,53.0,38.0,45.0,51.0,14.0,17.0,51.0,45.0,25.0,20.0,77.0,77.0,10.0,90.0,52.0,10.0,8.0,16.0,15.0,17.0,10.0,20.0,26.0,10.0,10.0,52.0,37.0,92.0,75.0,37.0,92.0,67.0,8.0,8.0,8.0,46.46779237023139,8.0,46.46779237023139,70.0,59.0,70.0,64.0,9.0,30.0,41.0,41.0,74.0,19.0,16.0,31.0,17.0,20.0,17.0,18.0,16.0,18.0,36.0,25.0,30.0,25.0,25.0,49.0,17.0,24.0,13.0,66.0,14.0,55.0,35.0,10.0,80.0,21.0,21.0,21.0,24.0,15.0,17.0,28.0,33.0,29.0,13.0,27.0,11.0,52.0,89.0,70.0,10.0,135.0,38.0,18.0,15.0,50.0,13.0,13.0,94.0,86.0,79.0,71.0,12.0,20.0,70.0,51.0,21.0,14.0,21.0,11.0,12.0,70.0,38.0,38.0,63.0,38.0,88.0,101.0,54.0,37.0,20.0,21.0,19.0,21.0,21.0,38.0,60.0,48.0,44.0,14.0,12.0,44.0,16.0,65.0,65.0,59.0,47.0,11.0,78.0,47.0,47.0,11.0,54.0,61.0,119.0,39.0,12.0,39.0,119.0,19.0,20.0,12.0,41.0,12.0,64.0,56.0,94.0,9.0,77.0,94.0,9.0,10.0,12.0,76.0,44.0,44.0,44.0,52.0,44.0,24.0,15.0,53.0,15.0,13.0,9.0,29.0,79.0,74.0,24.0,50.0,44.0,44.0,89.0,23.0,20.0,77.0,46.0,21.0,88.0,66.0,58.0,90.0,66.0,36.0,18.0,113.0,17.0,18.0,24.0,20.0,60.0,65.0,40.0,86.0,160.0,34.0,48.0,34.0,36.0,37.0,37.0,60.0,14.0,13.0,35.0,46.0,60.0,69.0,33.0,33.0,56.0,24.0,66.0,26.0,51.0,36.0,36.0,19.0,51.0,87.0,60.0,64.0,44.0,44.0,36.0,81.0,10.0,10.0,81.0,9.0,54.0,54.0,22.0,69.0,36.0,47.0,31.0,7.0,110.0,110.0,12.0,60.0,28.0,12.0,60.0,77.5,77.5,29.0,18.0,9.0,28.0,57.0,15.0,68.0,68.0,88.0,91.0,29.0,91.0,63.0,88.0,27.0,41.0,65.0,69.0,91.0,46.0,41.0,91.0,64.0,88.0,46.0,18.0,55.0,34.0,34.0,34.0,34.0,38.0,91.0,91.0,67.0,25.0,48.0,11.0,40.0,26.0,26.0,26.0,31.0,31.0,31.0,31.0,31.0,20.0,28.0,13.0,12.0,12.0,41.0,73.0,46.0,57.0,57.0,28.0,32.0,28.0,67.0,98.0,28.0,38.0,54.0,28.0,63.0,31.0,42.0,45.0,105.0,74.0,8.0,66.0,14.0,66.0,89.0,29.0,100.0,31.0,74.0,28.0,35.0,35.0,25.0,105.0,105.0,84.0,85.0,23.0,23.0,49.0,111.0,33.0,33.0,12.0,59.0,73.0,12.0,11.0,104.0,28.0,24.0,141.0,141.0,24.0,13.0,46.0,34.0,22.0,54.0,53.0,54.0,16.0,19.0,22.0,89.0,15.0,18.0,15.0,37.0,19.0,133.0,19.0,58.0,55.0,31.0,23.0,23.0,60.0,23.0,55.0,67.0,47.0,74.0,11.0,25.0,95.0,95.0,90.0,39.0,8.0,92.0,28.0,98.0,30.0,22.0,92.0,98.0,30.0,39.0,54.0,29.0,28.0,17.0,53.0,85.0,23.0,17.0,89.0,85.0,20.0,15.0,64.0,13.0,31.0,39.0,53.0,53.0,54.0,32.0,54.0,49.0,24.0,16.0,44.0,45.0,82.0,89.0,82.0,89.0,14.0,22.0,13.0,22.0,9.0,12.0,11.0,25.0,23.0,17.0,13.0,11.0,18.0,13.0,18.0,147.0,28.0,28.0,147.0,16.0,13.0,16.0,15.0,64.0,60.0,14.0,12.0,12.0,14.0,12.0,25.0,20.0,48.0,27.0,17.0,65.0,65.0,65.0,58.0,44.0,20.0,27.0,44.0,23.0,58.0,61.0,47.0,34.0,38.0,24.0,59.0,52.0,18.0,28.0,22.0,84.0,29.0,35.0,45.0,31.0,26.0,60.0,32.0,49.0,38.0,19.0,19.0,28.0,26.0,26.0,50.0,24.0,26.0,27.0,54.0,28.0,23.0,24.0,20.0,23.0,115.0,131.0,131.0,131.0,20.0,20.0,20.0,42.0,52.0,20.0,42.0,34.0,35.0,25.0,104.0,50.0,92.0,20.0,29.0,27.0,20.0,32.0,26.0,32.0,27.0,98.0,34.0,48.0,60.0,28.0,102.0,79.0,35.0,26.0,40.0,38.0,44.0,51.0,40.0,44.0,42.0]}],\"hovertemplate\":\"%{xaxis.title.text}=%{x}<br>%{yaxis.title.text}=%{y}<extra></extra>\",\"legendgroup\":\"\",\"marker\":{\"color\":\"#636efa\",\"symbol\":\"circle\"},\"name\":\"\",\"showlegend\":false,\"type\":\"splom\"}],                        {\"template\":{\"data\":{\"bar\":[{\"error_x\":{\"color\":\"#2a3f5f\"},\"error_y\":{\"color\":\"#2a3f5f\"},\"marker\":{\"line\":{\"color\":\"#E5ECF6\",\"width\":0.5},\"pattern\":{\"fillmode\":\"overlay\",\"size\":10,\"solidity\":0.2}},\"type\":\"bar\"}],\"barpolar\":[{\"marker\":{\"line\":{\"color\":\"#E5ECF6\",\"width\":0.5},\"pattern\":{\"fillmode\":\"overlay\",\"size\":10,\"solidity\":0.2}},\"type\":\"barpolar\"}],\"carpet\":[{\"aaxis\":{\"endlinecolor\":\"#2a3f5f\",\"gridcolor\":\"white\",\"linecolor\":\"white\",\"minorgridcolor\":\"white\",\"startlinecolor\":\"#2a3f5f\"},\"baxis\":{\"endlinecolor\":\"#2a3f5f\",\"gridcolor\":\"white\",\"linecolor\":\"white\",\"minorgridcolor\":\"white\",\"startlinecolor\":\"#2a3f5f\"},\"type\":\"carpet\"}],\"choropleth\":[{\"colorbar\":{\"outlinewidth\":0,\"ticks\":\"\"},\"type\":\"choropleth\"}],\"contour\":[{\"colorbar\":{\"outlinewidth\":0,\"ticks\":\"\"},\"colorscale\":[[0.0,\"#0d0887\"],[0.1111111111111111,\"#46039f\"],[0.2222222222222222,\"#7201a8\"],[0.3333333333333333,\"#9c179e\"],[0.4444444444444444,\"#bd3786\"],[0.5555555555555556,\"#d8576b\"],[0.6666666666666666,\"#ed7953\"],[0.7777777777777778,\"#fb9f3a\"],[0.8888888888888888,\"#fdca26\"],[1.0,\"#f0f921\"]],\"type\":\"contour\"}],\"contourcarpet\":[{\"colorbar\":{\"outlinewidth\":0,\"ticks\":\"\"},\"type\":\"contourcarpet\"}],\"heatmap\":[{\"colorbar\":{\"outlinewidth\":0,\"ticks\":\"\"},\"colorscale\":[[0.0,\"#0d0887\"],[0.1111111111111111,\"#46039f\"],[0.2222222222222222,\"#7201a8\"],[0.3333333333333333,\"#9c179e\"],[0.4444444444444444,\"#bd3786\"],[0.5555555555555556,\"#d8576b\"],[0.6666666666666666,\"#ed7953\"],[0.7777777777777778,\"#fb9f3a\"],[0.8888888888888888,\"#fdca26\"],[1.0,\"#f0f921\"]],\"type\":\"heatmap\"}],\"heatmapgl\":[{\"colorbar\":{\"outlinewidth\":0,\"ticks\":\"\"},\"colorscale\":[[0.0,\"#0d0887\"],[0.1111111111111111,\"#46039f\"],[0.2222222222222222,\"#7201a8\"],[0.3333333333333333,\"#9c179e\"],[0.4444444444444444,\"#bd3786\"],[0.5555555555555556,\"#d8576b\"],[0.6666666666666666,\"#ed7953\"],[0.7777777777777778,\"#fb9f3a\"],[0.8888888888888888,\"#fdca26\"],[1.0,\"#f0f921\"]],\"type\":\"heatmapgl\"}],\"histogram\":[{\"marker\":{\"pattern\":{\"fillmode\":\"overlay\",\"size\":10,\"solidity\":0.2}},\"type\":\"histogram\"}],\"histogram2d\":[{\"colorbar\":{\"outlinewidth\":0,\"ticks\":\"\"},\"colorscale\":[[0.0,\"#0d0887\"],[0.1111111111111111,\"#46039f\"],[0.2222222222222222,\"#7201a8\"],[0.3333333333333333,\"#9c179e\"],[0.4444444444444444,\"#bd3786\"],[0.5555555555555556,\"#d8576b\"],[0.6666666666666666,\"#ed7953\"],[0.7777777777777778,\"#fb9f3a\"],[0.8888888888888888,\"#fdca26\"],[1.0,\"#f0f921\"]],\"type\":\"histogram2d\"}],\"histogram2dcontour\":[{\"colorbar\":{\"outlinewidth\":0,\"ticks\":\"\"},\"colorscale\":[[0.0,\"#0d0887\"],[0.1111111111111111,\"#46039f\"],[0.2222222222222222,\"#7201a8\"],[0.3333333333333333,\"#9c179e\"],[0.4444444444444444,\"#bd3786\"],[0.5555555555555556,\"#d8576b\"],[0.6666666666666666,\"#ed7953\"],[0.7777777777777778,\"#fb9f3a\"],[0.8888888888888888,\"#fdca26\"],[1.0,\"#f0f921\"]],\"type\":\"histogram2dcontour\"}],\"mesh3d\":[{\"colorbar\":{\"outlinewidth\":0,\"ticks\":\"\"},\"type\":\"mesh3d\"}],\"parcoords\":[{\"line\":{\"colorbar\":{\"outlinewidth\":0,\"ticks\":\"\"}},\"type\":\"parcoords\"}],\"pie\":[{\"automargin\":true,\"type\":\"pie\"}],\"scatter\":[{\"marker\":{\"colorbar\":{\"outlinewidth\":0,\"ticks\":\"\"}},\"type\":\"scatter\"}],\"scatter3d\":[{\"line\":{\"colorbar\":{\"outlinewidth\":0,\"ticks\":\"\"}},\"marker\":{\"colorbar\":{\"outlinewidth\":0,\"ticks\":\"\"}},\"type\":\"scatter3d\"}],\"scattercarpet\":[{\"marker\":{\"colorbar\":{\"outlinewidth\":0,\"ticks\":\"\"}},\"type\":\"scattercarpet\"}],\"scattergeo\":[{\"marker\":{\"colorbar\":{\"outlinewidth\":0,\"ticks\":\"\"}},\"type\":\"scattergeo\"}],\"scattergl\":[{\"marker\":{\"colorbar\":{\"outlinewidth\":0,\"ticks\":\"\"}},\"type\":\"scattergl\"}],\"scattermapbox\":[{\"marker\":{\"colorbar\":{\"outlinewidth\":0,\"ticks\":\"\"}},\"type\":\"scattermapbox\"}],\"scatterpolar\":[{\"marker\":{\"colorbar\":{\"outlinewidth\":0,\"ticks\":\"\"}},\"type\":\"scatterpolar\"}],\"scatterpolargl\":[{\"marker\":{\"colorbar\":{\"outlinewidth\":0,\"ticks\":\"\"}},\"type\":\"scatterpolargl\"}],\"scatterternary\":[{\"marker\":{\"colorbar\":{\"outlinewidth\":0,\"ticks\":\"\"}},\"type\":\"scatterternary\"}],\"surface\":[{\"colorbar\":{\"outlinewidth\":0,\"ticks\":\"\"},\"colorscale\":[[0.0,\"#0d0887\"],[0.1111111111111111,\"#46039f\"],[0.2222222222222222,\"#7201a8\"],[0.3333333333333333,\"#9c179e\"],[0.4444444444444444,\"#bd3786\"],[0.5555555555555556,\"#d8576b\"],[0.6666666666666666,\"#ed7953\"],[0.7777777777777778,\"#fb9f3a\"],[0.8888888888888888,\"#fdca26\"],[1.0,\"#f0f921\"]],\"type\":\"surface\"}],\"table\":[{\"cells\":{\"fill\":{\"color\":\"#EBF0F8\"},\"line\":{\"color\":\"white\"}},\"header\":{\"fill\":{\"color\":\"#C8D4E3\"},\"line\":{\"color\":\"white\"}},\"type\":\"table\"}]},\"layout\":{\"annotationdefaults\":{\"arrowcolor\":\"#2a3f5f\",\"arrowhead\":0,\"arrowwidth\":1},\"autotypenumbers\":\"strict\",\"coloraxis\":{\"colorbar\":{\"outlinewidth\":0,\"ticks\":\"\"}},\"colorscale\":{\"diverging\":[[0,\"#8e0152\"],[0.1,\"#c51b7d\"],[0.2,\"#de77ae\"],[0.3,\"#f1b6da\"],[0.4,\"#fde0ef\"],[0.5,\"#f7f7f7\"],[0.6,\"#e6f5d0\"],[0.7,\"#b8e186\"],[0.8,\"#7fbc41\"],[0.9,\"#4d9221\"],[1,\"#276419\"]],\"sequential\":[[0.0,\"#0d0887\"],[0.1111111111111111,\"#46039f\"],[0.2222222222222222,\"#7201a8\"],[0.3333333333333333,\"#9c179e\"],[0.4444444444444444,\"#bd3786\"],[0.5555555555555556,\"#d8576b\"],[0.6666666666666666,\"#ed7953\"],[0.7777777777777778,\"#fb9f3a\"],[0.8888888888888888,\"#fdca26\"],[1.0,\"#f0f921\"]],\"sequentialminus\":[[0.0,\"#0d0887\"],[0.1111111111111111,\"#46039f\"],[0.2222222222222222,\"#7201a8\"],[0.3333333333333333,\"#9c179e\"],[0.4444444444444444,\"#bd3786\"],[0.5555555555555556,\"#d8576b\"],[0.6666666666666666,\"#ed7953\"],[0.7777777777777778,\"#fb9f3a\"],[0.8888888888888888,\"#fdca26\"],[1.0,\"#f0f921\"]]},\"colorway\":[\"#636efa\",\"#EF553B\",\"#00cc96\",\"#ab63fa\",\"#FFA15A\",\"#19d3f3\",\"#FF6692\",\"#B6E880\",\"#FF97FF\",\"#FECB52\"],\"font\":{\"color\":\"#2a3f5f\"},\"geo\":{\"bgcolor\":\"white\",\"lakecolor\":\"white\",\"landcolor\":\"#E5ECF6\",\"showlakes\":true,\"showland\":true,\"subunitcolor\":\"white\"},\"hoverlabel\":{\"align\":\"left\"},\"hovermode\":\"closest\",\"mapbox\":{\"style\":\"light\"},\"paper_bgcolor\":\"white\",\"plot_bgcolor\":\"#E5ECF6\",\"polar\":{\"angularaxis\":{\"gridcolor\":\"white\",\"linecolor\":\"white\",\"ticks\":\"\"},\"bgcolor\":\"#E5ECF6\",\"radialaxis\":{\"gridcolor\":\"white\",\"linecolor\":\"white\",\"ticks\":\"\"}},\"scene\":{\"xaxis\":{\"backgroundcolor\":\"#E5ECF6\",\"gridcolor\":\"white\",\"gridwidth\":2,\"linecolor\":\"white\",\"showbackground\":true,\"ticks\":\"\",\"zerolinecolor\":\"white\"},\"yaxis\":{\"backgroundcolor\":\"#E5ECF6\",\"gridcolor\":\"white\",\"gridwidth\":2,\"linecolor\":\"white\",\"showbackground\":true,\"ticks\":\"\",\"zerolinecolor\":\"white\"},\"zaxis\":{\"backgroundcolor\":\"#E5ECF6\",\"gridcolor\":\"white\",\"gridwidth\":2,\"linecolor\":\"white\",\"showbackground\":true,\"ticks\":\"\",\"zerolinecolor\":\"white\"}},\"shapedefaults\":{\"line\":{\"color\":\"#2a3f5f\"}},\"ternary\":{\"aaxis\":{\"gridcolor\":\"white\",\"linecolor\":\"white\",\"ticks\":\"\"},\"baxis\":{\"gridcolor\":\"white\",\"linecolor\":\"white\",\"ticks\":\"\"},\"bgcolor\":\"#E5ECF6\",\"caxis\":{\"gridcolor\":\"white\",\"linecolor\":\"white\",\"ticks\":\"\"}},\"title\":{\"x\":0.05},\"xaxis\":{\"automargin\":true,\"gridcolor\":\"white\",\"linecolor\":\"white\",\"ticks\":\"\",\"title\":{\"standoff\":15},\"zerolinecolor\":\"white\",\"zerolinewidth\":2},\"yaxis\":{\"automargin\":true,\"gridcolor\":\"white\",\"linecolor\":\"white\",\"ticks\":\"\",\"title\":{\"standoff\":15},\"zerolinecolor\":\"white\",\"zerolinewidth\":2}}},\"legend\":{\"tracegroupgap\":0},\"margin\":{\"t\":60},\"dragmode\":\"select\"},                        {\"responsive\": true}                    ).then(function(){\n",
              "                            \n",
              "var gd = document.getElementById('926f8116-538f-463e-be64-5f3c4e404dce');\n",
              "var x = new MutationObserver(function (mutations, observer) {{\n",
              "        var display = window.getComputedStyle(gd).display;\n",
              "        if (!display || display === 'none') {{\n",
              "            console.log([gd, 'removed!']);\n",
              "            Plotly.purge(gd);\n",
              "            observer.disconnect();\n",
              "        }}\n",
              "}});\n",
              "\n",
              "// Listen for the removal of the full notebook cells\n",
              "var notebookContainer = gd.closest('#notebook-container');\n",
              "if (notebookContainer) {{\n",
              "    x.observe(notebookContainer, {childList: true});\n",
              "}}\n",
              "\n",
              "// Listen for the clearing of the current output cell\n",
              "var outputEl = gd.closest('.output');\n",
              "if (outputEl) {{\n",
              "    x.observe(outputEl, {childList: true});\n",
              "}}\n",
              "\n",
              "                        })                };                            </script>        </div>\n",
              "</body>\n",
              "</html>"
            ]
          },
          "metadata": {}
        }
      ]
    },
    {
      "cell_type": "code",
      "source": [
        "dados2 = base_wine.loc[base_wine['citric acid']>0.79]\n",
        "dados2['citric acid'] = 0.270976\t"
      ],
      "metadata": {
        "id": "vCxk-EQxhd2B"
      },
      "execution_count": null,
      "outputs": []
    },
    {
      "cell_type": "code",
      "source": [
        "base_wine.loc[base_wine['citric acid']>0.79] = dados2"
      ],
      "metadata": {
        "id": "wHHzFSzrhifD"
      },
      "execution_count": 543,
      "outputs": []
    },
    {
      "cell_type": "code",
      "source": [
        "grafico = px.scatter_matrix(base_wine, dimensions=['citric acid'])\n",
        "grafico"
      ],
      "metadata": {
        "colab": {
          "base_uri": "https://localhost:8080/",
          "height": 542
        },
        "id": "WITWWP82hjHZ",
        "outputId": "26879146-f288-440a-d605-136bcac44802"
      },
      "execution_count": 544,
      "outputs": [
        {
          "output_type": "display_data",
          "data": {
            "text/html": [
              "<html>\n",
              "<head><meta charset=\"utf-8\" /></head>\n",
              "<body>\n",
              "    <div>            <script src=\"https://cdnjs.cloudflare.com/ajax/libs/mathjax/2.7.5/MathJax.js?config=TeX-AMS-MML_SVG\"></script><script type=\"text/javascript\">if (window.MathJax) {MathJax.Hub.Config({SVG: {font: \"STIX-Web\"}});}</script>                <script type=\"text/javascript\">window.PlotlyConfig = {MathJaxConfig: 'local'};</script>\n",
              "        <script src=\"https://cdn.plot.ly/plotly-2.8.3.min.js\"></script>                <div id=\"4feb5a10-ccec-41d4-9465-fa18b8d637dc\" class=\"plotly-graph-div\" style=\"height:525px; width:100%;\"></div>            <script type=\"text/javascript\">                                    window.PLOTLYENV=window.PLOTLYENV || {};                                    if (document.getElementById(\"4feb5a10-ccec-41d4-9465-fa18b8d637dc\")) {                    Plotly.newPlot(                        \"4feb5a10-ccec-41d4-9465-fa18b8d637dc\",                        [{\"dimensions\":[{\"axis\":{\"matches\":true},\"label\":\"citric acid\",\"values\":[0.0,0.0,0.04,0.56,0.0,0.0,0.06,0.0,0.02,0.36,0.08,0.36,0.0,0.29,0.18,0.19,0.56,0.28,0.08,0.51,0.48,0.31,0.21,0.11,0.14,0.16,0.24,0.21,0.0,0.0,0.07,0.0,0.12,0.12,0.25,0.0,0.14,0.28,0.09,0.36,0.36,0.3,0.2,0.22,0.02,0.15,0.43,0.52,0.23,0.37,0.26,0.04,0.04,0.36,0.15,0.04,0.57,0.12,0.18,0.31,0.4,0.49,0.16,0.05,0.05,0.05,0.11,0.07,0.57,0.05,0.08,0.23,0.22,0.26,0.54,0.64,0.64,0.0,0.12,0.2,0.2,0.7,0.47,0.26,0.48,0.15,0.28,0.26,0.44,0.08,0.26,0.28,0.29,0.26,0.04,0.17,0.0,0.25,0.06,0.18,0.3,0.3,0.18,0.22,0.24,0.22,0.68,0.31,0.53,0.52,0.19,0.09,0.1,0.44,0.19,0.31,0.28,0.12,0.04,0.08,0.09,0.04,0.0,0.0,0.17,0.04,0.0,0.0,0.16,0.15,0.56,0.09,0.09,0.01,0.05,0.11,0.15,0.36,0.19,0.19,0.11,0.15,0.0,0.08,0.0,0.55,0.02,0.26,0.1,0.44,0.47,0.270976,0.03,0.03,0.42,0.42,0.42,0.42,0.0,0.18,0.03,0.02,0.04,0.26,0.26,0.48,0.1,0.03,0.07,0.24,0.03,0.17,0.17,0.05,0.21,0.04,0.21,0.42,0.0,0.14,0.14,0.49,0.02,0.2,0.21,0.57,0.48,0.1,0.33,0.32,0.35,0.25,0.12,0.21,0.21,0.33,0.3,0.6,0.08,0.06,0.47,0.48,0.11,0.35,0.36,0.74,0.74,0.31,0.28,0.58,0.6,0.24,0.64,0.26,0.08,0.49,0.16,0.22,0.19,0.33,0.37,0.26,0.04,0.25,0.36,0.25,0.5,0.14,0.25,0.25,0.04,0.06,0.2,0.25,0.09,0.0,0.0,0.0,0.0,0.09,0.37,0.56,0.1,0.44,0.44,0.0,0.07,0.17,0.06,0.0,0.44,0.0,0.48,0.42,0.0,0.23,0.37,0.0,0.76,0.47,0.23,0.04,0.03,0.23,0.49,0.52,0.0,0.46,0.04,0.51,0.06,0.51,0.58,0.2,0.18,0.06,0.04,0.51,0.45,0.32,0.44,0.68,0.12,0.32,0.07,0.07,0.55,0.12,0.09,0.53,0.09,0.48,0.23,0.25,0.52,0.46,0.37,0.06,0.02,0.06,0.06,0.48,0.12,0.12,0.6,0.48,0.32,0.42,0.44,0.38,0.48,0.24,0.31,0.3,0.29,0.29,0.23,0.12,0.39,0.12,0.39,0.26,0.05,0.42,0.2,0.2,0.66,0.5,0.62,0.39,0.64,0.64,0.28,0.08,0.01,0.53,0.45,0.32,0.58,0.54,0.5,0.48,0.47,0.47,0.5,0.0,0.02,0.67,0.31,0.0,0.22,0.0,0.0,0.79,0.4,0.01,0.52,0.66,0.66,0.66,0.23,0.31,0.66,0.63,0.66,0.5,0.66,0.61,0.52,0.53,0.02,0.4,0.48,0.22,0.63,0.71,0.5,0.53,0.66,0.38,0.42,0.68,0.42,0.42,0.28,0.07,0.26,0.15,0.26,0.31,0.05,0.68,0.52,0.61,0.65,0.76,0.02,0.59,0.59,0.22,0.02,0.3,0.54,0.49,0.05,0.46,0.47,0.66,0.58,0.49,0.34,0.35,0.16,0.53,0.34,0.24,0.64,0.12,0.51,0.0,0.33,0.03,0.2,0.47,0.2,0.03,0.08,0.22,0.33,0.63,0.47,0.35,0.69,0.63,0.55,0.63,0.3,0.73,0.55,0.18,0.72,0.65,0.76,0.49,0.01,0.1,0.6,0.29,0.22,0.69,0.69,0.53,0.03,0.63,0.4,0.67,0.39,0.21,0.63,0.66,0.52,0.22,0.68,0.7,0.54,0.4,0.42,0.45,0.69,0.02,0.65,0.42,0.55,0.55,0.51,0.24,0.41,0.49,0.24,0.11,0.39,0.56,0.59,0.6,0.68,0.39,0.39,0.36,0.55,0.4,0.27,0.5,0.51,0.31,0.23,0.53,0.25,0.32,0.53,0.31,0.25,0.73,0.73,0.47,0.42,0.63,0.46,0.55,0.31,0.75,0.49,0.31,0.48,0.64,0.64,0.49,0.49,0.49,0.49,0.49,0.49,0.49,0.49,0.49,0.49,0.24,0.49,0.49,0.49,0.24,0.24,0.49,0.49,0.24,0.24,0.24,0.24,0.24,0.49,0.74,0.24,0.49,0.24,0.24,0.74,0.49,0.24,0.49,0.49,0.49,0.01,0.24,0.24,0.24,0.49,0.49,0.49,0.49,0.49,0.49,0.49,0.49,0.49,0.49,0.49,0.49,0.24,0.24,0.49,0.24,0.49,0.24,0.49,0.49,0.49,0.49,0.24,0.49,0.49,0.49,0.49,0.49,0.49,0.49,0.49,0.24,0.49,0.24,0.24,0.49,0.49,0.49,0.49,0.58,0.17,0.41,0.51,0.58,0.18,0.45,0.27,0.52,0.0,0.52,0.13,0.13,0.48,0.41,0.37,0.19,0.54,0.55,0.0,0.38,0.18,0.5,0.5,0.51,0.5,0.41,0.24,0.23,0.22,0.25,0.0,0.0,0.29,0.29,0.26,0.23,0.26,0.54,0.14,0.22,0.21,0.0,0.28,0.27,0.12,0.35,0.45,0.44,0.45,0.44,0.45,0.1,0.05,0.01,0.3,0.27,0.39,0.25,0.65,0.59,0.47,0.17,0.39,0.59,0.07,0.02,0.07,0.31,0.06,0.46,0.52,0.14,0.36,0.45,0.43,0.45,0.24,0.21,0.34,0.21,0.41,0.39,0.41,0.11,0.1,0.45,0.58,0.23,0.31,0.23,0.32,0.23,0.18,0.23,0.04,0.48,0.0,0.24,0.51,0.32,0.31,0.02,0.02,0.02,0.28,0.55,0.43,0.02,0.02,0.48,0.04,0.15,0.08,0.19,0.12,0.47,0.43,0.34,0.0,0.36,0.28,0.18,0.36,0.11,0.04,0.0,0.04,0.24,0.08,0.3,0.1,0.17,0.09,0.02,0.02,0.03,0.66,0.13,0.03,0.34,0.2,0.1,0.1,0.0,0.23,0.0,0.29,0.24,0.0,0.58,0.54,0.18,0.38,0.4,0.18,0.18,0.1,0.1,0.13,0.1,0.68,0.07,0.01,0.0,0.0,0.21,0.25,0.26,0.0,0.26,0.11,0.1,0.18,0.32,0.02,0.01,0.02,0.26,0.27,0.29,0.3,0.0,0.18,0.17,0.3,0.03,0.0,0.14,0.05,0.14,0.01,0.41,0.41,0.24,0.24,0.17,0.43,0.17,0.02,0.0,0.54,0.3,0.31,0.44,0.34,0.34,0.08,0.09,0.0,0.08,0.22,0.4,0.39,0.4,0.12,0.31,0.1,0.55,0.33,0.24,0.54,0.33,0.19,0.42,0.0,0.15,0.0,0.0,0.13,0.13,0.28,0.14,0.34,0.14,0.09,0.08,0.07,0.08,0.42,0.44,0.26,0.1,0.28,0.28,0.35,0.04,0.47,0.0,0.45,0.35,0.46,0.21,0.21,0.16,0.21,0.21,0.44,0.44,0.32,0.39,0.39,0.02,0.39,0.34,0.47,0.22,0.06,0.66,0.32,0.06,0.06,0.07,0.22,0.23,0.22,0.03,0.01,0.03,0.24,0.37,0.46,0.4,0.0,0.01,0.19,0.04,0.18,0.0,0.29,0.04,0.19,0.14,0.12,0.38,0.0,0.34,0.24,0.03,0.23,0.03,0.03,0.01,0.39,0.01,0.39,0.02,0.36,0.1,0.1,0.06,0.06,0.2,0.27,0.0,0.13,0.39,0.48,0.46,0.44,0.46,0.39,0.4,0.19,0.31,0.32,0.12,0.37,0.32,0.12,0.31,0.27,0.36,0.33,0.19,0.27,0.38,0.01,0.01,0.29,0.01,0.01,0.38,0.38,0.5,0.38,0.17,0.52,0.49,0.4,0.34,0.49,0.42,0.58,0.48,0.45,0.45,0.45,0.48,0.4,0.48,0.4,0.52,0.52,0.52,0.12,0.05,0.27,0.14,0.02,0.39,0.27,0.4,0.41,0.2,0.43,0.09,0.48,0.48,0.5,0.44,0.41,0.3,0.3,0.29,0.32,0.49,0.3,0.26,0.32,0.3,0.49,0.0,0.39,0.3,0.12,0.4,0.12,0.28,0.1,0.28,0.45,0.06,0.0,0.0,0.34,0.0,0.3,0.38,0.33,0.32,0.29,0.32,0.33,0.34,0.4,0.36,0.45,0.31,0.15,0.0,0.16,0.46,0.4,0.37,0.37,0.14,0.66,0.66,0.09,0.42,0.01,0.0,0.32,0.0,0.21,0.01,0.0,0.01,0.0,0.08,0.18,0.34,0.34,0.1,0.41,0.21,0.0,0.19,0.21,0.41,0.33,0.0,0.0,0.17,0.36,0.36,0.17,0.59,0.05,0.42,0.27,0.27,0.53,0.25,0.57,0.53,0.57,0.5,0.44,0.65,0.09,0.18,0.08,0.53,0.53,0.35,0.45,0.2,0.26,0.33,0.2,0.34,0.56,0.65,0.65,0.68,0.56,0.68,0.3,0.45,0.3,0.08,0.4,0.42,0.54,0.54,0.54,0.42,0.09,0.36,0.09,0.47,0.09,0.38,0.45,0.38,0.42,0.27,0.09,0.27,0.34,0.28,0.42,0.41,0.1,0.43,0.0,0.27,0.41,0.39,0.5,0.07,0.07,0.07,0.12,0.0,0.34,0.0,0.0,0.37,0.0,0.35,0.26,0.0,0.33,0.35,0.0,0.21,0.34,0.07,0.35,0.43,0.45,0.45,0.15,0.24,0.3,0.32,0.11,0.3,0.23,0.43,0.12,0.45,0.42,0.47,0.32,0.23,0.25,0.35,0.0,0.25,0.51,0.18,0.43,0.43,0.57,0.43,0.42,0.24,0.24,0.5,0.26,0.39,0.27,0.29,0.34,0.0,0.46,0.31,0.31,0.0,0.03,0.0,0.0,0.33,0.33,0.43,0.4,0.07,0.23,0.3,0.03,0.3,0.23,0.05,0.57,0.0,0.37,0.0,0.12,0.22,0.23,0.21,0.26,0.23,0.21,0.36,0.39,0.19,0.46,0.46,0.46,0.55,0.46,0.43,0.02,0.15,0.02,0.42,0.46,0.46,0.31,0.37,0.31,0.4,0.52,0.52,0.22,0.47,0.49,0.23,0.03,0.25,0.0,0.29,0.34,0.01,0.29,0.37,0.01,0.32,0.0,0.01,0.0,0.0,0.2,0.39,0.41,0.22,0.25,0.19,0.07,0.19,0.33,0.01,0.01,0.14,0.0,0.0,0.06,0.02,0.22,0.28,0.0,0.0,0.68,0.0,0.38,0.0,0.32,0.05,0.05,0.5,0.31,0.03,0.01,0.2,0.0,0.2,0.13,0.22,0.4,0.0,0.22,0.39,0.2,0.2,0.0,0.28,0.19,0.5,0.44,0.08,0.3,0.3,0.0,0.1,0.13,0.0,0.1,0.0,0.0,0.14,0.0,0.0,0.0,0.07,0.32,0.44,0.21,0.26,0.32,0.09,0.32,0.1,0.26,0.15,0.21,0.21,0.21,0.27,0.0,0.46,0.27,0.68,0.34,0.0,0.42,0.39,0.24,0.24,0.24,0.24,0.11,0.26,0.26,0.26,0.1,0.22,0.0,0.02,0.0,0.0,0.0,0.02,0.02,0.02,0.02,0.02,0.48,0.24,0.01,0.03,0.03,0.0,0.29,0.01,0.03,0.03,0.03,0.25,0.25,0.24,0.17,0.4,0.31,0.14,0.4,0.27,0.02,0.09,0.08,0.3,0.32,0.0,0.51,0.56,0.51,0.27,0.0,0.26,0.2,0.26,0.15,0.02,0.02,0.09,0.22,0.22,0.15,0.25,0.07,0.07,0.31,0.02,0.0,0.22,0.06,0.25,0.14,0.1,0.1,0.26,0.12,0.0,0.21,0.21,0.42,0.33,0.39,0.3,0.34,0.0,0.36,0.0,0.0,0.4,0.34,0.25,0.59,0.0,0.59,0.33,0.01,0.21,0.01,0.18,0.0,0.09,0.37,0.37,0.37,0.33,0.0,0.4,0.24,0.31,0.0,0.16,0.37,0.37,0.38,0.29,0.0,0.02,0.32,0.19,0.02,0.2,0.02,0.19,0.02,0.0,0.01,0.31,0.32,0.44,0.02,0.33,0.63,0.0,0.06,0.33,0.4,0.35,0.09,0.0,0.03,0.01,0.1,0.1,0.32,0.08,0.32,0.05,0.11,0.08,0.6,0.08,0.5,0.11,0.5,0.11,0.05,0.6,0.03,0.6,0.54,0.44,0.06,0.16,0.21,0.05,0.04,0.1,0.49,0.04,0.06,0.26,0.09,0.02,0.26,0.03,0.04,0.03,0.04,0.29,0.18,0.39,0.57,0.02,0.05,0.57,0.6,0.4,0.21,0.04,0.04,0.15,0.21,0.21,0.25,0.06,0.46,0.08,0.06,0.2,0.25,0.25,0.19,0.08,0.08,0.07,0.49,0.08,0.09,0.1,0.13,0.3,0.14,0.13,0.08,0.08,0.09,0.32,0.08,0.29,0.02,0.42,0.43,0.33,0.02,0.1,0.5,0.3,0.0,0.0,0.01,0.0,0.02,0.17,0.04,0.02,0.33,0.26,0.26,0.26,0.13,0.13,0.13,0.02,0.64,0.13,0.13,0.14,0.53,0.14,0.32,0.2,0.78,0.4,0.63,0.15,0.15,0.09,0.33,0.09,0.1,0.29,0.44,0.44,0.41,0.11,0.33,0.2,0.15,0.09,0.13,0.08,0.08,0.1,0.13,0.12,0.47]}],\"hovertemplate\":\"%{xaxis.title.text}=%{x}<br>%{yaxis.title.text}=%{y}<extra></extra>\",\"legendgroup\":\"\",\"marker\":{\"color\":\"#636efa\",\"symbol\":\"circle\"},\"name\":\"\",\"showlegend\":false,\"type\":\"splom\"}],                        {\"template\":{\"data\":{\"bar\":[{\"error_x\":{\"color\":\"#2a3f5f\"},\"error_y\":{\"color\":\"#2a3f5f\"},\"marker\":{\"line\":{\"color\":\"#E5ECF6\",\"width\":0.5},\"pattern\":{\"fillmode\":\"overlay\",\"size\":10,\"solidity\":0.2}},\"type\":\"bar\"}],\"barpolar\":[{\"marker\":{\"line\":{\"color\":\"#E5ECF6\",\"width\":0.5},\"pattern\":{\"fillmode\":\"overlay\",\"size\":10,\"solidity\":0.2}},\"type\":\"barpolar\"}],\"carpet\":[{\"aaxis\":{\"endlinecolor\":\"#2a3f5f\",\"gridcolor\":\"white\",\"linecolor\":\"white\",\"minorgridcolor\":\"white\",\"startlinecolor\":\"#2a3f5f\"},\"baxis\":{\"endlinecolor\":\"#2a3f5f\",\"gridcolor\":\"white\",\"linecolor\":\"white\",\"minorgridcolor\":\"white\",\"startlinecolor\":\"#2a3f5f\"},\"type\":\"carpet\"}],\"choropleth\":[{\"colorbar\":{\"outlinewidth\":0,\"ticks\":\"\"},\"type\":\"choropleth\"}],\"contour\":[{\"colorbar\":{\"outlinewidth\":0,\"ticks\":\"\"},\"colorscale\":[[0.0,\"#0d0887\"],[0.1111111111111111,\"#46039f\"],[0.2222222222222222,\"#7201a8\"],[0.3333333333333333,\"#9c179e\"],[0.4444444444444444,\"#bd3786\"],[0.5555555555555556,\"#d8576b\"],[0.6666666666666666,\"#ed7953\"],[0.7777777777777778,\"#fb9f3a\"],[0.8888888888888888,\"#fdca26\"],[1.0,\"#f0f921\"]],\"type\":\"contour\"}],\"contourcarpet\":[{\"colorbar\":{\"outlinewidth\":0,\"ticks\":\"\"},\"type\":\"contourcarpet\"}],\"heatmap\":[{\"colorbar\":{\"outlinewidth\":0,\"ticks\":\"\"},\"colorscale\":[[0.0,\"#0d0887\"],[0.1111111111111111,\"#46039f\"],[0.2222222222222222,\"#7201a8\"],[0.3333333333333333,\"#9c179e\"],[0.4444444444444444,\"#bd3786\"],[0.5555555555555556,\"#d8576b\"],[0.6666666666666666,\"#ed7953\"],[0.7777777777777778,\"#fb9f3a\"],[0.8888888888888888,\"#fdca26\"],[1.0,\"#f0f921\"]],\"type\":\"heatmap\"}],\"heatmapgl\":[{\"colorbar\":{\"outlinewidth\":0,\"ticks\":\"\"},\"colorscale\":[[0.0,\"#0d0887\"],[0.1111111111111111,\"#46039f\"],[0.2222222222222222,\"#7201a8\"],[0.3333333333333333,\"#9c179e\"],[0.4444444444444444,\"#bd3786\"],[0.5555555555555556,\"#d8576b\"],[0.6666666666666666,\"#ed7953\"],[0.7777777777777778,\"#fb9f3a\"],[0.8888888888888888,\"#fdca26\"],[1.0,\"#f0f921\"]],\"type\":\"heatmapgl\"}],\"histogram\":[{\"marker\":{\"pattern\":{\"fillmode\":\"overlay\",\"size\":10,\"solidity\":0.2}},\"type\":\"histogram\"}],\"histogram2d\":[{\"colorbar\":{\"outlinewidth\":0,\"ticks\":\"\"},\"colorscale\":[[0.0,\"#0d0887\"],[0.1111111111111111,\"#46039f\"],[0.2222222222222222,\"#7201a8\"],[0.3333333333333333,\"#9c179e\"],[0.4444444444444444,\"#bd3786\"],[0.5555555555555556,\"#d8576b\"],[0.6666666666666666,\"#ed7953\"],[0.7777777777777778,\"#fb9f3a\"],[0.8888888888888888,\"#fdca26\"],[1.0,\"#f0f921\"]],\"type\":\"histogram2d\"}],\"histogram2dcontour\":[{\"colorbar\":{\"outlinewidth\":0,\"ticks\":\"\"},\"colorscale\":[[0.0,\"#0d0887\"],[0.1111111111111111,\"#46039f\"],[0.2222222222222222,\"#7201a8\"],[0.3333333333333333,\"#9c179e\"],[0.4444444444444444,\"#bd3786\"],[0.5555555555555556,\"#d8576b\"],[0.6666666666666666,\"#ed7953\"],[0.7777777777777778,\"#fb9f3a\"],[0.8888888888888888,\"#fdca26\"],[1.0,\"#f0f921\"]],\"type\":\"histogram2dcontour\"}],\"mesh3d\":[{\"colorbar\":{\"outlinewidth\":0,\"ticks\":\"\"},\"type\":\"mesh3d\"}],\"parcoords\":[{\"line\":{\"colorbar\":{\"outlinewidth\":0,\"ticks\":\"\"}},\"type\":\"parcoords\"}],\"pie\":[{\"automargin\":true,\"type\":\"pie\"}],\"scatter\":[{\"marker\":{\"colorbar\":{\"outlinewidth\":0,\"ticks\":\"\"}},\"type\":\"scatter\"}],\"scatter3d\":[{\"line\":{\"colorbar\":{\"outlinewidth\":0,\"ticks\":\"\"}},\"marker\":{\"colorbar\":{\"outlinewidth\":0,\"ticks\":\"\"}},\"type\":\"scatter3d\"}],\"scattercarpet\":[{\"marker\":{\"colorbar\":{\"outlinewidth\":0,\"ticks\":\"\"}},\"type\":\"scattercarpet\"}],\"scattergeo\":[{\"marker\":{\"colorbar\":{\"outlinewidth\":0,\"ticks\":\"\"}},\"type\":\"scattergeo\"}],\"scattergl\":[{\"marker\":{\"colorbar\":{\"outlinewidth\":0,\"ticks\":\"\"}},\"type\":\"scattergl\"}],\"scattermapbox\":[{\"marker\":{\"colorbar\":{\"outlinewidth\":0,\"ticks\":\"\"}},\"type\":\"scattermapbox\"}],\"scatterpolar\":[{\"marker\":{\"colorbar\":{\"outlinewidth\":0,\"ticks\":\"\"}},\"type\":\"scatterpolar\"}],\"scatterpolargl\":[{\"marker\":{\"colorbar\":{\"outlinewidth\":0,\"ticks\":\"\"}},\"type\":\"scatterpolargl\"}],\"scatterternary\":[{\"marker\":{\"colorbar\":{\"outlinewidth\":0,\"ticks\":\"\"}},\"type\":\"scatterternary\"}],\"surface\":[{\"colorbar\":{\"outlinewidth\":0,\"ticks\":\"\"},\"colorscale\":[[0.0,\"#0d0887\"],[0.1111111111111111,\"#46039f\"],[0.2222222222222222,\"#7201a8\"],[0.3333333333333333,\"#9c179e\"],[0.4444444444444444,\"#bd3786\"],[0.5555555555555556,\"#d8576b\"],[0.6666666666666666,\"#ed7953\"],[0.7777777777777778,\"#fb9f3a\"],[0.8888888888888888,\"#fdca26\"],[1.0,\"#f0f921\"]],\"type\":\"surface\"}],\"table\":[{\"cells\":{\"fill\":{\"color\":\"#EBF0F8\"},\"line\":{\"color\":\"white\"}},\"header\":{\"fill\":{\"color\":\"#C8D4E3\"},\"line\":{\"color\":\"white\"}},\"type\":\"table\"}]},\"layout\":{\"annotationdefaults\":{\"arrowcolor\":\"#2a3f5f\",\"arrowhead\":0,\"arrowwidth\":1},\"autotypenumbers\":\"strict\",\"coloraxis\":{\"colorbar\":{\"outlinewidth\":0,\"ticks\":\"\"}},\"colorscale\":{\"diverging\":[[0,\"#8e0152\"],[0.1,\"#c51b7d\"],[0.2,\"#de77ae\"],[0.3,\"#f1b6da\"],[0.4,\"#fde0ef\"],[0.5,\"#f7f7f7\"],[0.6,\"#e6f5d0\"],[0.7,\"#b8e186\"],[0.8,\"#7fbc41\"],[0.9,\"#4d9221\"],[1,\"#276419\"]],\"sequential\":[[0.0,\"#0d0887\"],[0.1111111111111111,\"#46039f\"],[0.2222222222222222,\"#7201a8\"],[0.3333333333333333,\"#9c179e\"],[0.4444444444444444,\"#bd3786\"],[0.5555555555555556,\"#d8576b\"],[0.6666666666666666,\"#ed7953\"],[0.7777777777777778,\"#fb9f3a\"],[0.8888888888888888,\"#fdca26\"],[1.0,\"#f0f921\"]],\"sequentialminus\":[[0.0,\"#0d0887\"],[0.1111111111111111,\"#46039f\"],[0.2222222222222222,\"#7201a8\"],[0.3333333333333333,\"#9c179e\"],[0.4444444444444444,\"#bd3786\"],[0.5555555555555556,\"#d8576b\"],[0.6666666666666666,\"#ed7953\"],[0.7777777777777778,\"#fb9f3a\"],[0.8888888888888888,\"#fdca26\"],[1.0,\"#f0f921\"]]},\"colorway\":[\"#636efa\",\"#EF553B\",\"#00cc96\",\"#ab63fa\",\"#FFA15A\",\"#19d3f3\",\"#FF6692\",\"#B6E880\",\"#FF97FF\",\"#FECB52\"],\"font\":{\"color\":\"#2a3f5f\"},\"geo\":{\"bgcolor\":\"white\",\"lakecolor\":\"white\",\"landcolor\":\"#E5ECF6\",\"showlakes\":true,\"showland\":true,\"subunitcolor\":\"white\"},\"hoverlabel\":{\"align\":\"left\"},\"hovermode\":\"closest\",\"mapbox\":{\"style\":\"light\"},\"paper_bgcolor\":\"white\",\"plot_bgcolor\":\"#E5ECF6\",\"polar\":{\"angularaxis\":{\"gridcolor\":\"white\",\"linecolor\":\"white\",\"ticks\":\"\"},\"bgcolor\":\"#E5ECF6\",\"radialaxis\":{\"gridcolor\":\"white\",\"linecolor\":\"white\",\"ticks\":\"\"}},\"scene\":{\"xaxis\":{\"backgroundcolor\":\"#E5ECF6\",\"gridcolor\":\"white\",\"gridwidth\":2,\"linecolor\":\"white\",\"showbackground\":true,\"ticks\":\"\",\"zerolinecolor\":\"white\"},\"yaxis\":{\"backgroundcolor\":\"#E5ECF6\",\"gridcolor\":\"white\",\"gridwidth\":2,\"linecolor\":\"white\",\"showbackground\":true,\"ticks\":\"\",\"zerolinecolor\":\"white\"},\"zaxis\":{\"backgroundcolor\":\"#E5ECF6\",\"gridcolor\":\"white\",\"gridwidth\":2,\"linecolor\":\"white\",\"showbackground\":true,\"ticks\":\"\",\"zerolinecolor\":\"white\"}},\"shapedefaults\":{\"line\":{\"color\":\"#2a3f5f\"}},\"ternary\":{\"aaxis\":{\"gridcolor\":\"white\",\"linecolor\":\"white\",\"ticks\":\"\"},\"baxis\":{\"gridcolor\":\"white\",\"linecolor\":\"white\",\"ticks\":\"\"},\"bgcolor\":\"#E5ECF6\",\"caxis\":{\"gridcolor\":\"white\",\"linecolor\":\"white\",\"ticks\":\"\"}},\"title\":{\"x\":0.05},\"xaxis\":{\"automargin\":true,\"gridcolor\":\"white\",\"linecolor\":\"white\",\"ticks\":\"\",\"title\":{\"standoff\":15},\"zerolinecolor\":\"white\",\"zerolinewidth\":2},\"yaxis\":{\"automargin\":true,\"gridcolor\":\"white\",\"linecolor\":\"white\",\"ticks\":\"\",\"title\":{\"standoff\":15},\"zerolinecolor\":\"white\",\"zerolinewidth\":2}}},\"legend\":{\"tracegroupgap\":0},\"margin\":{\"t\":60},\"dragmode\":\"select\"},                        {\"responsive\": true}                    ).then(function(){\n",
              "                            \n",
              "var gd = document.getElementById('4feb5a10-ccec-41d4-9465-fa18b8d637dc');\n",
              "var x = new MutationObserver(function (mutations, observer) {{\n",
              "        var display = window.getComputedStyle(gd).display;\n",
              "        if (!display || display === 'none') {{\n",
              "            console.log([gd, 'removed!']);\n",
              "            Plotly.purge(gd);\n",
              "            observer.disconnect();\n",
              "        }}\n",
              "}});\n",
              "\n",
              "// Listen for the removal of the full notebook cells\n",
              "var notebookContainer = gd.closest('#notebook-container');\n",
              "if (notebookContainer) {{\n",
              "    x.observe(notebookContainer, {childList: true});\n",
              "}}\n",
              "\n",
              "// Listen for the clearing of the current output cell\n",
              "var outputEl = gd.closest('.output');\n",
              "if (outputEl) {{\n",
              "    x.observe(outputEl, {childList: true});\n",
              "}}\n",
              "\n",
              "                        })                };                            </script>        </div>\n",
              "</body>\n",
              "</html>"
            ]
          },
          "metadata": {}
        }
      ]
    },
    {
      "cell_type": "code",
      "source": [
        "grafico = px.scatter_matrix(base_wine, dimensions=['chlorides'])\n",
        "grafico"
      ],
      "metadata": {
        "id": "61t82QJziCc7"
      },
      "execution_count": null,
      "outputs": []
    },
    {
      "cell_type": "code",
      "source": [
        "x_wine = base_wine.iloc[:, 0:11].values\n",
        "x_wine"
      ],
      "metadata": {
        "colab": {
          "base_uri": "https://localhost:8080/"
        },
        "id": "3TNtl4IT1KLZ",
        "outputId": "00dbe716-0405-48bf-b1e1-6d6e54f51c06"
      },
      "execution_count": 545,
      "outputs": [
        {
          "output_type": "execute_result",
          "data": {
            "text/plain": [
              "array([[ 7.4  ,  0.7  ,  0.   , ...,  3.51 ,  0.56 ,  9.4  ],\n",
              "       [ 7.8  ,  0.88 ,  0.   , ...,  3.2  ,  0.68 ,  9.8  ],\n",
              "       [ 7.8  ,  0.76 ,  0.04 , ...,  3.26 ,  0.65 ,  9.8  ],\n",
              "       ...,\n",
              "       [ 6.3  ,  0.51 ,  0.13 , ...,  3.42 ,  0.75 , 11.   ],\n",
              "       [ 5.9  ,  0.645,  0.12 , ...,  3.57 ,  0.71 , 10.2  ],\n",
              "       [ 6.   ,  0.31 ,  0.47 , ...,  3.39 ,  0.66 , 11.   ]])"
            ]
          },
          "metadata": {},
          "execution_count": 545
        }
      ]
    },
    {
      "cell_type": "code",
      "source": [
        "type(x_wine)"
      ],
      "metadata": {
        "colab": {
          "base_uri": "https://localhost:8080/"
        },
        "id": "wbChSaBC1iD9",
        "outputId": "cc93bae6-1412-43de-a33d-5ee6d9fbaf13"
      },
      "execution_count": 546,
      "outputs": [
        {
          "output_type": "execute_result",
          "data": {
            "text/plain": [
              "numpy.ndarray"
            ]
          },
          "metadata": {},
          "execution_count": 546
        }
      ]
    },
    {
      "cell_type": "code",
      "source": [
        "y_wine = base_wine.iloc[:,11].values      \n",
        "y_wine"
      ],
      "metadata": {
        "colab": {
          "base_uri": "https://localhost:8080/"
        },
        "id": "6vuubr_x1iBg",
        "outputId": "68643685-81eb-47ad-b9f6-00811ad90501"
      },
      "execution_count": 547,
      "outputs": [
        {
          "output_type": "execute_result",
          "data": {
            "text/plain": [
              "array([5, 5, 5, ..., 6, 5, 6])"
            ]
          },
          "metadata": {},
          "execution_count": 547
        }
      ]
    },
    {
      "cell_type": "code",
      "source": [
        "from sklearn.model_selection import train_test_split"
      ],
      "metadata": {
        "id": "-61MBDwq1h-1"
      },
      "execution_count": 548,
      "outputs": []
    },
    {
      "cell_type": "code",
      "source": [
        "x_wine_treinamento, x_wine_teste, y_wine_treinamento, y_wine_teste = train_test_split(x_wine, y_wine, test_size=0.25, random_state=0)"
      ],
      "metadata": {
        "id": "pcYqMJad373t"
      },
      "execution_count": 549,
      "outputs": []
    },
    {
      "cell_type": "code",
      "source": [
        "x_wine_treinamento.shape"
      ],
      "metadata": {
        "colab": {
          "base_uri": "https://localhost:8080/"
        },
        "id": "ukeNtVJr37zE",
        "outputId": "c214c9a4-46f3-4cb6-d07d-757c48ffeb51"
      },
      "execution_count": 550,
      "outputs": [
        {
          "output_type": "execute_result",
          "data": {
            "text/plain": [
              "(1199, 11)"
            ]
          },
          "metadata": {},
          "execution_count": 550
        }
      ]
    },
    {
      "cell_type": "code",
      "source": [
        "y_wine_treinamento.shape"
      ],
      "metadata": {
        "colab": {
          "base_uri": "https://localhost:8080/"
        },
        "id": "GCU2vIf85iz0",
        "outputId": "bdd34720-b526-4262-97a0-069b17d010dd"
      },
      "execution_count": 551,
      "outputs": [
        {
          "output_type": "execute_result",
          "data": {
            "text/plain": [
              "(1199,)"
            ]
          },
          "metadata": {},
          "execution_count": 551
        }
      ]
    },
    {
      "cell_type": "code",
      "source": [
        "x_wine_teste.shape, y_wine_teste.shape "
      ],
      "metadata": {
        "colab": {
          "base_uri": "https://localhost:8080/"
        },
        "id": "QEQRY0MN5ivl",
        "outputId": "36737567-61e8-45cf-f65e-4a25763a9988"
      },
      "execution_count": 552,
      "outputs": [
        {
          "output_type": "execute_result",
          "data": {
            "text/plain": [
              "((400, 11), (400,))"
            ]
          },
          "metadata": {},
          "execution_count": 552
        }
      ]
    },
    {
      "cell_type": "code",
      "source": [
        "with open('wine_pkl', mode = 'wb') as f:\n",
        " pickle.dump([x_wine_treinamento, y_wine_treinamento, x_wine_teste, y_wine_teste], f)"
      ],
      "metadata": {
        "id": "sbKvCKMU6X-m"
      },
      "execution_count": 553,
      "outputs": []
    },
    {
      "cell_type": "code",
      "source": [
        "naive_wine = GaussianNB()"
      ],
      "metadata": {
        "id": "oR31IV5n6X4x"
      },
      "execution_count": 554,
      "outputs": []
    },
    {
      "cell_type": "code",
      "source": [
        "naive_wine.fit(x_wine, y_wine)"
      ],
      "metadata": {
        "colab": {
          "base_uri": "https://localhost:8080/"
        },
        "id": "KPpJtewp7gyx",
        "outputId": "0ca73931-b73b-408d-9b0e-1c607c8e3476"
      },
      "execution_count": 555,
      "outputs": [
        {
          "output_type": "execute_result",
          "data": {
            "text/plain": [
              "GaussianNB()"
            ]
          },
          "metadata": {},
          "execution_count": 555
        }
      ]
    },
    {
      "cell_type": "code",
      "source": [
        "previsoes = naive_wine.predict(x_wine_teste)\n",
        "previsoes"
      ],
      "metadata": {
        "colab": {
          "base_uri": "https://localhost:8080/"
        },
        "id": "FERxnDQ07gvl",
        "outputId": "18c15b6e-a744-4dcd-ad4d-858948d73c3e"
      },
      "execution_count": 556,
      "outputs": [
        {
          "output_type": "execute_result",
          "data": {
            "text/plain": [
              "array([5, 5, 7, 5, 7, 5, 5, 6, 5, 5, 5, 5, 6, 4, 6, 7, 7, 6, 6, 5, 6, 5,\n",
              "       6, 4, 6, 5, 5, 7, 5, 6, 7, 6, 6, 5, 6, 7, 5, 6, 6, 6, 5, 6, 8, 7,\n",
              "       6, 5, 5, 6, 6, 6, 6, 6, 6, 7, 6, 5, 5, 5, 7, 5, 5, 6, 6, 6, 5, 6,\n",
              "       5, 7, 6, 6, 5, 4, 5, 5, 6, 6, 5, 5, 5, 7, 6, 5, 6, 6, 6, 5, 6, 5,\n",
              "       5, 5, 5, 5, 6, 5, 7, 5, 7, 6, 5, 6, 7, 7, 6, 7, 6, 5, 6, 5, 6, 5,\n",
              "       6, 5, 7, 5, 6, 6, 6, 7, 6, 6, 5, 7, 4, 5, 6, 7, 5, 5, 6, 7, 5, 5,\n",
              "       6, 6, 7, 5, 7, 5, 7, 5, 6, 5, 5, 5, 5, 6, 7, 7, 6, 6, 6, 6, 5, 5,\n",
              "       6, 5, 6, 5, 6, 6, 6, 6, 7, 5, 7, 5, 6, 7, 5, 6, 6, 6, 5, 7, 4, 7,\n",
              "       6, 7, 6, 5, 5, 8, 5, 7, 7, 5, 5, 6, 5, 6, 6, 6, 5, 5, 5, 5, 5, 5,\n",
              "       5, 5, 5, 6, 5, 5, 5, 5, 5, 6, 7, 5, 6, 5, 4, 7, 5, 5, 6, 6, 6, 5,\n",
              "       5, 6, 7, 6, 5, 6, 7, 6, 5, 6, 5, 6, 5, 6, 7, 6, 7, 7, 7, 7, 5, 5,\n",
              "       5, 5, 6, 5, 6, 5, 4, 6, 5, 5, 5, 5, 6, 6, 5, 5, 5, 7, 5, 8, 5, 6,\n",
              "       5, 5, 6, 5, 5, 6, 6, 6, 6, 8, 7, 6, 7, 5, 7, 7, 5, 7, 6, 7, 6, 5,\n",
              "       6, 5, 7, 6, 6, 4, 6, 5, 5, 6, 5, 6, 5, 5, 6, 4, 6, 6, 7, 6, 5, 5,\n",
              "       5, 6, 5, 6, 6, 6, 5, 7, 6, 7, 5, 7, 6, 6, 7, 6, 5, 6, 7, 5, 5, 5,\n",
              "       7, 5, 5, 6, 5, 6, 6, 5, 5, 5, 5, 5, 5, 6, 6, 6, 5, 4, 5, 7, 6, 7,\n",
              "       5, 6, 7, 3, 6, 6, 6, 7, 5, 6, 5, 6, 6, 5, 6, 7, 5, 5, 6, 6, 6, 6,\n",
              "       5, 5, 6, 7, 6, 6, 6, 6, 5, 5, 6, 6, 7, 6, 6, 6, 7, 5, 5, 7, 4, 6,\n",
              "       6, 5, 7, 5])"
            ]
          },
          "metadata": {},
          "execution_count": 556
        }
      ]
    },
    {
      "cell_type": "code",
      "source": [
        "y_wine_teste"
      ],
      "metadata": {
        "colab": {
          "base_uri": "https://localhost:8080/"
        },
        "id": "X4mbVTciAIPX",
        "outputId": "8f1a49cf-e3c9-4253-dd7f-1406b7e6cbbe"
      },
      "execution_count": 557,
      "outputs": [
        {
          "output_type": "execute_result",
          "data": {
            "text/plain": [
              "array([6, 5, 7, 6, 5, 6, 5, 6, 4, 5, 5, 5, 6, 5, 6, 6, 7, 5, 5, 4, 7, 6,\n",
              "       6, 4, 6, 5, 5, 7, 5, 6, 5, 6, 5, 6, 7, 7, 5, 6, 6, 7, 5, 7, 6, 6,\n",
              "       5, 5, 6, 6, 6, 5, 5, 5, 6, 6, 6, 5, 5, 5, 6, 5, 5, 6, 6, 6, 5, 6,\n",
              "       5, 5, 6, 6, 6, 6, 4, 6, 5, 6, 5, 5, 5, 6, 6, 5, 6, 6, 6, 5, 6, 5,\n",
              "       5, 5, 5, 6, 4, 5, 7, 6, 6, 5, 6, 5, 8, 6, 6, 6, 5, 5, 5, 5, 7, 5,\n",
              "       6, 5, 7, 5, 6, 6, 6, 7, 6, 6, 5, 7, 5, 5, 6, 6, 5, 5, 5, 6, 6, 6,\n",
              "       6, 6, 6, 5, 6, 5, 8, 5, 6, 5, 6, 5, 4, 6, 7, 6, 5, 6, 6, 5, 5, 5,\n",
              "       6, 6, 3, 6, 6, 6, 6, 6, 6, 6, 5, 5, 6, 6, 6, 6, 5, 5, 5, 8, 5, 6,\n",
              "       6, 7, 7, 5, 5, 7, 5, 6, 6, 4, 5, 6, 5, 5, 6, 5, 6, 6, 5, 5, 5, 5,\n",
              "       5, 5, 5, 6, 6, 5, 6, 6, 5, 6, 7, 6, 6, 6, 5, 5, 5, 6, 5, 6, 6, 5,\n",
              "       5, 5, 6, 6, 5, 6, 6, 6, 3, 6, 5, 5, 7, 6, 7, 6, 6, 7, 7, 6, 5, 6,\n",
              "       5, 5, 6, 5, 5, 5, 5, 6, 5, 5, 5, 6, 6, 5, 5, 5, 6, 7, 5, 6, 5, 6,\n",
              "       5, 4, 5, 5, 6, 7, 6, 5, 5, 4, 5, 6, 7, 6, 6, 7, 5, 7, 5, 6, 6, 5,\n",
              "       5, 5, 6, 6, 5, 6, 6, 6, 5, 6, 6, 5, 6, 5, 6, 5, 6, 6, 6, 6, 5, 5,\n",
              "       6, 5, 5, 6, 5, 5, 5, 6, 4, 5, 4, 6, 5, 5, 5, 8, 6, 6, 7, 6, 5, 5,\n",
              "       7, 5, 5, 5, 5, 6, 7, 5, 4, 5, 5, 5, 5, 8, 6, 5, 6, 5, 5, 7, 5, 6,\n",
              "       5, 6, 7, 5, 6, 6, 5, 7, 5, 6, 5, 7, 5, 5, 6, 7, 6, 4, 6, 6, 4, 7,\n",
              "       6, 5, 5, 7, 6, 6, 6, 6, 5, 6, 6, 6, 6, 5, 6, 7, 6, 6, 5, 7, 5, 6,\n",
              "       5, 5, 7, 5])"
            ]
          },
          "metadata": {},
          "execution_count": 557
        }
      ]
    },
    {
      "cell_type": "code",
      "source": [
        "from sklearn.metrics import accuracy_score  "
      ],
      "metadata": {
        "id": "CPtjaClOAIHR"
      },
      "execution_count": 558,
      "outputs": []
    },
    {
      "cell_type": "code",
      "source": [
        "accuracy_score(y_wine_teste, previsoes)  "
      ],
      "metadata": {
        "colab": {
          "base_uri": "https://localhost:8080/"
        },
        "id": "OToCLZYEDAiy",
        "outputId": "474b99c0-c6ee-4393-cee7-05abbc493e7a"
      },
      "execution_count": 559,
      "outputs": [
        {
          "output_type": "execute_result",
          "data": {
            "text/plain": [
              "0.5725"
            ]
          },
          "metadata": {},
          "execution_count": 559
        }
      ]
    },
    {
      "cell_type": "code",
      "source": [
        "from sklearn.metrics import confusion_matrix   "
      ],
      "metadata": {
        "id": "nc8UpbhADAeg"
      },
      "execution_count": 560,
      "outputs": []
    },
    {
      "cell_type": "code",
      "source": [
        "confusion_matrix(y_wine_teste, previsoes)   "
      ],
      "metadata": {
        "colab": {
          "base_uri": "https://localhost:8080/"
        },
        "id": "49yBxMy2DG9U",
        "outputId": "ca6fa30b-860b-4991-882d-3759f9f00eee"
      },
      "execution_count": 561,
      "outputs": [
        {
          "output_type": "execute_result",
          "data": {
            "text/plain": [
              "array([[  0,   0,   1,   1,   0,   0],\n",
              "       [  0,   1,   9,   3,   0,   1],\n",
              "       [  1,   8, 108,  44,   8,   0],\n",
              "       [  0,   2,  42,  93,  31,   2],\n",
              "       [  0,   0,   1,  11,  27,   1],\n",
              "       [  0,   0,   0,   2,   3,   0]])"
            ]
          },
          "metadata": {},
          "execution_count": 561
        }
      ]
    },
    {
      "cell_type": "code",
      "source": [
        "from yellowbrick.classifier import ConfusionMatrix"
      ],
      "metadata": {
        "id": "dRi140fuDG1F"
      },
      "execution_count": 562,
      "outputs": []
    },
    {
      "cell_type": "code",
      "source": [
        "cm = ConfusionMatrix(naive_wine)\n",
        "cm.fit(x_wine_teste, y_wine_teste)\n",
        "cm.score(x_wine_teste, y_wine_teste)"
      ],
      "metadata": {
        "colab": {
          "base_uri": "https://localhost:8080/",
          "height": 361
        },
        "id": "Pu78WxWrDO1I",
        "outputId": "56d818c5-5c0f-4479-b38d-883cfeec57ca"
      },
      "execution_count": 563,
      "outputs": [
        {
          "output_type": "execute_result",
          "data": {
            "text/plain": [
              "0.5725"
            ]
          },
          "metadata": {},
          "execution_count": 563
        },
        {
          "output_type": "display_data",
          "data": {
            "text/plain": [
              "<Figure size 576x396 with 1 Axes>"
            ],
            "image/png": "[encoded data removed]"
          },
          "metadata": {}
        }
      ]
    },
    {
      "cell_type": "code",
      "source": [
        ""
      ],
      "metadata": {
        "id": "nqPlV61HDOXi"
      },
      "execution_count": 563,
      "outputs": []
    },
    {
      "cell_type": "code",
      "source": [
        "from sklearn.svm import SVC"
      ],
      "metadata": {
        "id": "20GuuAb-Ddpg"
      },
      "execution_count": 564,
      "outputs": []
    },
    {
      "cell_type": "code",
      "source": [
        "with open ('/content/wine_pkl', 'rb') as f:\n",
        "  x_wine_treinamento, y_wine_treinamento, x_wine_teste, y_wine_teste = pickle.load(f)"
      ],
      "metadata": {
        "id": "KqoTAHVPDdm-"
      },
      "execution_count": 565,
      "outputs": []
    },
    {
      "cell_type": "code",
      "source": [
        "SVM_wine = SVC(kernel='linear', random_state=1, C = 1.0)             \n",
        "SVM_wine.fit(x_wine_treinamento, y_wine_treinamento) "
      ],
      "metadata": {
        "colab": {
          "base_uri": "https://localhost:8080/"
        },
        "id": "FDoOdBbyEN5h",
        "outputId": "d5f4c7cf-f39b-4b05-d59a-821b1a92e1d3"
      },
      "execution_count": 566,
      "outputs": [
        {
          "output_type": "execute_result",
          "data": {
            "text/plain": [
              "SVC(kernel='linear', random_state=1)"
            ]
          },
          "metadata": {},
          "execution_count": 566
        }
      ]
    },
    {
      "cell_type": "code",
      "source": [
        "previsoes = SVM_wine.predict(x_wine_teste)\n",
        "previsoes"
      ],
      "metadata": {
        "colab": {
          "base_uri": "https://localhost:8080/"
        },
        "id": "4MM4rZxkEN27",
        "outputId": "caf7196f-5989-4d56-f809-aee09ff38f76"
      },
      "execution_count": 567,
      "outputs": [
        {
          "output_type": "execute_result",
          "data": {
            "text/plain": [
              "array([6, 5, 6, 5, 6, 5, 5, 6, 5, 5, 5, 5, 6, 5, 5, 6, 6, 6, 6, 5, 6, 5,\n",
              "       6, 6, 5, 5, 5, 6, 5, 6, 6, 6, 6, 5, 6, 6, 5, 5, 6, 6, 5, 6, 6, 6,\n",
              "       6, 5, 5, 6, 5, 6, 5, 5, 6, 6, 6, 5, 5, 5, 6, 5, 5, 6, 6, 6, 5, 6,\n",
              "       5, 6, 6, 6, 5, 5, 5, 5, 5, 6, 5, 5, 5, 6, 6, 5, 6, 6, 5, 5, 6, 5,\n",
              "       5, 5, 5, 5, 6, 5, 6, 5, 6, 5, 5, 6, 6, 6, 6, 6, 6, 5, 6, 5, 6, 5,\n",
              "       6, 5, 6, 5, 6, 6, 6, 6, 6, 6, 5, 6, 5, 5, 6, 6, 5, 5, 6, 6, 5, 5,\n",
              "       6, 6, 6, 5, 6, 5, 6, 5, 6, 5, 5, 5, 5, 6, 6, 6, 6, 5, 6, 6, 5, 6,\n",
              "       6, 6, 5, 5, 6, 6, 6, 5, 6, 5, 6, 5, 6, 6, 5, 6, 6, 5, 5, 6, 6, 6,\n",
              "       6, 6, 6, 5, 5, 6, 5, 6, 6, 5, 5, 6, 5, 6, 6, 6, 5, 5, 5, 5, 5, 5,\n",
              "       5, 5, 5, 6, 5, 5, 5, 5, 5, 6, 6, 5, 6, 6, 5, 6, 5, 5, 6, 6, 6, 5,\n",
              "       5, 6, 6, 6, 5, 6, 6, 6, 5, 5, 5, 6, 5, 6, 6, 6, 6, 6, 6, 6, 5, 5,\n",
              "       5, 5, 6, 5, 5, 5, 5, 6, 5, 5, 5, 5, 5, 5, 5, 5, 5, 6, 5, 6, 5, 5,\n",
              "       5, 5, 5, 5, 6, 6, 6, 5, 5, 6, 6, 6, 6, 5, 6, 6, 5, 6, 5, 6, 6, 5,\n",
              "       5, 5, 6, 6, 6, 6, 6, 5, 5, 6, 5, 5, 5, 5, 6, 5, 5, 5, 6, 6, 5, 5,\n",
              "       5, 5, 6, 6, 5, 5, 5, 6, 6, 6, 5, 6, 5, 6, 6, 6, 6, 5, 6, 5, 5, 5,\n",
              "       6, 5, 5, 6, 5, 6, 6, 5, 5, 5, 5, 5, 5, 6, 6, 5, 5, 5, 5, 6, 6, 6,\n",
              "       5, 6, 6, 5, 6, 6, 6, 6, 5, 6, 5, 6, 6, 5, 5, 6, 5, 5, 6, 6, 5, 6,\n",
              "       5, 5, 6, 6, 6, 6, 6, 6, 5, 5, 5, 6, 6, 5, 6, 5, 6, 5, 5, 6, 5, 6,\n",
              "       5, 6, 6, 5])"
            ]
          },
          "metadata": {},
          "execution_count": 567
        }
      ]
    },
    {
      "cell_type": "code",
      "source": [
        "y_wine_teste"
      ],
      "metadata": {
        "colab": {
          "base_uri": "https://localhost:8080/"
        },
        "id": "sfwMLF_zEN0e",
        "outputId": "3b4c3664-6375-4ca4-e293-1cc012b9461b"
      },
      "execution_count": 568,
      "outputs": [
        {
          "output_type": "execute_result",
          "data": {
            "text/plain": [
              "array([6, 5, 7, 6, 5, 6, 5, 6, 4, 5, 5, 5, 6, 5, 6, 6, 7, 5, 5, 4, 7, 6,\n",
              "       6, 4, 6, 5, 5, 7, 5, 6, 5, 6, 5, 6, 7, 7, 5, 6, 6, 7, 5, 7, 6, 6,\n",
              "       5, 5, 6, 6, 6, 5, 5, 5, 6, 6, 6, 5, 5, 5, 6, 5, 5, 6, 6, 6, 5, 6,\n",
              "       5, 5, 6, 6, 6, 6, 4, 6, 5, 6, 5, 5, 5, 6, 6, 5, 6, 6, 6, 5, 6, 5,\n",
              "       5, 5, 5, 6, 4, 5, 7, 6, 6, 5, 6, 5, 8, 6, 6, 6, 5, 5, 5, 5, 7, 5,\n",
              "       6, 5, 7, 5, 6, 6, 6, 7, 6, 6, 5, 7, 5, 5, 6, 6, 5, 5, 5, 6, 6, 6,\n",
              "       6, 6, 6, 5, 6, 5, 8, 5, 6, 5, 6, 5, 4, 6, 7, 6, 5, 6, 6, 5, 5, 5,\n",
              "       6, 6, 3, 6, 6, 6, 6, 6, 6, 6, 5, 5, 6, 6, 6, 6, 5, 5, 5, 8, 5, 6,\n",
              "       6, 7, 7, 5, 5, 7, 5, 6, 6, 4, 5, 6, 5, 5, 6, 5, 6, 6, 5, 5, 5, 5,\n",
              "       5, 5, 5, 6, 6, 5, 6, 6, 5, 6, 7, 6, 6, 6, 5, 5, 5, 6, 5, 6, 6, 5,\n",
              "       5, 5, 6, 6, 5, 6, 6, 6, 3, 6, 5, 5, 7, 6, 7, 6, 6, 7, 7, 6, 5, 6,\n",
              "       5, 5, 6, 5, 5, 5, 5, 6, 5, 5, 5, 6, 6, 5, 5, 5, 6, 7, 5, 6, 5, 6,\n",
              "       5, 4, 5, 5, 6, 7, 6, 5, 5, 4, 5, 6, 7, 6, 6, 7, 5, 7, 5, 6, 6, 5,\n",
              "       5, 5, 6, 6, 5, 6, 6, 6, 5, 6, 6, 5, 6, 5, 6, 5, 6, 6, 6, 6, 5, 5,\n",
              "       6, 5, 5, 6, 5, 5, 5, 6, 4, 5, 4, 6, 5, 5, 5, 8, 6, 6, 7, 6, 5, 5,\n",
              "       7, 5, 5, 5, 5, 6, 7, 5, 4, 5, 5, 5, 5, 8, 6, 5, 6, 5, 5, 7, 5, 6,\n",
              "       5, 6, 7, 5, 6, 6, 5, 7, 5, 6, 5, 7, 5, 5, 6, 7, 6, 4, 6, 6, 4, 7,\n",
              "       6, 5, 5, 7, 6, 6, 6, 6, 5, 6, 6, 6, 6, 5, 6, 7, 6, 6, 5, 7, 5, 6,\n",
              "       5, 5, 7, 5])"
            ]
          },
          "metadata": {},
          "execution_count": 568
        }
      ]
    },
    {
      "cell_type": "code",
      "source": [
        "from sklearn.metrics import accuracy_score, classification_report\n",
        "accuracy = accuracy_score(y_wine_teste,previsoes)\n",
        "accuracy"
      ],
      "metadata": {
        "colab": {
          "base_uri": "https://localhost:8080/"
        },
        "id": "oW33zO2KE5Ap",
        "outputId": "0bed8e7b-33f8-4cf7-802c-3d5944a7e153"
      },
      "execution_count": 569,
      "outputs": [
        {
          "output_type": "execute_result",
          "data": {
            "text/plain": [
              "0.625"
            ]
          },
          "metadata": {},
          "execution_count": 569
        }
      ]
    },
    {
      "cell_type": "code",
      "source": [
        "cm = ConfusionMatrix(SVM_wine)\n",
        "cm.fit(x_wine_treinamento, y_wine_treinamento)\n",
        "cm.score(x_wine_teste, y_wine_teste)"
      ],
      "metadata": {
        "colab": {
          "base_uri": "https://localhost:8080/",
          "height": 361
        },
        "id": "HsT0prvLE49Z",
        "outputId": "624a8659-648f-4062-b5a6-e86aa12953cf"
      },
      "execution_count": 570,
      "outputs": [
        {
          "output_type": "execute_result",
          "data": {
            "text/plain": [
              "0.625"
            ]
          },
          "metadata": {},
          "execution_count": 570
        },
        {
          "output_type": "display_data",
          "data": {
            "text/plain": [
              "<Figure size 576x396 with 1 Axes>"
            ],
            "image/png": "[encoded data removed]"
          },
          "metadata": {}
        }
      ]
    },
    {
      "cell_type": "code",
      "source": [
        "#fa = input('Digite o valor da acidez fixa: ')\n",
        "#va = input('Digite o valor da acidez volátil: ')\n",
        "#cd = input('Digite o valor do ácido cítrico: ')\n",
        "#rs = input('Digite o valor do açúcar residual:' )\n",
        "#cl = input('Digite o valor dos cloretos: ')\n",
        "#fsd = input('Digite o valor do dióxido de enxofre livre: ')\n",
        "#tsd = input('Digite o valor do dióxido de enxofre total: ')\n",
        "#D = input('Digite o valor da densidade: ')\n",
        "#ph = input('Digite o valor do ph: ')\n",
        "##sul = input('Digite o valor dos sulfatos: ')\n",
        "#alc = input('Digite o valor do alcóol: ')\n",
        "\n",
        "#previsao = naive_wine.predict([[fa, va, cd, rs, cl, fsd, tsd, D, ph, sul, alc]])\n",
        "#previsao"
      ],
      "metadata": {
        "id": "NTF9fAYeZNhz"
      },
      "execution_count": 571,
      "outputs": []
    },
    {
      "cell_type": "code",
      "source": [
        "SVM_wine = SVC(kernel='poly', random_state=1, C = 1.0)             \n",
        "SVM_wine.fit(x_wine_treinamento, y_wine_treinamento)\n",
        "\n",
        "previsoes = SVM_wine.predict(x_wine_teste)\n",
        "previsoes\n",
        "\n",
        "accuracy = accuracy_score(y_wine_teste,previsoes)\n",
        "accuracy\n",
        "\n",
        "cm = ConfusionMatrix(SVM_wine)\n",
        "cm.fit(x_wine_treinamento, y_wine_treinamento)\n",
        "cm.score(x_wine_teste, y_wine_teste)"
      ],
      "metadata": {
        "colab": {
          "base_uri": "https://localhost:8080/",
          "height": 361
        },
        "id": "1CgUZBjfE46a",
        "outputId": "768a6c1e-7226-4298-9024-bee8db7ec885"
      },
      "execution_count": 572,
      "outputs": [
        {
          "output_type": "execute_result",
          "data": {
            "text/plain": [
              "0.49"
            ]
          },
          "metadata": {},
          "execution_count": 572
        },
        {
          "output_type": "display_data",
          "data": {
            "text/plain": [
              "<Figure size 576x396 with 1 Axes>"
            ],
            "image/png": "[encoded data removed]"
          },
          "metadata": {}
        }
      ]
    },
    {
      "cell_type": "code",
      "source": [
        "SVM_wine = SVC(kernel='poly', random_state=1, C = 1.0)             \n",
        "SVM_wine.fit(x_wine_treinamento, y_wine_treinamento)\n",
        "\n",
        "previsoes = SVM_wine.predict(x_wine_teste)\n",
        "previsoes\n",
        "\n",
        "accuracy = accuracy_score(y_wine_teste,previsoes)\n",
        "accuracy\n",
        "\n",
        "cm = ConfusionMatrix(SVM_wine)\n",
        "cm.fit(x_wine_treinamento, y_wine_treinamento)\n",
        "cm.score(x_wine_teste, y_wine_teste)"
      ],
      "metadata": {
        "colab": {
          "base_uri": "https://localhost:8080/",
          "height": 361
        },
        "id": "W6ehbE9DFfVS",
        "outputId": "4ec1cb8d-1fa2-4d5a-b543-f86d45c008de"
      },
      "execution_count": 573,
      "outputs": [
        {
          "output_type": "execute_result",
          "data": {
            "text/plain": [
              "0.49"
            ]
          },
          "metadata": {},
          "execution_count": 573
        },
        {
          "output_type": "display_data",
          "data": {
            "text/plain": [
              "<Figure size 576x396 with 1 Axes>"
            ],
            "image/png": "[encoded data removed]"
          },
          "metadata": {}
        }
      ]
    },
    {
      "cell_type": "code",
      "source": [
        "x_wine"
      ],
      "metadata": {
        "colab": {
          "base_uri": "https://localhost:8080/"
        },
        "id": "PZyuXXLIFfM_",
        "outputId": "e532de6d-4eea-4586-d223-e5e5b77c1cc2"
      },
      "execution_count": 574,
      "outputs": [
        {
          "output_type": "execute_result",
          "data": {
            "text/plain": [
              "array([[ 7.4  ,  0.7  ,  0.   , ...,  3.51 ,  0.56 ,  9.4  ],\n",
              "       [ 7.8  ,  0.88 ,  0.   , ...,  3.2  ,  0.68 ,  9.8  ],\n",
              "       [ 7.8  ,  0.76 ,  0.04 , ...,  3.26 ,  0.65 ,  9.8  ],\n",
              "       ...,\n",
              "       [ 6.3  ,  0.51 ,  0.13 , ...,  3.42 ,  0.75 , 11.   ],\n",
              "       [ 5.9  ,  0.645,  0.12 , ...,  3.57 ,  0.71 , 10.2  ],\n",
              "       [ 6.   ,  0.31 ,  0.47 , ...,  3.39 ,  0.66 , 11.   ]])"
            ]
          },
          "metadata": {},
          "execution_count": 574
        }
      ]
    },
    {
      "cell_type": "code",
      "source": [
        "y_wine"
      ],
      "metadata": {
        "colab": {
          "base_uri": "https://localhost:8080/"
        },
        "id": "rE8H9AvwF1p3",
        "outputId": "36992afc-0ee9-4fef-98f9-07a04ae36d64"
      },
      "execution_count": 575,
      "outputs": [
        {
          "output_type": "execute_result",
          "data": {
            "text/plain": [
              "array([5, 5, 5, ..., 6, 5, 6])"
            ]
          },
          "metadata": {},
          "execution_count": 575
        }
      ]
    },
    {
      "cell_type": "code",
      "source": [
        "arvore_wine_quality = DecisionTreeClassifier(criterion='entropy')               \n",
        "arvore_wine_quality.fit(x_wine, y_wine)  "
      ],
      "metadata": {
        "colab": {
          "base_uri": "https://localhost:8080/"
        },
        "id": "Kk-XHAv4F1nU",
        "outputId": "48a9d4bb-3d4b-4359-f325-fc89fcc25b50"
      },
      "execution_count": 576,
      "outputs": [
        {
          "output_type": "execute_result",
          "data": {
            "text/plain": [
              "DecisionTreeClassifier(criterion='entropy')"
            ]
          },
          "metadata": {},
          "execution_count": 576
        }
      ]
    },
    {
      "cell_type": "code",
      "source": [
        "arvore_wine_quality.feature_importances_  "
      ],
      "metadata": {
        "colab": {
          "base_uri": "https://localhost:8080/"
        },
        "id": "Mn7Fd5mcGcoj",
        "outputId": "881af3cd-d748-45cc-8725-482e467ae567"
      },
      "execution_count": 577,
      "outputs": [
        {
          "output_type": "execute_result",
          "data": {
            "text/plain": [
              "array([0.0431667 , 0.12156886, 0.06920699, 0.0587851 , 0.0784612 ,\n",
              "       0.06453498, 0.08771199, 0.05703694, 0.07737393, 0.155033  ,\n",
              "       0.1871203 ])"
            ]
          },
          "metadata": {},
          "execution_count": 577
        }
      ]
    },
    {
      "cell_type": "code",
      "source": [
        "from sklearn import tree\n",
        "tree.plot_tree(arvore_wine_quality);"
      ],
      "metadata": {
        "colab": {
          "base_uri": "https://localhost:8080/",
          "height": 330
        },
        "id": "Jh3teq-JGchy",
        "outputId": "96741857-369a-45ae-f83c-c46bdfee3626"
      },
      "execution_count": 578,
      "outputs": [
        {
          "output_type": "display_data",
          "data": {
            "text/plain": [
              "<Figure size 576x396 with 1 Axes>"
            ],
            "image/png": "[encoded data removed]"
          },
          "metadata": {}
        }
      ]
    },
    {
      "cell_type": "code",
      "source": [
        "accuracy = accuracy_score(y_wine_teste, previsoes)               \n",
        "accuracy"
      ],
      "metadata": {
        "colab": {
          "base_uri": "https://localhost:8080/"
        },
        "id": "B_Yel9DYISed",
        "outputId": "dca41ccd-332e-4892-eed2-f6d8b0cf801f"
      },
      "execution_count": 579,
      "outputs": [
        {
          "output_type": "execute_result",
          "data": {
            "text/plain": [
              "0.49"
            ]
          },
          "metadata": {},
          "execution_count": 579
        }
      ]
    }
  ]
}